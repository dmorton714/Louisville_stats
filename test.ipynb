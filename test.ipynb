{
 "cells": [
  {
   "cell_type": "code",
   "execution_count": 3,
   "metadata": {},
   "outputs": [],
   "source": [
    "import pandas as pd\n",
    "\n",
    "df = pd.read_csv('data/SalaryData.csv')"
   ]
  },
  {
   "cell_type": "code",
   "execution_count": 4,
   "metadata": {},
   "outputs": [
    {
     "data": {
      "text/html": [
       "<div>\n",
       "<style scoped>\n",
       "    .dataframe tbody tr th:only-of-type {\n",
       "        vertical-align: middle;\n",
       "    }\n",
       "\n",
       "    .dataframe tbody tr th {\n",
       "        vertical-align: top;\n",
       "    }\n",
       "\n",
       "    .dataframe thead th {\n",
       "        text-align: right;\n",
       "    }\n",
       "</style>\n",
       "<table border=\"1\" class=\"dataframe\">\n",
       "  <thead>\n",
       "    <tr style=\"text-align: right;\">\n",
       "      <th></th>\n",
       "      <th>CalYear</th>\n",
       "      <th>Employee_Name</th>\n",
       "      <th>Department</th>\n",
       "      <th>jobTitle</th>\n",
       "      <th>Annual_Rate</th>\n",
       "      <th>Regular_Rate</th>\n",
       "      <th>Overtime_Rate</th>\n",
       "      <th>Incentive_Allowance</th>\n",
       "      <th>Other</th>\n",
       "      <th>YTD_Total</th>\n",
       "      <th>ObjectId</th>\n",
       "    </tr>\n",
       "  </thead>\n",
       "  <tbody>\n",
       "    <tr>\n",
       "      <th>0</th>\n",
       "      <td>2023</td>\n",
       "      <td>Summers, William E</td>\n",
       "      <td>OMB Finance</td>\n",
       "      <td>Board Member</td>\n",
       "      <td>5200.0</td>\n",
       "      <td>1600.00</td>\n",
       "      <td>0.00</td>\n",
       "      <td>0.00</td>\n",
       "      <td>NaN</td>\n",
       "      <td>1600.00</td>\n",
       "      <td>1</td>\n",
       "    </tr>\n",
       "    <tr>\n",
       "      <th>1</th>\n",
       "      <td>2023</td>\n",
       "      <td>Martin, David</td>\n",
       "      <td>Louisville Free Public Library</td>\n",
       "      <td>Library Page LU</td>\n",
       "      <td>30160.0</td>\n",
       "      <td>29857.64</td>\n",
       "      <td>0.00</td>\n",
       "      <td>800.00</td>\n",
       "      <td>NaN</td>\n",
       "      <td>30657.64</td>\n",
       "      <td>2</td>\n",
       "    </tr>\n",
       "    <tr>\n",
       "      <th>2</th>\n",
       "      <td>2023</td>\n",
       "      <td>Bratcher, Elaine</td>\n",
       "      <td>Louisville Metro Police Department</td>\n",
       "      <td>Clerk II-Police</td>\n",
       "      <td>39894.4</td>\n",
       "      <td>39894.41</td>\n",
       "      <td>0.00</td>\n",
       "      <td>1563.12</td>\n",
       "      <td>NaN</td>\n",
       "      <td>41457.53</td>\n",
       "      <td>3</td>\n",
       "    </tr>\n",
       "    <tr>\n",
       "      <th>3</th>\n",
       "      <td>2023</td>\n",
       "      <td>Jackson, Nila Marie</td>\n",
       "      <td>Louisville Metro Police Department</td>\n",
       "      <td>Traffic Guard I</td>\n",
       "      <td>15912.0</td>\n",
       "      <td>18451.78</td>\n",
       "      <td>310.89</td>\n",
       "      <td>1000.00</td>\n",
       "      <td>NaN</td>\n",
       "      <td>19823.87</td>\n",
       "      <td>4</td>\n",
       "    </tr>\n",
       "    <tr>\n",
       "      <th>4</th>\n",
       "      <td>2023</td>\n",
       "      <td>Ammon, Darrell Sheridan</td>\n",
       "      <td>Louisville Metro Police Department</td>\n",
       "      <td>Criminal Justice Specialist</td>\n",
       "      <td>61796.8</td>\n",
       "      <td>58513.88</td>\n",
       "      <td>0.00</td>\n",
       "      <td>0.00</td>\n",
       "      <td>NaN</td>\n",
       "      <td>58513.88</td>\n",
       "      <td>5</td>\n",
       "    </tr>\n",
       "  </tbody>\n",
       "</table>\n",
       "</div>"
      ],
      "text/plain": [
       "   CalYear            Employee_Name                          Department  \\\n",
       "0     2023       Summers, William E                         OMB Finance   \n",
       "1     2023            Martin, David      Louisville Free Public Library   \n",
       "2     2023         Bratcher, Elaine  Louisville Metro Police Department   \n",
       "3     2023      Jackson, Nila Marie  Louisville Metro Police Department   \n",
       "4     2023  Ammon, Darrell Sheridan  Louisville Metro Police Department   \n",
       "\n",
       "                      jobTitle  Annual_Rate  Regular_Rate  Overtime_Rate  \\\n",
       "0                 Board Member       5200.0       1600.00           0.00   \n",
       "1              Library Page LU      30160.0      29857.64           0.00   \n",
       "2              Clerk II-Police      39894.4      39894.41           0.00   \n",
       "3              Traffic Guard I      15912.0      18451.78         310.89   \n",
       "4  Criminal Justice Specialist      61796.8      58513.88           0.00   \n",
       "\n",
       "   Incentive_Allowance  Other  YTD_Total  ObjectId  \n",
       "0                 0.00    NaN    1600.00         1  \n",
       "1               800.00    NaN   30657.64         2  \n",
       "2              1563.12    NaN   41457.53         3  \n",
       "3              1000.00    NaN   19823.87         4  \n",
       "4                 0.00    NaN   58513.88         5  "
      ]
     },
     "execution_count": 4,
     "metadata": {},
     "output_type": "execute_result"
    }
   ],
   "source": [
    "df.head()"
   ]
  },
  {
   "cell_type": "code",
   "execution_count": 5,
   "metadata": {},
   "outputs": [
    {
     "data": {
      "text/plain": [
       "CalYear\n",
       "2024    7136\n",
       "2023    6988\n",
       "2019    6865\n",
       "2022    6731\n",
       "2021    6674\n",
       "2020    6488\n",
       "Name: count, dtype: int64"
      ]
     },
     "execution_count": 5,
     "metadata": {},
     "output_type": "execute_result"
    }
   ],
   "source": [
    "df['CalYear'].value_counts()"
   ]
  }
 ],
 "metadata": {
  "kernelspec": {
   "display_name": "venv",
   "language": "python",
   "name": "python3"
  },
  "language_info": {
   "codemirror_mode": {
    "name": "ipython",
    "version": 3
   },
   "file_extension": ".py",
   "mimetype": "text/x-python",
   "name": "python",
   "nbconvert_exporter": "python",
   "pygments_lexer": "ipython3",
   "version": "3.12.2"
  }
 },
 "nbformat": 4,
 "nbformat_minor": 2
}
