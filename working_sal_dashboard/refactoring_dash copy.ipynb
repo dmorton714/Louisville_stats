{
 "cells": [
  {
   "cell_type": "code",
   "execution_count": 4,
   "metadata": {},
   "outputs": [],
   "source": [
    "import pandas as pd\n",
    "import numpy as np\n",
    "from datetime import datetime\n",
    "import plotly.graph_objects as go\n",
    "from selenium import webdriver\n",
    "from selenium.webdriver.common.by import By\n",
    "from selenium.webdriver.chrome.service import Service\n",
    "from webdriver_manager.chrome import ChromeDriverManager"
   ]
  },
  {
   "cell_type": "markdown",
   "metadata": {},
   "source": [
    "<pre>\n",
    "+---------------------------------------------------------------------------------------------------------+\n",
    "|+-------------------------------------------------------------------------------------------------------+|\n",
    "||[1. logo] 2. Louisville Metro Government Salary tracker   [3. Department drop down][ 4. year drop down]|| \n",
    "|+-------------------------------------------------------------------------------------------------------+|\n",
    "|+--------+     6. salary spend 8. actual salary spend +-----+     +-------------------------------------+|\n",
    "||5. plot |     7. salary data  9. salary data         |12. %|     |  11. horizontal bar plot department || \n",
    "||        |                                            +-----+     |                                     || \n",
    "|+--------+                                                        |                                     || \n",
    "|                                                                  |                                     || \n",
    "|+---------------------------------------------------------------+ |                                     || \n",
    "|| 10. Top employees salary deviation data frame                 | |                                     || \n",
    "||                                                               | |                                     || \n",
    "||                                                               | |                                     || \n",
    "||                                                               | |                                     || \n",
    "||                                                               | |                                     || \n",
    "||                                                               | |                                     || \n",
    "||                                                               | |                                     || \n",
    "|+---------------------------------------------------------------+ +-------------------------------------+|\n",
    "+---------------------------------------------------------------------------------------------------------+\n",
    "</pre>\n"
   ]
  },
  {
   "cell_type": "code",
   "execution_count": 5,
   "metadata": {},
   "outputs": [
    {
     "name": "stdout",
     "output_type": "stream",
     "text": [
      "Data Updated Date: April 11, 2025\n",
      "Label: Data Updated\n"
     ]
    }
   ],
   "source": [
    "def check_data_updated():\n",
    "    '''\n",
    "    This function checks when the salary data was last updated\n",
    "    to calculate 2024 salary data later.\n",
    "    '''\n",
    "    # Set up Selenium WebDriver\n",
    "    driver = webdriver.Chrome(service=Service(ChromeDriverManager().install()))\n",
    "\n",
    "    # URL of the page containing the data update info\n",
    "    url = \"https://data.louisvilleky.gov/datasets/8bd82421c9b94c37925fb37edaa1c5e8_0/explore\"\n",
    "\n",
    "    # Open the URL with Selenium\n",
    "    driver.get(url)\n",
    "\n",
    "    # Give some time for the page to load\n",
    "    driver.implicitly_wait(5)\n",
    "\n",
    "    # Targeting the specific list item that contains the \"Data Updated\" date and label\n",
    "    data_updated_item = driver.find_element(By.CSS_SELECTOR, \"li.metadata-item[data-test='modified']\")\n",
    "\n",
    "    # Extract both the date and label text\n",
    "    date_div = data_updated_item.find_elements(By.TAG_NAME, 'div')[0].text\n",
    "    label_div = data_updated_item.find_elements(By.TAG_NAME, 'div')[1].text\n",
    "\n",
    "    # Print the extracted information\n",
    "    print(f\"Data Updated Date: {date_div}\")\n",
    "    print(f\"Label: {label_div}\")\n",
    "\n",
    "    # Close the driver\n",
    "    driver.quit()\n",
    "\n",
    "# Call the function to check data update information\n",
    "check_data_updated()\n"
   ]
  },
  {
   "cell_type": "code",
   "execution_count": 6,
   "metadata": {},
   "outputs": [],
   "source": [
    "data = pd.read_csv(\"../data/salary2.csv\")"
   ]
  },
  {
   "cell_type": "code",
   "execution_count": 7,
   "metadata": {},
   "outputs": [],
   "source": [
    "date_div = 'November 27, 2024'"
   ]
  },
  {
   "cell_type": "code",
   "execution_count": 8,
   "metadata": {},
   "outputs": [],
   "source": [
    "def process_salary_data(data, date_div):\n",
    "    '''\n",
    "    This function processes the salary data by performing several transformations:\n",
    "    - Drops unnecessary columns\n",
    "    - Calculates total expected salary\n",
    "    - Fills missing values with 0\n",
    "    - Merges department names\n",
    "    - Calculates total weekly hours worked\n",
    "    - Converts date to datetime and computes week and year for adjustments\n",
    "    - Adjusts the annual rate for the specified year and week\n",
    "\n",
    "    Args:\n",
    "        data (pd.DataFrame): The input DataFrame with salary data\n",
    "        date_div (str): The date string (from the check_data_updated function) to determine the week and year\n",
    "\n",
    "    Returns:\n",
    "        pd.DataFrame: The processed salary data\n",
    "    '''\n",
    "    # Drops columns we don't need\n",
    "    cols_to_drop = ['jobTitle', 'Other', 'ObjectId']\n",
    "    data = data.drop(columns=cols_to_drop)\n",
    "\n",
    "    # Calculates total expected salary\n",
    "    data['Salary_Total'] = data['Annual_Rate'] + data['Incentive_Allowance']\n",
    "\n",
    "    # Filling missing data with 0\n",
    "    data = data.fillna(0)\n",
    "\n",
    "    # Merging the departments together\n",
    "    data['Department'] = data['Department'].replace('Louisville Metro Police', 'Louisville Metro Police Department')\n",
    "    data['Department'] = data['Department'].replace('Department of Corrections', 'Metro Corrections')\n",
    "\n",
    "    # Calculates total weekly hours worked\n",
    "    data['Hr_Rate'] = data['Regular_Rate'] / 2080\n",
    "    data['Ot_Rate'] = data['Hr_Rate'] * 1.5\n",
    "    data['Hr_Worked'] = data['Overtime_Rate'] / data['Ot_Rate'] / 52 + 40\n",
    "    data.replace([np.inf, -np.inf], 40, inplace=True)\n",
    "\n",
    "    # Convert the string to a datetime object\n",
    "    date_object = datetime.strptime(date_div, \"%B %d, %Y\")\n",
    "\n",
    "    # Get the week number of the calendar year\n",
    "    week = date_object.isocalendar()[1]\n",
    "\n",
    "    # Get the calendar year\n",
    "    c_year = date_object.year\n",
    "\n",
    "    # Check if there are any rows where the CalYear is equal to the specified c_year\n",
    "    if (data['CalYear'] == c_year).any():\n",
    "        # Convert Annual_Rate to weekly rate by dividing by 52\n",
    "        data.loc[data['CalYear'] == c_year, 'Annual_Rate'] = data.loc[data['CalYear'] == c_year, 'Annual_Rate'] / 52\n",
    "\n",
    "        # Scale the weekly rate for the specific week\n",
    "        data.loc[data['CalYear'] == c_year, 'Annual_Rate'] = data.loc[data['CalYear'] == c_year, 'Annual_Rate'] * week\n",
    "\n",
    "    return data\n"
   ]
  },
  {
   "cell_type": "code",
   "execution_count": 9,
   "metadata": {},
   "outputs": [
    {
     "data": {
      "text/html": [
       "<div>\n",
       "<style scoped>\n",
       "    .dataframe tbody tr th:only-of-type {\n",
       "        vertical-align: middle;\n",
       "    }\n",
       "\n",
       "    .dataframe tbody tr th {\n",
       "        vertical-align: top;\n",
       "    }\n",
       "\n",
       "    .dataframe thead th {\n",
       "        text-align: right;\n",
       "    }\n",
       "</style>\n",
       "<table border=\"1\" class=\"dataframe\">\n",
       "  <thead>\n",
       "    <tr style=\"text-align: right;\">\n",
       "      <th></th>\n",
       "      <th>CalYear</th>\n",
       "      <th>Employee_Name</th>\n",
       "      <th>Department</th>\n",
       "      <th>Annual_Rate</th>\n",
       "      <th>Regular_Rate</th>\n",
       "      <th>Overtime_Rate</th>\n",
       "      <th>Incentive_Allowance</th>\n",
       "      <th>YTD_Total</th>\n",
       "      <th>Salary_Total</th>\n",
       "      <th>Hr_Rate</th>\n",
       "      <th>Ot_Rate</th>\n",
       "      <th>Hr_Worked</th>\n",
       "    </tr>\n",
       "  </thead>\n",
       "  <tbody>\n",
       "    <tr>\n",
       "      <th>0</th>\n",
       "      <td>2025</td>\n",
       "      <td>Suttles, Larry D</td>\n",
       "      <td>Louisville Metro Police Department</td>\n",
       "      <td>130915.2</td>\n",
       "      <td>4734.52</td>\n",
       "      <td>22.98</td>\n",
       "      <td>170.4</td>\n",
       "      <td>21887.09</td>\n",
       "      <td>131085.6</td>\n",
       "      <td>2.276212</td>\n",
       "      <td>3.414317</td>\n",
       "      <td>40.129432</td>\n",
       "    </tr>\n",
       "    <tr>\n",
       "      <th>1</th>\n",
       "      <td>2025</td>\n",
       "      <td>Gieszl, Robert E</td>\n",
       "      <td>Louisville Free Public Library</td>\n",
       "      <td>61796.8</td>\n",
       "      <td>16637.66</td>\n",
       "      <td>0.00</td>\n",
       "      <td>0.0</td>\n",
       "      <td>16651.66</td>\n",
       "      <td>61796.8</td>\n",
       "      <td>7.998875</td>\n",
       "      <td>11.998313</td>\n",
       "      <td>40.000000</td>\n",
       "    </tr>\n",
       "    <tr>\n",
       "      <th>2</th>\n",
       "      <td>2025</td>\n",
       "      <td>Weidner, Christa Leigh</td>\n",
       "      <td>Parks &amp; Recreation</td>\n",
       "      <td>55827.2</td>\n",
       "      <td>15030.41</td>\n",
       "      <td>0.00</td>\n",
       "      <td>0.0</td>\n",
       "      <td>15030.41</td>\n",
       "      <td>55827.2</td>\n",
       "      <td>7.226159</td>\n",
       "      <td>10.839238</td>\n",
       "      <td>40.000000</td>\n",
       "    </tr>\n",
       "    <tr>\n",
       "      <th>3</th>\n",
       "      <td>2025</td>\n",
       "      <td>Jones, Anton Darnell</td>\n",
       "      <td>Parks &amp; Recreation</td>\n",
       "      <td>41454.4</td>\n",
       "      <td>11160.80</td>\n",
       "      <td>0.00</td>\n",
       "      <td>0.0</td>\n",
       "      <td>11160.80</td>\n",
       "      <td>41454.4</td>\n",
       "      <td>5.365769</td>\n",
       "      <td>8.048654</td>\n",
       "      <td>40.000000</td>\n",
       "    </tr>\n",
       "    <tr>\n",
       "      <th>4</th>\n",
       "      <td>2025</td>\n",
       "      <td>Quiggins, Robert L</td>\n",
       "      <td>Facilities and Fleet Management</td>\n",
       "      <td>72800.0</td>\n",
       "      <td>28061.57</td>\n",
       "      <td>3944.17</td>\n",
       "      <td>300.0</td>\n",
       "      <td>32305.74</td>\n",
       "      <td>73100.0</td>\n",
       "      <td>13.491139</td>\n",
       "      <td>20.236709</td>\n",
       "      <td>43.748111</td>\n",
       "    </tr>\n",
       "  </tbody>\n",
       "</table>\n",
       "</div>"
      ],
      "text/plain": [
       "   CalYear           Employee_Name                          Department  \\\n",
       "0     2025        Suttles, Larry D  Louisville Metro Police Department   \n",
       "1     2025        Gieszl, Robert E      Louisville Free Public Library   \n",
       "2     2025  Weidner, Christa Leigh                  Parks & Recreation   \n",
       "3     2025    Jones, Anton Darnell                  Parks & Recreation   \n",
       "4     2025      Quiggins, Robert L     Facilities and Fleet Management   \n",
       "\n",
       "   Annual_Rate  Regular_Rate  Overtime_Rate  Incentive_Allowance  YTD_Total  \\\n",
       "0     130915.2       4734.52          22.98                170.4   21887.09   \n",
       "1      61796.8      16637.66           0.00                  0.0   16651.66   \n",
       "2      55827.2      15030.41           0.00                  0.0   15030.41   \n",
       "3      41454.4      11160.80           0.00                  0.0   11160.80   \n",
       "4      72800.0      28061.57        3944.17                300.0   32305.74   \n",
       "\n",
       "   Salary_Total    Hr_Rate    Ot_Rate  Hr_Worked  \n",
       "0      131085.6   2.276212   3.414317  40.129432  \n",
       "1       61796.8   7.998875  11.998313  40.000000  \n",
       "2       55827.2   7.226159  10.839238  40.000000  \n",
       "3       41454.4   5.365769   8.048654  40.000000  \n",
       "4       73100.0  13.491139  20.236709  43.748111  "
      ]
     },
     "execution_count": 9,
     "metadata": {},
     "output_type": "execute_result"
    }
   ],
   "source": [
    "data = process_salary_data(data, date_div)\n",
    "data.head()"
   ]
  },
  {
   "cell_type": "markdown",
   "metadata": {},
   "source": [
    "# code for 5\n",
    "\n"
   ]
  },
  {
   "cell_type": "code",
   "execution_count": 10,
   "metadata": {},
   "outputs": [
    {
     "data": {
      "application/vnd.plotly.v1+json": {
       "config": {
        "plotlyServerURL": "https://plot.ly"
       },
       "data": [
        {
         "delta": {
          "decreasing": {
           "color": "green"
          },
          "increasing": {
           "color": "red"
          },
          "reference": 397764603.76
         },
         "gauge": {
          "axis": {
           "range": [
            0,
            437541064.13600004
           ]
          },
          "bar": {
           "color": "rgba(0,0,0,0)"
          },
          "steps": [
           {
            "color": "#004080",
            "range": [
             0,
             397764603.76
            ]
           }
          ],
          "threshold": {
           "line": {
            "color": "red",
            "width": 4
           },
           "thickness": 0.95,
           "value": 116050333.21
          }
         },
         "mode": "gauge+number+delta",
         "title": {
          "font": {
           "size": 20
          },
          "text": "2025 Budgeted Salary Spend vs. Salary Spend Actual"
         },
         "type": "indicator",
         "value": 116050333.21
        }
       ],
       "layout": {
        "template": {
         "data": {
          "bar": [
           {
            "error_x": {
             "color": "#2a3f5f"
            },
            "error_y": {
             "color": "#2a3f5f"
            },
            "marker": {
             "line": {
              "color": "#E5ECF6",
              "width": 0.5
             },
             "pattern": {
              "fillmode": "overlay",
              "size": 10,
              "solidity": 0.2
             }
            },
            "type": "bar"
           }
          ],
          "barpolar": [
           {
            "marker": {
             "line": {
              "color": "#E5ECF6",
              "width": 0.5
             },
             "pattern": {
              "fillmode": "overlay",
              "size": 10,
              "solidity": 0.2
             }
            },
            "type": "barpolar"
           }
          ],
          "carpet": [
           {
            "aaxis": {
             "endlinecolor": "#2a3f5f",
             "gridcolor": "white",
             "linecolor": "white",
             "minorgridcolor": "white",
             "startlinecolor": "#2a3f5f"
            },
            "baxis": {
             "endlinecolor": "#2a3f5f",
             "gridcolor": "white",
             "linecolor": "white",
             "minorgridcolor": "white",
             "startlinecolor": "#2a3f5f"
            },
            "type": "carpet"
           }
          ],
          "choropleth": [
           {
            "colorbar": {
             "outlinewidth": 0,
             "ticks": ""
            },
            "type": "choropleth"
           }
          ],
          "contour": [
           {
            "colorbar": {
             "outlinewidth": 0,
             "ticks": ""
            },
            "colorscale": [
             [
              0,
              "#0d0887"
             ],
             [
              0.1111111111111111,
              "#46039f"
             ],
             [
              0.2222222222222222,
              "#7201a8"
             ],
             [
              0.3333333333333333,
              "#9c179e"
             ],
             [
              0.4444444444444444,
              "#bd3786"
             ],
             [
              0.5555555555555556,
              "#d8576b"
             ],
             [
              0.6666666666666666,
              "#ed7953"
             ],
             [
              0.7777777777777778,
              "#fb9f3a"
             ],
             [
              0.8888888888888888,
              "#fdca26"
             ],
             [
              1,
              "#f0f921"
             ]
            ],
            "type": "contour"
           }
          ],
          "contourcarpet": [
           {
            "colorbar": {
             "outlinewidth": 0,
             "ticks": ""
            },
            "type": "contourcarpet"
           }
          ],
          "heatmap": [
           {
            "colorbar": {
             "outlinewidth": 0,
             "ticks": ""
            },
            "colorscale": [
             [
              0,
              "#0d0887"
             ],
             [
              0.1111111111111111,
              "#46039f"
             ],
             [
              0.2222222222222222,
              "#7201a8"
             ],
             [
              0.3333333333333333,
              "#9c179e"
             ],
             [
              0.4444444444444444,
              "#bd3786"
             ],
             [
              0.5555555555555556,
              "#d8576b"
             ],
             [
              0.6666666666666666,
              "#ed7953"
             ],
             [
              0.7777777777777778,
              "#fb9f3a"
             ],
             [
              0.8888888888888888,
              "#fdca26"
             ],
             [
              1,
              "#f0f921"
             ]
            ],
            "type": "heatmap"
           }
          ],
          "heatmapgl": [
           {
            "colorbar": {
             "outlinewidth": 0,
             "ticks": ""
            },
            "colorscale": [
             [
              0,
              "#0d0887"
             ],
             [
              0.1111111111111111,
              "#46039f"
             ],
             [
              0.2222222222222222,
              "#7201a8"
             ],
             [
              0.3333333333333333,
              "#9c179e"
             ],
             [
              0.4444444444444444,
              "#bd3786"
             ],
             [
              0.5555555555555556,
              "#d8576b"
             ],
             [
              0.6666666666666666,
              "#ed7953"
             ],
             [
              0.7777777777777778,
              "#fb9f3a"
             ],
             [
              0.8888888888888888,
              "#fdca26"
             ],
             [
              1,
              "#f0f921"
             ]
            ],
            "type": "heatmapgl"
           }
          ],
          "histogram": [
           {
            "marker": {
             "pattern": {
              "fillmode": "overlay",
              "size": 10,
              "solidity": 0.2
             }
            },
            "type": "histogram"
           }
          ],
          "histogram2d": [
           {
            "colorbar": {
             "outlinewidth": 0,
             "ticks": ""
            },
            "colorscale": [
             [
              0,
              "#0d0887"
             ],
             [
              0.1111111111111111,
              "#46039f"
             ],
             [
              0.2222222222222222,
              "#7201a8"
             ],
             [
              0.3333333333333333,
              "#9c179e"
             ],
             [
              0.4444444444444444,
              "#bd3786"
             ],
             [
              0.5555555555555556,
              "#d8576b"
             ],
             [
              0.6666666666666666,
              "#ed7953"
             ],
             [
              0.7777777777777778,
              "#fb9f3a"
             ],
             [
              0.8888888888888888,
              "#fdca26"
             ],
             [
              1,
              "#f0f921"
             ]
            ],
            "type": "histogram2d"
           }
          ],
          "histogram2dcontour": [
           {
            "colorbar": {
             "outlinewidth": 0,
             "ticks": ""
            },
            "colorscale": [
             [
              0,
              "#0d0887"
             ],
             [
              0.1111111111111111,
              "#46039f"
             ],
             [
              0.2222222222222222,
              "#7201a8"
             ],
             [
              0.3333333333333333,
              "#9c179e"
             ],
             [
              0.4444444444444444,
              "#bd3786"
             ],
             [
              0.5555555555555556,
              "#d8576b"
             ],
             [
              0.6666666666666666,
              "#ed7953"
             ],
             [
              0.7777777777777778,
              "#fb9f3a"
             ],
             [
              0.8888888888888888,
              "#fdca26"
             ],
             [
              1,
              "#f0f921"
             ]
            ],
            "type": "histogram2dcontour"
           }
          ],
          "mesh3d": [
           {
            "colorbar": {
             "outlinewidth": 0,
             "ticks": ""
            },
            "type": "mesh3d"
           }
          ],
          "parcoords": [
           {
            "line": {
             "colorbar": {
              "outlinewidth": 0,
              "ticks": ""
             }
            },
            "type": "parcoords"
           }
          ],
          "pie": [
           {
            "automargin": true,
            "type": "pie"
           }
          ],
          "scatter": [
           {
            "fillpattern": {
             "fillmode": "overlay",
             "size": 10,
             "solidity": 0.2
            },
            "type": "scatter"
           }
          ],
          "scatter3d": [
           {
            "line": {
             "colorbar": {
              "outlinewidth": 0,
              "ticks": ""
             }
            },
            "marker": {
             "colorbar": {
              "outlinewidth": 0,
              "ticks": ""
             }
            },
            "type": "scatter3d"
           }
          ],
          "scattercarpet": [
           {
            "marker": {
             "colorbar": {
              "outlinewidth": 0,
              "ticks": ""
             }
            },
            "type": "scattercarpet"
           }
          ],
          "scattergeo": [
           {
            "marker": {
             "colorbar": {
              "outlinewidth": 0,
              "ticks": ""
             }
            },
            "type": "scattergeo"
           }
          ],
          "scattergl": [
           {
            "marker": {
             "colorbar": {
              "outlinewidth": 0,
              "ticks": ""
             }
            },
            "type": "scattergl"
           }
          ],
          "scattermapbox": [
           {
            "marker": {
             "colorbar": {
              "outlinewidth": 0,
              "ticks": ""
             }
            },
            "type": "scattermapbox"
           }
          ],
          "scatterpolar": [
           {
            "marker": {
             "colorbar": {
              "outlinewidth": 0,
              "ticks": ""
             }
            },
            "type": "scatterpolar"
           }
          ],
          "scatterpolargl": [
           {
            "marker": {
             "colorbar": {
              "outlinewidth": 0,
              "ticks": ""
             }
            },
            "type": "scatterpolargl"
           }
          ],
          "scatterternary": [
           {
            "marker": {
             "colorbar": {
              "outlinewidth": 0,
              "ticks": ""
             }
            },
            "type": "scatterternary"
           }
          ],
          "surface": [
           {
            "colorbar": {
             "outlinewidth": 0,
             "ticks": ""
            },
            "colorscale": [
             [
              0,
              "#0d0887"
             ],
             [
              0.1111111111111111,
              "#46039f"
             ],
             [
              0.2222222222222222,
              "#7201a8"
             ],
             [
              0.3333333333333333,
              "#9c179e"
             ],
             [
              0.4444444444444444,
              "#bd3786"
             ],
             [
              0.5555555555555556,
              "#d8576b"
             ],
             [
              0.6666666666666666,
              "#ed7953"
             ],
             [
              0.7777777777777778,
              "#fb9f3a"
             ],
             [
              0.8888888888888888,
              "#fdca26"
             ],
             [
              1,
              "#f0f921"
             ]
            ],
            "type": "surface"
           }
          ],
          "table": [
           {
            "cells": {
             "fill": {
              "color": "#EBF0F8"
             },
             "line": {
              "color": "white"
             }
            },
            "header": {
             "fill": {
              "color": "#C8D4E3"
             },
             "line": {
              "color": "white"
             }
            },
            "type": "table"
           }
          ]
         },
         "layout": {
          "annotationdefaults": {
           "arrowcolor": "#2a3f5f",
           "arrowhead": 0,
           "arrowwidth": 1
          },
          "autotypenumbers": "strict",
          "coloraxis": {
           "colorbar": {
            "outlinewidth": 0,
            "ticks": ""
           }
          },
          "colorscale": {
           "diverging": [
            [
             0,
             "#8e0152"
            ],
            [
             0.1,
             "#c51b7d"
            ],
            [
             0.2,
             "#de77ae"
            ],
            [
             0.3,
             "#f1b6da"
            ],
            [
             0.4,
             "#fde0ef"
            ],
            [
             0.5,
             "#f7f7f7"
            ],
            [
             0.6,
             "#e6f5d0"
            ],
            [
             0.7,
             "#b8e186"
            ],
            [
             0.8,
             "#7fbc41"
            ],
            [
             0.9,
             "#4d9221"
            ],
            [
             1,
             "#276419"
            ]
           ],
           "sequential": [
            [
             0,
             "#0d0887"
            ],
            [
             0.1111111111111111,
             "#46039f"
            ],
            [
             0.2222222222222222,
             "#7201a8"
            ],
            [
             0.3333333333333333,
             "#9c179e"
            ],
            [
             0.4444444444444444,
             "#bd3786"
            ],
            [
             0.5555555555555556,
             "#d8576b"
            ],
            [
             0.6666666666666666,
             "#ed7953"
            ],
            [
             0.7777777777777778,
             "#fb9f3a"
            ],
            [
             0.8888888888888888,
             "#fdca26"
            ],
            [
             1,
             "#f0f921"
            ]
           ],
           "sequentialminus": [
            [
             0,
             "#0d0887"
            ],
            [
             0.1111111111111111,
             "#46039f"
            ],
            [
             0.2222222222222222,
             "#7201a8"
            ],
            [
             0.3333333333333333,
             "#9c179e"
            ],
            [
             0.4444444444444444,
             "#bd3786"
            ],
            [
             0.5555555555555556,
             "#d8576b"
            ],
            [
             0.6666666666666666,
             "#ed7953"
            ],
            [
             0.7777777777777778,
             "#fb9f3a"
            ],
            [
             0.8888888888888888,
             "#fdca26"
            ],
            [
             1,
             "#f0f921"
            ]
           ]
          },
          "colorway": [
           "#636efa",
           "#EF553B",
           "#00cc96",
           "#ab63fa",
           "#FFA15A",
           "#19d3f3",
           "#FF6692",
           "#B6E880",
           "#FF97FF",
           "#FECB52"
          ],
          "font": {
           "color": "#2a3f5f"
          },
          "geo": {
           "bgcolor": "white",
           "lakecolor": "white",
           "landcolor": "#E5ECF6",
           "showlakes": true,
           "showland": true,
           "subunitcolor": "white"
          },
          "hoverlabel": {
           "align": "left"
          },
          "hovermode": "closest",
          "mapbox": {
           "style": "light"
          },
          "paper_bgcolor": "white",
          "plot_bgcolor": "#E5ECF6",
          "polar": {
           "angularaxis": {
            "gridcolor": "white",
            "linecolor": "white",
            "ticks": ""
           },
           "bgcolor": "#E5ECF6",
           "radialaxis": {
            "gridcolor": "white",
            "linecolor": "white",
            "ticks": ""
           }
          },
          "scene": {
           "xaxis": {
            "backgroundcolor": "#E5ECF6",
            "gridcolor": "white",
            "gridwidth": 2,
            "linecolor": "white",
            "showbackground": true,
            "ticks": "",
            "zerolinecolor": "white"
           },
           "yaxis": {
            "backgroundcolor": "#E5ECF6",
            "gridcolor": "white",
            "gridwidth": 2,
            "linecolor": "white",
            "showbackground": true,
            "ticks": "",
            "zerolinecolor": "white"
           },
           "zaxis": {
            "backgroundcolor": "#E5ECF6",
            "gridcolor": "white",
            "gridwidth": 2,
            "linecolor": "white",
            "showbackground": true,
            "ticks": "",
            "zerolinecolor": "white"
           }
          },
          "shapedefaults": {
           "line": {
            "color": "#2a3f5f"
           }
          },
          "ternary": {
           "aaxis": {
            "gridcolor": "white",
            "linecolor": "white",
            "ticks": ""
           },
           "baxis": {
            "gridcolor": "white",
            "linecolor": "white",
            "ticks": ""
           },
           "bgcolor": "#E5ECF6",
           "caxis": {
            "gridcolor": "white",
            "linecolor": "white",
            "ticks": ""
           }
          },
          "title": {
           "x": 0.05
          },
          "xaxis": {
           "automargin": true,
           "gridcolor": "white",
           "linecolor": "white",
           "ticks": "",
           "title": {
            "standoff": 15
           },
           "zerolinecolor": "white",
           "zerolinewidth": 2
          },
          "yaxis": {
           "automargin": true,
           "gridcolor": "white",
           "linecolor": "white",
           "ticks": "",
           "title": {
            "standoff": 15
           },
           "zerolinecolor": "white",
           "zerolinewidth": 2
          }
         }
        },
        "title": {
         "font": {
          "size": 20
         }
        }
       }
      }
     },
     "metadata": {},
     "output_type": "display_data"
    }
   ],
   "source": [
    "# Code for 5\n",
    "def plot_info(year, data) -> None:\n",
    "    gauge = data.groupby(['CalYear'])[['YTD_Total', 'Salary_Total']].sum().reset_index()\n",
    "    # Filter the data for the given year\n",
    "    year_filter = gauge[gauge['CalYear'] == year]\n",
    "    \n",
    "    # Extract actual and expected values\n",
    "    actual = year_filter['YTD_Total'].iloc[0]\n",
    "    expected = year_filter['Salary_Total'].iloc[0]\n",
    "\n",
    "    # Create the gauge plot\n",
    "    steps = [\n",
    "        {'range': [0, expected], 'color': '#004080'}  # Dark blue for expected salary\n",
    "    ]\n",
    "    \n",
    "    # Add yellow step if actual exceeds expected\n",
    "    if actual > expected:\n",
    "        steps.append({'range': [expected, actual], 'color': 'yellow'})  # Yellow for actual salary\n",
    "    \n",
    "    fig = go.Figure(go.Indicator(\n",
    "        mode=\"gauge+number+delta\",\n",
    "        value=actual,\n",
    "        delta={\n",
    "            'reference': expected,\n",
    "            'increasing': {'color': \"red\"},\n",
    "            'decreasing': {'color': \"green\"}\n",
    "        },\n",
    "        gauge={\n",
    "            'axis': {'range': [0, expected * 1.1]},  \n",
    "            'bar': {'color': 'rgba(0,0,0,0)'},\n",
    "            'steps': steps,\n",
    "            'threshold': {\n",
    "                'line': {'color': \"red\", 'width': 4},  \n",
    "                'thickness': .95,\n",
    "                'value': actual  # Place the red line at the actual\n",
    "            }\n",
    "        },\n",
    "        title={'text': f\"{year} Budgeted Salary Spend vs. Salary Spend Actual\", 'font': {'size': 20}},\n",
    "    ))\n",
    "\n",
    "    fig.update_layout(\n",
    "        title_font={'size': 20},  # Set font size for the overall layout title\n",
    "    )\n",
    "\n",
    "    # Show the figure\n",
    "    fig.show()\n",
    "\n",
    "\n",
    "# Example usage:\n",
    "plot_info(2025, data)\n"
   ]
  },
  {
   "cell_type": "code",
   "execution_count": 11,
   "metadata": {},
   "outputs": [
    {
     "data": {
      "application/vnd.plotly.v1+json": {
       "config": {
        "plotlyServerURL": "https://plot.ly"
       },
       "data": [
        {
         "delta": {
          "decreasing": {
           "color": "green"
          },
          "increasing": {
           "color": "red"
          },
          "reference": 370297977.27
         },
         "gauge": {
          "axis": {
           "range": [
            0,
            407327774.99700004
           ]
          },
          "bar": {
           "color": "rgba(0,0,0,0)"
          },
          "steps": [
           {
            "color": "#004080",
            "range": [
             0,
             370297977.27
            ]
           },
           {
            "color": "yellow",
            "range": [
             370297977.27,
             390135716.2
            ]
           }
          ],
          "threshold": {
           "line": {
            "color": "red",
            "width": 4
           },
           "thickness": 0.95,
           "value": 390135716.2
          }
         },
         "mode": "gauge+number+delta",
         "title": {
          "font": {
           "size": 20
          },
          "text": "2022 Budgeted Salary Spend vs. Salary Spend Actual"
         },
         "type": "indicator",
         "value": 390135716.2
        }
       ],
       "layout": {
        "template": {
         "data": {
          "bar": [
           {
            "error_x": {
             "color": "#2a3f5f"
            },
            "error_y": {
             "color": "#2a3f5f"
            },
            "marker": {
             "line": {
              "color": "#E5ECF6",
              "width": 0.5
             },
             "pattern": {
              "fillmode": "overlay",
              "size": 10,
              "solidity": 0.2
             }
            },
            "type": "bar"
           }
          ],
          "barpolar": [
           {
            "marker": {
             "line": {
              "color": "#E5ECF6",
              "width": 0.5
             },
             "pattern": {
              "fillmode": "overlay",
              "size": 10,
              "solidity": 0.2
             }
            },
            "type": "barpolar"
           }
          ],
          "carpet": [
           {
            "aaxis": {
             "endlinecolor": "#2a3f5f",
             "gridcolor": "white",
             "linecolor": "white",
             "minorgridcolor": "white",
             "startlinecolor": "#2a3f5f"
            },
            "baxis": {
             "endlinecolor": "#2a3f5f",
             "gridcolor": "white",
             "linecolor": "white",
             "minorgridcolor": "white",
             "startlinecolor": "#2a3f5f"
            },
            "type": "carpet"
           }
          ],
          "choropleth": [
           {
            "colorbar": {
             "outlinewidth": 0,
             "ticks": ""
            },
            "type": "choropleth"
           }
          ],
          "contour": [
           {
            "colorbar": {
             "outlinewidth": 0,
             "ticks": ""
            },
            "colorscale": [
             [
              0,
              "#0d0887"
             ],
             [
              0.1111111111111111,
              "#46039f"
             ],
             [
              0.2222222222222222,
              "#7201a8"
             ],
             [
              0.3333333333333333,
              "#9c179e"
             ],
             [
              0.4444444444444444,
              "#bd3786"
             ],
             [
              0.5555555555555556,
              "#d8576b"
             ],
             [
              0.6666666666666666,
              "#ed7953"
             ],
             [
              0.7777777777777778,
              "#fb9f3a"
             ],
             [
              0.8888888888888888,
              "#fdca26"
             ],
             [
              1,
              "#f0f921"
             ]
            ],
            "type": "contour"
           }
          ],
          "contourcarpet": [
           {
            "colorbar": {
             "outlinewidth": 0,
             "ticks": ""
            },
            "type": "contourcarpet"
           }
          ],
          "heatmap": [
           {
            "colorbar": {
             "outlinewidth": 0,
             "ticks": ""
            },
            "colorscale": [
             [
              0,
              "#0d0887"
             ],
             [
              0.1111111111111111,
              "#46039f"
             ],
             [
              0.2222222222222222,
              "#7201a8"
             ],
             [
              0.3333333333333333,
              "#9c179e"
             ],
             [
              0.4444444444444444,
              "#bd3786"
             ],
             [
              0.5555555555555556,
              "#d8576b"
             ],
             [
              0.6666666666666666,
              "#ed7953"
             ],
             [
              0.7777777777777778,
              "#fb9f3a"
             ],
             [
              0.8888888888888888,
              "#fdca26"
             ],
             [
              1,
              "#f0f921"
             ]
            ],
            "type": "heatmap"
           }
          ],
          "heatmapgl": [
           {
            "colorbar": {
             "outlinewidth": 0,
             "ticks": ""
            },
            "colorscale": [
             [
              0,
              "#0d0887"
             ],
             [
              0.1111111111111111,
              "#46039f"
             ],
             [
              0.2222222222222222,
              "#7201a8"
             ],
             [
              0.3333333333333333,
              "#9c179e"
             ],
             [
              0.4444444444444444,
              "#bd3786"
             ],
             [
              0.5555555555555556,
              "#d8576b"
             ],
             [
              0.6666666666666666,
              "#ed7953"
             ],
             [
              0.7777777777777778,
              "#fb9f3a"
             ],
             [
              0.8888888888888888,
              "#fdca26"
             ],
             [
              1,
              "#f0f921"
             ]
            ],
            "type": "heatmapgl"
           }
          ],
          "histogram": [
           {
            "marker": {
             "pattern": {
              "fillmode": "overlay",
              "size": 10,
              "solidity": 0.2
             }
            },
            "type": "histogram"
           }
          ],
          "histogram2d": [
           {
            "colorbar": {
             "outlinewidth": 0,
             "ticks": ""
            },
            "colorscale": [
             [
              0,
              "#0d0887"
             ],
             [
              0.1111111111111111,
              "#46039f"
             ],
             [
              0.2222222222222222,
              "#7201a8"
             ],
             [
              0.3333333333333333,
              "#9c179e"
             ],
             [
              0.4444444444444444,
              "#bd3786"
             ],
             [
              0.5555555555555556,
              "#d8576b"
             ],
             [
              0.6666666666666666,
              "#ed7953"
             ],
             [
              0.7777777777777778,
              "#fb9f3a"
             ],
             [
              0.8888888888888888,
              "#fdca26"
             ],
             [
              1,
              "#f0f921"
             ]
            ],
            "type": "histogram2d"
           }
          ],
          "histogram2dcontour": [
           {
            "colorbar": {
             "outlinewidth": 0,
             "ticks": ""
            },
            "colorscale": [
             [
              0,
              "#0d0887"
             ],
             [
              0.1111111111111111,
              "#46039f"
             ],
             [
              0.2222222222222222,
              "#7201a8"
             ],
             [
              0.3333333333333333,
              "#9c179e"
             ],
             [
              0.4444444444444444,
              "#bd3786"
             ],
             [
              0.5555555555555556,
              "#d8576b"
             ],
             [
              0.6666666666666666,
              "#ed7953"
             ],
             [
              0.7777777777777778,
              "#fb9f3a"
             ],
             [
              0.8888888888888888,
              "#fdca26"
             ],
             [
              1,
              "#f0f921"
             ]
            ],
            "type": "histogram2dcontour"
           }
          ],
          "mesh3d": [
           {
            "colorbar": {
             "outlinewidth": 0,
             "ticks": ""
            },
            "type": "mesh3d"
           }
          ],
          "parcoords": [
           {
            "line": {
             "colorbar": {
              "outlinewidth": 0,
              "ticks": ""
             }
            },
            "type": "parcoords"
           }
          ],
          "pie": [
           {
            "automargin": true,
            "type": "pie"
           }
          ],
          "scatter": [
           {
            "fillpattern": {
             "fillmode": "overlay",
             "size": 10,
             "solidity": 0.2
            },
            "type": "scatter"
           }
          ],
          "scatter3d": [
           {
            "line": {
             "colorbar": {
              "outlinewidth": 0,
              "ticks": ""
             }
            },
            "marker": {
             "colorbar": {
              "outlinewidth": 0,
              "ticks": ""
             }
            },
            "type": "scatter3d"
           }
          ],
          "scattercarpet": [
           {
            "marker": {
             "colorbar": {
              "outlinewidth": 0,
              "ticks": ""
             }
            },
            "type": "scattercarpet"
           }
          ],
          "scattergeo": [
           {
            "marker": {
             "colorbar": {
              "outlinewidth": 0,
              "ticks": ""
             }
            },
            "type": "scattergeo"
           }
          ],
          "scattergl": [
           {
            "marker": {
             "colorbar": {
              "outlinewidth": 0,
              "ticks": ""
             }
            },
            "type": "scattergl"
           }
          ],
          "scattermapbox": [
           {
            "marker": {
             "colorbar": {
              "outlinewidth": 0,
              "ticks": ""
             }
            },
            "type": "scattermapbox"
           }
          ],
          "scatterpolar": [
           {
            "marker": {
             "colorbar": {
              "outlinewidth": 0,
              "ticks": ""
             }
            },
            "type": "scatterpolar"
           }
          ],
          "scatterpolargl": [
           {
            "marker": {
             "colorbar": {
              "outlinewidth": 0,
              "ticks": ""
             }
            },
            "type": "scatterpolargl"
           }
          ],
          "scatterternary": [
           {
            "marker": {
             "colorbar": {
              "outlinewidth": 0,
              "ticks": ""
             }
            },
            "type": "scatterternary"
           }
          ],
          "surface": [
           {
            "colorbar": {
             "outlinewidth": 0,
             "ticks": ""
            },
            "colorscale": [
             [
              0,
              "#0d0887"
             ],
             [
              0.1111111111111111,
              "#46039f"
             ],
             [
              0.2222222222222222,
              "#7201a8"
             ],
             [
              0.3333333333333333,
              "#9c179e"
             ],
             [
              0.4444444444444444,
              "#bd3786"
             ],
             [
              0.5555555555555556,
              "#d8576b"
             ],
             [
              0.6666666666666666,
              "#ed7953"
             ],
             [
              0.7777777777777778,
              "#fb9f3a"
             ],
             [
              0.8888888888888888,
              "#fdca26"
             ],
             [
              1,
              "#f0f921"
             ]
            ],
            "type": "surface"
           }
          ],
          "table": [
           {
            "cells": {
             "fill": {
              "color": "#EBF0F8"
             },
             "line": {
              "color": "white"
             }
            },
            "header": {
             "fill": {
              "color": "#C8D4E3"
             },
             "line": {
              "color": "white"
             }
            },
            "type": "table"
           }
          ]
         },
         "layout": {
          "annotationdefaults": {
           "arrowcolor": "#2a3f5f",
           "arrowhead": 0,
           "arrowwidth": 1
          },
          "autotypenumbers": "strict",
          "coloraxis": {
           "colorbar": {
            "outlinewidth": 0,
            "ticks": ""
           }
          },
          "colorscale": {
           "diverging": [
            [
             0,
             "#8e0152"
            ],
            [
             0.1,
             "#c51b7d"
            ],
            [
             0.2,
             "#de77ae"
            ],
            [
             0.3,
             "#f1b6da"
            ],
            [
             0.4,
             "#fde0ef"
            ],
            [
             0.5,
             "#f7f7f7"
            ],
            [
             0.6,
             "#e6f5d0"
            ],
            [
             0.7,
             "#b8e186"
            ],
            [
             0.8,
             "#7fbc41"
            ],
            [
             0.9,
             "#4d9221"
            ],
            [
             1,
             "#276419"
            ]
           ],
           "sequential": [
            [
             0,
             "#0d0887"
            ],
            [
             0.1111111111111111,
             "#46039f"
            ],
            [
             0.2222222222222222,
             "#7201a8"
            ],
            [
             0.3333333333333333,
             "#9c179e"
            ],
            [
             0.4444444444444444,
             "#bd3786"
            ],
            [
             0.5555555555555556,
             "#d8576b"
            ],
            [
             0.6666666666666666,
             "#ed7953"
            ],
            [
             0.7777777777777778,
             "#fb9f3a"
            ],
            [
             0.8888888888888888,
             "#fdca26"
            ],
            [
             1,
             "#f0f921"
            ]
           ],
           "sequentialminus": [
            [
             0,
             "#0d0887"
            ],
            [
             0.1111111111111111,
             "#46039f"
            ],
            [
             0.2222222222222222,
             "#7201a8"
            ],
            [
             0.3333333333333333,
             "#9c179e"
            ],
            [
             0.4444444444444444,
             "#bd3786"
            ],
            [
             0.5555555555555556,
             "#d8576b"
            ],
            [
             0.6666666666666666,
             "#ed7953"
            ],
            [
             0.7777777777777778,
             "#fb9f3a"
            ],
            [
             0.8888888888888888,
             "#fdca26"
            ],
            [
             1,
             "#f0f921"
            ]
           ]
          },
          "colorway": [
           "#636efa",
           "#EF553B",
           "#00cc96",
           "#ab63fa",
           "#FFA15A",
           "#19d3f3",
           "#FF6692",
           "#B6E880",
           "#FF97FF",
           "#FECB52"
          ],
          "font": {
           "color": "#2a3f5f"
          },
          "geo": {
           "bgcolor": "white",
           "lakecolor": "white",
           "landcolor": "#E5ECF6",
           "showlakes": true,
           "showland": true,
           "subunitcolor": "white"
          },
          "hoverlabel": {
           "align": "left"
          },
          "hovermode": "closest",
          "mapbox": {
           "style": "light"
          },
          "paper_bgcolor": "white",
          "plot_bgcolor": "#E5ECF6",
          "polar": {
           "angularaxis": {
            "gridcolor": "white",
            "linecolor": "white",
            "ticks": ""
           },
           "bgcolor": "#E5ECF6",
           "radialaxis": {
            "gridcolor": "white",
            "linecolor": "white",
            "ticks": ""
           }
          },
          "scene": {
           "xaxis": {
            "backgroundcolor": "#E5ECF6",
            "gridcolor": "white",
            "gridwidth": 2,
            "linecolor": "white",
            "showbackground": true,
            "ticks": "",
            "zerolinecolor": "white"
           },
           "yaxis": {
            "backgroundcolor": "#E5ECF6",
            "gridcolor": "white",
            "gridwidth": 2,
            "linecolor": "white",
            "showbackground": true,
            "ticks": "",
            "zerolinecolor": "white"
           },
           "zaxis": {
            "backgroundcolor": "#E5ECF6",
            "gridcolor": "white",
            "gridwidth": 2,
            "linecolor": "white",
            "showbackground": true,
            "ticks": "",
            "zerolinecolor": "white"
           }
          },
          "shapedefaults": {
           "line": {
            "color": "#2a3f5f"
           }
          },
          "ternary": {
           "aaxis": {
            "gridcolor": "white",
            "linecolor": "white",
            "ticks": ""
           },
           "baxis": {
            "gridcolor": "white",
            "linecolor": "white",
            "ticks": ""
           },
           "bgcolor": "#E5ECF6",
           "caxis": {
            "gridcolor": "white",
            "linecolor": "white",
            "ticks": ""
           }
          },
          "title": {
           "x": 0.05
          },
          "xaxis": {
           "automargin": true,
           "gridcolor": "white",
           "linecolor": "white",
           "ticks": "",
           "title": {
            "standoff": 15
           },
           "zerolinecolor": "white",
           "zerolinewidth": 2
          },
          "yaxis": {
           "automargin": true,
           "gridcolor": "white",
           "linecolor": "white",
           "ticks": "",
           "title": {
            "standoff": 15
           },
           "zerolinecolor": "white",
           "zerolinewidth": 2
          }
         }
        },
        "title": {
         "font": {
          "size": 20
         }
        }
       }
      }
     },
     "metadata": {},
     "output_type": "display_data"
    }
   ],
   "source": [
    "# Example usage:\n",
    "plot_info(2022, data)"
   ]
  },
  {
   "cell_type": "code",
   "execution_count": 12,
   "metadata": {},
   "outputs": [],
   "source": [
    "# code for 7\n",
    "def calculate_total_spend(year, data) -> str:\n",
    "    # Filter the data for the specified year\n",
    "    year_filter = data[data['CalYear'] == year]\n",
    "    \n",
    "    # Calculate the sum of 'YTD_Total' for the filtered data\n",
    "    total_spend = year_filter['YTD_Total'].sum().round(2)\n",
    "\n",
    "    # Formats thousands separators\n",
    "    total_spend = \"{:,.2f}\".format(total_spend)\n",
    "    \n",
    "    # Return the total spend as a float\n",
    "    return str(total_spend)"
   ]
  },
  {
   "cell_type": "code",
   "execution_count": 13,
   "metadata": {},
   "outputs": [],
   "source": [
    "# code for 9 \n",
    "def calculate_total_budget(year, data) -> str:\n",
    "    # Filter the data for the specified year\n",
    "    year_filter = data[data['CalYear'] == year]\n",
    "    \n",
    "    # Calculate the sum of 'Salary_Total' for the filtered data\n",
    "    total_spend = year_filter['Salary_Total'].sum().round(2)\n",
    "\n",
    "    # Formats thousands separators\n",
    "    total_spend = \"{:,.2f}\".format(total_spend)\n",
    "    \n",
    "    # Return the total spend as a float\n",
    "    return str(total_spend)"
   ]
  },
  {
   "cell_type": "code",
   "execution_count": 14,
   "metadata": {},
   "outputs": [],
   "source": [
    "#code for 12\n",
    "def calculate_budget_difference(year, data) -> str:\n",
    "    # Filter the data for the specified year\n",
    "    year_filter = data[data['CalYear'] == year]\n",
    "    \n",
    "    if year_filter.empty:\n",
    "        return \"No data for the specified year.\"\n",
    "    \n",
    "    # Extract actual and expected values\n",
    "    actual_spend = year_filter['YTD_Total'].sum()\n",
    "    budgeted_salary = year_filter['Salary_Total'].sum()\n",
    "\n",
    "    # Calculate the percentage difference\n",
    "    difference = ((actual_spend - budgeted_salary) / budgeted_salary) * 100\n",
    "    \n",
    "    # Format the difference with a '+' or '-' and thousands separators\n",
    "    return f\"{difference:+,.2f}%\"\n",
    "\n"
   ]
  },
  {
   "cell_type": "code",
   "execution_count": 15,
   "metadata": {},
   "outputs": [
    {
     "name": "stdout",
     "output_type": "stream",
     "text": [
      "Total Salary Spend: 423,328,242.80\n"
     ]
    }
   ],
   "source": [
    "# Call the function for 7\n",
    "total_sal_spend = calculate_total_spend(2024, data)\n",
    "\n",
    "print(f'Total Salary Spend: {total_sal_spend}')"
   ]
  },
  {
   "cell_type": "code",
   "execution_count": 16,
   "metadata": {},
   "outputs": [
    {
     "name": "stdout",
     "output_type": "stream",
     "text": [
      "Total Salary Budgeted: 460,889,487.20\n"
     ]
    }
   ],
   "source": [
    "# Call the function for 9\n",
    "total_sal_budget = calculate_total_budget(2024, data)\n",
    "\n",
    "print(f'Total Salary Budgeted: {total_sal_budget}')"
   ]
  },
  {
   "cell_type": "code",
   "execution_count": 17,
   "metadata": {},
   "outputs": [
    {
     "name": "stdout",
     "output_type": "stream",
     "text": [
      "-8.15%\n"
     ]
    }
   ],
   "source": [
    "# Call the function for 12 \n",
    "budget_difference = calculate_budget_difference(2024, data)\n",
    "print(budget_difference)"
   ]
  },
  {
   "cell_type": "code",
   "execution_count": 18,
   "metadata": {},
   "outputs": [],
   "source": [
    "# code for 10\n",
    "def top_emp_dev(year, data):\n",
    "    # we had to avoid division by zero and only calculate Discrepancy_Percent for employees with Salary_Total >= 20k\n",
    "    # Filter the data for the given year\n",
    "    top_employee = data[data['CalYear'] == year].copy()\n",
    "\n",
    "    # Calculate the discrepancy and discrepancy ratio\n",
    "    top_employee['Deviation'] = top_employee['YTD_Total'] - top_employee['Salary_Total']\n",
    "\n",
    "    # Avoid division by zero and handle Salary_Total < 20k\n",
    "    top_employee.loc[:, 'Discrepancy_Percent'] = top_employee.apply(\n",
    "        lambda row: (row['Deviation'] / row['Salary_Total']) * 100 if row['Salary_Total'] >= 20000 and row['Salary_Total'] != 0 else None, axis=1\n",
    "    )\n",
    "\n",
    "    # Round the Discrepancy_Percent to 2 decimal places\n",
    "    top_employee['Discrepancy_Percent'] = top_employee['Discrepancy_Percent'].round(2)\n",
    "\n",
    "    # Sort the DataFrame by 'Discrepancy_Percent' in descending order\n",
    "    top_employee = top_employee.sort_values(by='Discrepancy_Percent', ascending=False)\n",
    "\n",
    "    # Keep only the specified columns\n",
    "    top_employee = top_employee[['CalYear', 'Employee_Name', 'Department', \n",
    "                                 'YTD_Total', 'Salary_Total', 'Deviation', \n",
    "                                 'Discrepancy_Percent']]\n",
    "    \n",
    "    # Reset index and drop the old index column\n",
    "    top_employee.reset_index(drop=True, inplace=True)\n",
    "\n",
    "    return top_employee.head(10)\n"
   ]
  },
  {
   "cell_type": "code",
   "execution_count": 19,
   "metadata": {},
   "outputs": [
    {
     "data": {
      "text/html": [
       "<div>\n",
       "<style scoped>\n",
       "    .dataframe tbody tr th:only-of-type {\n",
       "        vertical-align: middle;\n",
       "    }\n",
       "\n",
       "    .dataframe tbody tr th {\n",
       "        vertical-align: top;\n",
       "    }\n",
       "\n",
       "    .dataframe thead th {\n",
       "        text-align: right;\n",
       "    }\n",
       "</style>\n",
       "<table border=\"1\" class=\"dataframe\">\n",
       "  <thead>\n",
       "    <tr style=\"text-align: right;\">\n",
       "      <th></th>\n",
       "      <th>CalYear</th>\n",
       "      <th>Employee_Name</th>\n",
       "      <th>Department</th>\n",
       "      <th>YTD_Total</th>\n",
       "      <th>Salary_Total</th>\n",
       "      <th>Deviation</th>\n",
       "      <th>Discrepancy_Percent</th>\n",
       "    </tr>\n",
       "  </thead>\n",
       "  <tbody>\n",
       "    <tr>\n",
       "      <th>0</th>\n",
       "      <td>2024</td>\n",
       "      <td>Standard, Royce Leshawn</td>\n",
       "      <td>Metro Corrections</td>\n",
       "      <td>202502.65</td>\n",
       "      <td>66934.40</td>\n",
       "      <td>135568.25</td>\n",
       "      <td>202.54</td>\n",
       "    </tr>\n",
       "    <tr>\n",
       "      <th>1</th>\n",
       "      <td>2024</td>\n",
       "      <td>Stimphil, Richardson</td>\n",
       "      <td>Metro Corrections</td>\n",
       "      <td>173027.30</td>\n",
       "      <td>60299.20</td>\n",
       "      <td>112728.10</td>\n",
       "      <td>186.95</td>\n",
       "    </tr>\n",
       "    <tr>\n",
       "      <th>2</th>\n",
       "      <td>2024</td>\n",
       "      <td>Jones, Dontorya J</td>\n",
       "      <td>Emergency Management Services</td>\n",
       "      <td>166143.02</td>\n",
       "      <td>62583.60</td>\n",
       "      <td>103559.42</td>\n",
       "      <td>165.47</td>\n",
       "    </tr>\n",
       "    <tr>\n",
       "      <th>3</th>\n",
       "      <td>2024</td>\n",
       "      <td>Jenkins, Todd Barry</td>\n",
       "      <td>Louisville Metro Police Department</td>\n",
       "      <td>294733.23</td>\n",
       "      <td>115845.07</td>\n",
       "      <td>178888.16</td>\n",
       "      <td>154.42</td>\n",
       "    </tr>\n",
       "    <tr>\n",
       "      <th>4</th>\n",
       "      <td>2024</td>\n",
       "      <td>Whidby, Jacob T</td>\n",
       "      <td>Metro Corrections</td>\n",
       "      <td>175543.82</td>\n",
       "      <td>74256.00</td>\n",
       "      <td>101287.82</td>\n",
       "      <td>136.40</td>\n",
       "    </tr>\n",
       "    <tr>\n",
       "      <th>5</th>\n",
       "      <td>2024</td>\n",
       "      <td>Roberts, Bryan Keith</td>\n",
       "      <td>Metro Corrections</td>\n",
       "      <td>137925.37</td>\n",
       "      <td>58635.20</td>\n",
       "      <td>79290.17</td>\n",
       "      <td>135.23</td>\n",
       "    </tr>\n",
       "    <tr>\n",
       "      <th>6</th>\n",
       "      <td>2024</td>\n",
       "      <td>Nicolas-Bates, Marylea Diedra</td>\n",
       "      <td>Metro Corrections</td>\n",
       "      <td>121003.14</td>\n",
       "      <td>51560.00</td>\n",
       "      <td>69443.14</td>\n",
       "      <td>134.68</td>\n",
       "    </tr>\n",
       "    <tr>\n",
       "      <th>7</th>\n",
       "      <td>2024</td>\n",
       "      <td>Salman, Saja Naji</td>\n",
       "      <td>Metro Corrections</td>\n",
       "      <td>117771.61</td>\n",
       "      <td>50835.20</td>\n",
       "      <td>66936.41</td>\n",
       "      <td>131.67</td>\n",
       "    </tr>\n",
       "    <tr>\n",
       "      <th>8</th>\n",
       "      <td>2024</td>\n",
       "      <td>Starcher, Candice Lynn</td>\n",
       "      <td>Louisville Metro Police Department</td>\n",
       "      <td>107456.58</td>\n",
       "      <td>46428.72</td>\n",
       "      <td>61027.86</td>\n",
       "      <td>131.44</td>\n",
       "    </tr>\n",
       "    <tr>\n",
       "      <th>9</th>\n",
       "      <td>2024</td>\n",
       "      <td>Ashby, Stephanie Renee</td>\n",
       "      <td>ES &amp; MetroSafe</td>\n",
       "      <td>154258.03</td>\n",
       "      <td>66690.81</td>\n",
       "      <td>87567.22</td>\n",
       "      <td>131.30</td>\n",
       "    </tr>\n",
       "  </tbody>\n",
       "</table>\n",
       "</div>"
      ],
      "text/plain": [
       "   CalYear                  Employee_Name                          Department  \\\n",
       "0     2024        Standard, Royce Leshawn                   Metro Corrections   \n",
       "1     2024           Stimphil, Richardson                   Metro Corrections   \n",
       "2     2024              Jones, Dontorya J       Emergency Management Services   \n",
       "3     2024            Jenkins, Todd Barry  Louisville Metro Police Department   \n",
       "4     2024                Whidby, Jacob T                   Metro Corrections   \n",
       "5     2024           Roberts, Bryan Keith                   Metro Corrections   \n",
       "6     2024  Nicolas-Bates, Marylea Diedra                   Metro Corrections   \n",
       "7     2024              Salman, Saja Naji                   Metro Corrections   \n",
       "8     2024         Starcher, Candice Lynn  Louisville Metro Police Department   \n",
       "9     2024         Ashby, Stephanie Renee                      ES & MetroSafe   \n",
       "\n",
       "   YTD_Total  Salary_Total  Deviation  Discrepancy_Percent  \n",
       "0  202502.65      66934.40  135568.25               202.54  \n",
       "1  173027.30      60299.20  112728.10               186.95  \n",
       "2  166143.02      62583.60  103559.42               165.47  \n",
       "3  294733.23     115845.07  178888.16               154.42  \n",
       "4  175543.82      74256.00  101287.82               136.40  \n",
       "5  137925.37      58635.20   79290.17               135.23  \n",
       "6  121003.14      51560.00   69443.14               134.68  \n",
       "7  117771.61      50835.20   66936.41               131.67  \n",
       "8  107456.58      46428.72   61027.86               131.44  \n",
       "9  154258.03      66690.81   87567.22               131.30  "
      ]
     },
     "execution_count": 19,
     "metadata": {},
     "output_type": "execute_result"
    }
   ],
   "source": [
    "# Example usage for 10:\n",
    "top_employee_result = top_emp_dev(2024, data)\n",
    "top_employee_result"
   ]
  },
  {
   "cell_type": "code",
   "execution_count": 20,
   "metadata": {},
   "outputs": [],
   "source": [
    "# code for 11\n",
    "def department_discrepancy(year, data):\n",
    "    # Group by 'CalYear' and 'Department', summing 'YTD_Total' and 'Salary_Total'\n",
    "    department = data.groupby(['CalYear', 'Department'])[['YTD_Total', 'Salary_Total']].sum().reset_index()\n",
    "\n",
    "    # Filter the data by the given year\n",
    "    department = department[department['CalYear'] == year]\n",
    "\n",
    "    # Calculate the percentage difference: ((YTD_Total - Salary_Total) / Salary_Total) * 100\n",
    "    department['Discrepancy_Percent'] = ((department['YTD_Total'] - department['Salary_Total']) / department['Salary_Total']) * 100\n",
    "\n",
    "    # Round the Discrepancy_Percent to 2 decimal places\n",
    "    department['Discrepancy_Percent'] = department['Discrepancy_Percent'].round(2)\n",
    "\n",
    "    # Sort the DataFrame by 'Discrepancy_Percent' in ascending order\n",
    "    department = department.sort_values(by='Discrepancy_Percent', ascending=False)\n",
    "\n",
    "    # Format 'YTD_Total' and 'Salary_Total' with thousands separators\n",
    "    department['YTD_Total'] = department['YTD_Total'].apply(lambda x: f\"{x:,.2f}\")\n",
    "    department['Salary_Total'] = department['Salary_Total'].apply(lambda x: f\"{x:,.2f}\")\n",
    "\n",
    "    # Rename columns for final output\n",
    "    department = department.rename(columns={\n",
    "        'YTD_Total': 'Total Salary Spend',\n",
    "        'Salary_Total': 'Salary Budget',\n",
    "        'Discrepancy_Percent': 'Discrepancy Percent'\n",
    "    })\n",
    "\n",
    "    # Return the result\n",
    "    return department\n"
   ]
  },
  {
   "cell_type": "code",
   "execution_count": 21,
   "metadata": {},
   "outputs": [
    {
     "data": {
      "text/html": [
       "<div>\n",
       "<style scoped>\n",
       "    .dataframe tbody tr th:only-of-type {\n",
       "        vertical-align: middle;\n",
       "    }\n",
       "\n",
       "    .dataframe tbody tr th {\n",
       "        vertical-align: top;\n",
       "    }\n",
       "\n",
       "    .dataframe thead th {\n",
       "        text-align: right;\n",
       "    }\n",
       "</style>\n",
       "<table border=\"1\" class=\"dataframe\">\n",
       "  <thead>\n",
       "    <tr style=\"text-align: right;\">\n",
       "      <th></th>\n",
       "      <th>CalYear</th>\n",
       "      <th>Department</th>\n",
       "      <th>Total Salary Spend</th>\n",
       "      <th>Salary Budget</th>\n",
       "      <th>Discrepancy Percent</th>\n",
       "    </tr>\n",
       "  </thead>\n",
       "  <tbody>\n",
       "    <tr>\n",
       "      <th>187</th>\n",
       "      <td>2024</td>\n",
       "      <td>Louisville Metro Police Department</td>\n",
       "      <td>140,474,471.71</td>\n",
       "      <td>125,356,962.57</td>\n",
       "      <td>12.06</td>\n",
       "    </tr>\n",
       "    <tr>\n",
       "      <th>176</th>\n",
       "      <td>2024</td>\n",
       "      <td>Emergency Management Services</td>\n",
       "      <td>12,697,984.98</td>\n",
       "      <td>12,039,313.74</td>\n",
       "      <td>5.47</td>\n",
       "    </tr>\n",
       "    <tr>\n",
       "      <th>191</th>\n",
       "      <td>2024</td>\n",
       "      <td>Metro Corrections</td>\n",
       "      <td>32,749,450.92</td>\n",
       "      <td>31,646,343.69</td>\n",
       "      <td>3.49</td>\n",
       "    </tr>\n",
       "    <tr>\n",
       "      <th>174</th>\n",
       "      <td>2024</td>\n",
       "      <td>ES &amp; MetroSafe</td>\n",
       "      <td>12,980,994.05</td>\n",
       "      <td>12,705,848.71</td>\n",
       "      <td>2.17</td>\n",
       "    </tr>\n",
       "    <tr>\n",
       "      <th>185</th>\n",
       "      <td>2024</td>\n",
       "      <td>Louisville Fire</td>\n",
       "      <td>47,114,383.29</td>\n",
       "      <td>47,209,559.30</td>\n",
       "      <td>-0.20</td>\n",
       "    </tr>\n",
       "    <tr>\n",
       "      <th>213</th>\n",
       "      <td>2024</td>\n",
       "      <td>Youth Transitional Services</td>\n",
       "      <td>1,667,864.24</td>\n",
       "      <td>1,676,005.13</td>\n",
       "      <td>-0.49</td>\n",
       "    </tr>\n",
       "    <tr>\n",
       "      <th>172</th>\n",
       "      <td>2024</td>\n",
       "      <td>Criminal Justice Commission</td>\n",
       "      <td>349,148.56</td>\n",
       "      <td>354,505.99</td>\n",
       "      <td>-1.51</td>\n",
       "    </tr>\n",
       "    <tr>\n",
       "      <th>201</th>\n",
       "      <td>2024</td>\n",
       "      <td>Office of Philanthropy</td>\n",
       "      <td>361,968.34</td>\n",
       "      <td>367,525.45</td>\n",
       "      <td>-1.51</td>\n",
       "    </tr>\n",
       "    <tr>\n",
       "      <th>206</th>\n",
       "      <td>2024</td>\n",
       "      <td>Parking Authority of River City - PARC</td>\n",
       "      <td>2,155,634.49</td>\n",
       "      <td>2,278,432.86</td>\n",
       "      <td>-5.39</td>\n",
       "    </tr>\n",
       "    <tr>\n",
       "      <th>193</th>\n",
       "      <td>2024</td>\n",
       "      <td>Metro TV</td>\n",
       "      <td>414,151.44</td>\n",
       "      <td>443,865.14</td>\n",
       "      <td>-6.69</td>\n",
       "    </tr>\n",
       "    <tr>\n",
       "      <th>210</th>\n",
       "      <td>2024</td>\n",
       "      <td>Records Compliance</td>\n",
       "      <td>1,041,569.94</td>\n",
       "      <td>1,127,444.44</td>\n",
       "      <td>-7.62</td>\n",
       "    </tr>\n",
       "    <tr>\n",
       "      <th>212</th>\n",
       "      <td>2024</td>\n",
       "      <td>Waterfront Development Corporation</td>\n",
       "      <td>1,207,428.30</td>\n",
       "      <td>1,310,471.20</td>\n",
       "      <td>-7.86</td>\n",
       "    </tr>\n",
       "    <tr>\n",
       "      <th>194</th>\n",
       "      <td>2024</td>\n",
       "      <td>Metro Technology Services</td>\n",
       "      <td>6,453,529.00</td>\n",
       "      <td>7,230,572.43</td>\n",
       "      <td>-10.75</td>\n",
       "    </tr>\n",
       "    <tr>\n",
       "      <th>192</th>\n",
       "      <td>2024</td>\n",
       "      <td>Metro Council</td>\n",
       "      <td>4,681,082.19</td>\n",
       "      <td>5,354,001.53</td>\n",
       "      <td>-12.57</td>\n",
       "    </tr>\n",
       "    <tr>\n",
       "      <th>184</th>\n",
       "      <td>2024</td>\n",
       "      <td>KentuckianaWorks</td>\n",
       "      <td>1,898,785.34</td>\n",
       "      <td>2,210,288.71</td>\n",
       "      <td>-14.09</td>\n",
       "    </tr>\n",
       "    <tr>\n",
       "      <th>183</th>\n",
       "      <td>2024</td>\n",
       "      <td>Jefferson County Coroner</td>\n",
       "      <td>1,223,044.50</td>\n",
       "      <td>1,430,312.46</td>\n",
       "      <td>-14.49</td>\n",
       "    </tr>\n",
       "    <tr>\n",
       "      <th>180</th>\n",
       "      <td>2024</td>\n",
       "      <td>Human Resources</td>\n",
       "      <td>3,552,938.66</td>\n",
       "      <td>4,180,202.82</td>\n",
       "      <td>-15.01</td>\n",
       "    </tr>\n",
       "    <tr>\n",
       "      <th>182</th>\n",
       "      <td>2024</td>\n",
       "      <td>Jefferson County Attorney</td>\n",
       "      <td>8,478,280.28</td>\n",
       "      <td>10,287,605.64</td>\n",
       "      <td>-17.59</td>\n",
       "    </tr>\n",
       "    <tr>\n",
       "      <th>211</th>\n",
       "      <td>2024</td>\n",
       "      <td>Revenue Commission</td>\n",
       "      <td>2,811,669.45</td>\n",
       "      <td>3,427,267.38</td>\n",
       "      <td>-17.96</td>\n",
       "    </tr>\n",
       "    <tr>\n",
       "      <th>166</th>\n",
       "      <td>2024</td>\n",
       "      <td>APCD</td>\n",
       "      <td>3,259,585.98</td>\n",
       "      <td>3,978,256.99</td>\n",
       "      <td>-18.06</td>\n",
       "    </tr>\n",
       "    <tr>\n",
       "      <th>209</th>\n",
       "      <td>2024</td>\n",
       "      <td>Public Works &amp; Assets</td>\n",
       "      <td>26,400,110.33</td>\n",
       "      <td>32,342,791.87</td>\n",
       "      <td>-18.37</td>\n",
       "    </tr>\n",
       "    <tr>\n",
       "      <th>198</th>\n",
       "      <td>2024</td>\n",
       "      <td>Office of Housing &amp; Community Development</td>\n",
       "      <td>3,138,626.70</td>\n",
       "      <td>3,851,901.79</td>\n",
       "      <td>-18.52</td>\n",
       "    </tr>\n",
       "    <tr>\n",
       "      <th>186</th>\n",
       "      <td>2024</td>\n",
       "      <td>Louisville Free Public Library</td>\n",
       "      <td>12,573,833.96</td>\n",
       "      <td>15,511,346.46</td>\n",
       "      <td>-18.94</td>\n",
       "    </tr>\n",
       "    <tr>\n",
       "      <th>175</th>\n",
       "      <td>2024</td>\n",
       "      <td>Economic Development</td>\n",
       "      <td>1,901,864.71</td>\n",
       "      <td>2,361,940.31</td>\n",
       "      <td>-19.48</td>\n",
       "    </tr>\n",
       "    <tr>\n",
       "      <th>196</th>\n",
       "      <td>2024</td>\n",
       "      <td>Office for Safe &amp; Healthy Neighborhoods</td>\n",
       "      <td>2,958,095.92</td>\n",
       "      <td>3,702,715.08</td>\n",
       "      <td>-20.11</td>\n",
       "    </tr>\n",
       "    <tr>\n",
       "      <th>170</th>\n",
       "      <td>2024</td>\n",
       "      <td>Codes &amp; Regulations</td>\n",
       "      <td>11,009,248.08</td>\n",
       "      <td>13,810,143.98</td>\n",
       "      <td>-20.28</td>\n",
       "    </tr>\n",
       "    <tr>\n",
       "      <th>208</th>\n",
       "      <td>2024</td>\n",
       "      <td>Public Health &amp; Wellness</td>\n",
       "      <td>13,969,934.86</td>\n",
       "      <td>17,581,918.28</td>\n",
       "      <td>-20.54</td>\n",
       "    </tr>\n",
       "    <tr>\n",
       "      <th>203</th>\n",
       "      <td>2024</td>\n",
       "      <td>Office of Resilience and Community Services</td>\n",
       "      <td>6,794,292.62</td>\n",
       "      <td>8,570,588.48</td>\n",
       "      <td>-20.73</td>\n",
       "    </tr>\n",
       "    <tr>\n",
       "      <th>167</th>\n",
       "      <td>2024</td>\n",
       "      <td>Alcohol Beverage Control</td>\n",
       "      <td>929,805.70</td>\n",
       "      <td>1,200,900.11</td>\n",
       "      <td>-22.57</td>\n",
       "    </tr>\n",
       "    <tr>\n",
       "      <th>179</th>\n",
       "      <td>2024</td>\n",
       "      <td>Human Relations Commission</td>\n",
       "      <td>830,617.46</td>\n",
       "      <td>1,074,330.58</td>\n",
       "      <td>-22.69</td>\n",
       "    </tr>\n",
       "    <tr>\n",
       "      <th>178</th>\n",
       "      <td>2024</td>\n",
       "      <td>Group Violence Intervention</td>\n",
       "      <td>244,237.70</td>\n",
       "      <td>318,990.13</td>\n",
       "      <td>-23.43</td>\n",
       "    </tr>\n",
       "    <tr>\n",
       "      <th>177</th>\n",
       "      <td>2024</td>\n",
       "      <td>Facilities and Fleet Management</td>\n",
       "      <td>9,257,615.66</td>\n",
       "      <td>12,131,613.27</td>\n",
       "      <td>-23.69</td>\n",
       "    </tr>\n",
       "    <tr>\n",
       "      <th>202</th>\n",
       "      <td>2024</td>\n",
       "      <td>Office of Planning</td>\n",
       "      <td>2,696,481.46</td>\n",
       "      <td>3,543,923.37</td>\n",
       "      <td>-23.91</td>\n",
       "    </tr>\n",
       "    <tr>\n",
       "      <th>195</th>\n",
       "      <td>2024</td>\n",
       "      <td>OMB Finance</td>\n",
       "      <td>8,935,244.96</td>\n",
       "      <td>11,855,221.02</td>\n",
       "      <td>-24.63</td>\n",
       "    </tr>\n",
       "    <tr>\n",
       "      <th>190</th>\n",
       "      <td>2024</td>\n",
       "      <td>Metro Animal Services</td>\n",
       "      <td>2,909,643.84</td>\n",
       "      <td>4,109,732.25</td>\n",
       "      <td>-29.20</td>\n",
       "    </tr>\n",
       "    <tr>\n",
       "      <th>200</th>\n",
       "      <td>2024</td>\n",
       "      <td>Office of Internal Audit</td>\n",
       "      <td>564,317.29</td>\n",
       "      <td>812,002.30</td>\n",
       "      <td>-30.50</td>\n",
       "    </tr>\n",
       "    <tr>\n",
       "      <th>189</th>\n",
       "      <td>2024</td>\n",
       "      <td>Mayor Office</td>\n",
       "      <td>2,952,464.51</td>\n",
       "      <td>4,249,692.25</td>\n",
       "      <td>-30.53</td>\n",
       "    </tr>\n",
       "    <tr>\n",
       "      <th>188</th>\n",
       "      <td>2024</td>\n",
       "      <td>Louisville Zoo</td>\n",
       "      <td>8,390,174.87</td>\n",
       "      <td>12,374,025.63</td>\n",
       "      <td>-32.20</td>\n",
       "    </tr>\n",
       "    <tr>\n",
       "      <th>197</th>\n",
       "      <td>2024</td>\n",
       "      <td>Office of Equity</td>\n",
       "      <td>502,125.78</td>\n",
       "      <td>756,319.02</td>\n",
       "      <td>-33.61</td>\n",
       "    </tr>\n",
       "    <tr>\n",
       "      <th>204</th>\n",
       "      <td>2024</td>\n",
       "      <td>Office of Sustainability</td>\n",
       "      <td>330,115.51</td>\n",
       "      <td>508,572.07</td>\n",
       "      <td>-35.09</td>\n",
       "    </tr>\n",
       "    <tr>\n",
       "      <th>169</th>\n",
       "      <td>2024</td>\n",
       "      <td>Brightside</td>\n",
       "      <td>271,547.23</td>\n",
       "      <td>418,902.05</td>\n",
       "      <td>-35.18</td>\n",
       "    </tr>\n",
       "    <tr>\n",
       "      <th>171</th>\n",
       "      <td>2024</td>\n",
       "      <td>Commonwealth Attorney</td>\n",
       "      <td>1,321,570.74</td>\n",
       "      <td>2,051,988.90</td>\n",
       "      <td>-35.60</td>\n",
       "    </tr>\n",
       "    <tr>\n",
       "      <th>207</th>\n",
       "      <td>2024</td>\n",
       "      <td>Parks &amp; Recreation</td>\n",
       "      <td>16,018,333.93</td>\n",
       "      <td>25,370,129.37</td>\n",
       "      <td>-36.86</td>\n",
       "    </tr>\n",
       "    <tr>\n",
       "      <th>168</th>\n",
       "      <td>2024</td>\n",
       "      <td>Belle of Louisville</td>\n",
       "      <td>2,088,745.58</td>\n",
       "      <td>4,160,722.18</td>\n",
       "      <td>-49.80</td>\n",
       "    </tr>\n",
       "    <tr>\n",
       "      <th>199</th>\n",
       "      <td>2024</td>\n",
       "      <td>Office of Inspector General</td>\n",
       "      <td>616,479.69</td>\n",
       "      <td>1,465,145.87</td>\n",
       "      <td>-57.92</td>\n",
       "    </tr>\n",
       "    <tr>\n",
       "      <th>205</th>\n",
       "      <td>2024</td>\n",
       "      <td>Other Statutory Obligations</td>\n",
       "      <td>148,748.05</td>\n",
       "      <td>1,871,490.00</td>\n",
       "      <td>-92.05</td>\n",
       "    </tr>\n",
       "    <tr>\n",
       "      <th>173</th>\n",
       "      <td>2024</td>\n",
       "      <td>Develop Louisville</td>\n",
       "      <td>0.00</td>\n",
       "      <td>115,814.40</td>\n",
       "      <td>-100.00</td>\n",
       "    </tr>\n",
       "    <tr>\n",
       "      <th>181</th>\n",
       "      <td>2024</td>\n",
       "      <td>Insurance &amp; Risk Management</td>\n",
       "      <td>0.00</td>\n",
       "      <td>151,840.00</td>\n",
       "      <td>-100.00</td>\n",
       "    </tr>\n",
       "  </tbody>\n",
       "</table>\n",
       "</div>"
      ],
      "text/plain": [
       "     CalYear                                   Department Total Salary Spend  \\\n",
       "187     2024           Louisville Metro Police Department     140,474,471.71   \n",
       "176     2024                Emergency Management Services      12,697,984.98   \n",
       "191     2024                            Metro Corrections      32,749,450.92   \n",
       "174     2024                               ES & MetroSafe      12,980,994.05   \n",
       "185     2024                              Louisville Fire      47,114,383.29   \n",
       "213     2024                  Youth Transitional Services       1,667,864.24   \n",
       "172     2024                  Criminal Justice Commission         349,148.56   \n",
       "201     2024                       Office of Philanthropy         361,968.34   \n",
       "206     2024       Parking Authority of River City - PARC       2,155,634.49   \n",
       "193     2024                                     Metro TV         414,151.44   \n",
       "210     2024                           Records Compliance       1,041,569.94   \n",
       "212     2024           Waterfront Development Corporation       1,207,428.30   \n",
       "194     2024                    Metro Technology Services       6,453,529.00   \n",
       "192     2024                                Metro Council       4,681,082.19   \n",
       "184     2024                             KentuckianaWorks       1,898,785.34   \n",
       "183     2024                     Jefferson County Coroner       1,223,044.50   \n",
       "180     2024                              Human Resources       3,552,938.66   \n",
       "182     2024                    Jefferson County Attorney       8,478,280.28   \n",
       "211     2024                           Revenue Commission       2,811,669.45   \n",
       "166     2024                                         APCD       3,259,585.98   \n",
       "209     2024                        Public Works & Assets      26,400,110.33   \n",
       "198     2024    Office of Housing & Community Development       3,138,626.70   \n",
       "186     2024               Louisville Free Public Library      12,573,833.96   \n",
       "175     2024                         Economic Development       1,901,864.71   \n",
       "196     2024      Office for Safe & Healthy Neighborhoods       2,958,095.92   \n",
       "170     2024                          Codes & Regulations      11,009,248.08   \n",
       "208     2024                     Public Health & Wellness      13,969,934.86   \n",
       "203     2024  Office of Resilience and Community Services       6,794,292.62   \n",
       "167     2024                     Alcohol Beverage Control         929,805.70   \n",
       "179     2024                   Human Relations Commission         830,617.46   \n",
       "178     2024                  Group Violence Intervention         244,237.70   \n",
       "177     2024              Facilities and Fleet Management       9,257,615.66   \n",
       "202     2024                           Office of Planning       2,696,481.46   \n",
       "195     2024                                  OMB Finance       8,935,244.96   \n",
       "190     2024                        Metro Animal Services       2,909,643.84   \n",
       "200     2024                     Office of Internal Audit         564,317.29   \n",
       "189     2024                                 Mayor Office       2,952,464.51   \n",
       "188     2024                               Louisville Zoo       8,390,174.87   \n",
       "197     2024                             Office of Equity         502,125.78   \n",
       "204     2024                     Office of Sustainability         330,115.51   \n",
       "169     2024                                   Brightside         271,547.23   \n",
       "171     2024                        Commonwealth Attorney       1,321,570.74   \n",
       "207     2024                           Parks & Recreation      16,018,333.93   \n",
       "168     2024                          Belle of Louisville       2,088,745.58   \n",
       "199     2024                  Office of Inspector General         616,479.69   \n",
       "205     2024                  Other Statutory Obligations         148,748.05   \n",
       "173     2024                           Develop Louisville               0.00   \n",
       "181     2024                  Insurance & Risk Management               0.00   \n",
       "\n",
       "      Salary Budget  Discrepancy Percent  \n",
       "187  125,356,962.57                12.06  \n",
       "176   12,039,313.74                 5.47  \n",
       "191   31,646,343.69                 3.49  \n",
       "174   12,705,848.71                 2.17  \n",
       "185   47,209,559.30                -0.20  \n",
       "213    1,676,005.13                -0.49  \n",
       "172      354,505.99                -1.51  \n",
       "201      367,525.45                -1.51  \n",
       "206    2,278,432.86                -5.39  \n",
       "193      443,865.14                -6.69  \n",
       "210    1,127,444.44                -7.62  \n",
       "212    1,310,471.20                -7.86  \n",
       "194    7,230,572.43               -10.75  \n",
       "192    5,354,001.53               -12.57  \n",
       "184    2,210,288.71               -14.09  \n",
       "183    1,430,312.46               -14.49  \n",
       "180    4,180,202.82               -15.01  \n",
       "182   10,287,605.64               -17.59  \n",
       "211    3,427,267.38               -17.96  \n",
       "166    3,978,256.99               -18.06  \n",
       "209   32,342,791.87               -18.37  \n",
       "198    3,851,901.79               -18.52  \n",
       "186   15,511,346.46               -18.94  \n",
       "175    2,361,940.31               -19.48  \n",
       "196    3,702,715.08               -20.11  \n",
       "170   13,810,143.98               -20.28  \n",
       "208   17,581,918.28               -20.54  \n",
       "203    8,570,588.48               -20.73  \n",
       "167    1,200,900.11               -22.57  \n",
       "179    1,074,330.58               -22.69  \n",
       "178      318,990.13               -23.43  \n",
       "177   12,131,613.27               -23.69  \n",
       "202    3,543,923.37               -23.91  \n",
       "195   11,855,221.02               -24.63  \n",
       "190    4,109,732.25               -29.20  \n",
       "200      812,002.30               -30.50  \n",
       "189    4,249,692.25               -30.53  \n",
       "188   12,374,025.63               -32.20  \n",
       "197      756,319.02               -33.61  \n",
       "204      508,572.07               -35.09  \n",
       "169      418,902.05               -35.18  \n",
       "171    2,051,988.90               -35.60  \n",
       "207   25,370,129.37               -36.86  \n",
       "168    4,160,722.18               -49.80  \n",
       "199    1,465,145.87               -57.92  \n",
       "205    1,871,490.00               -92.05  \n",
       "173      115,814.40              -100.00  \n",
       "181      151,840.00              -100.00  "
      ]
     },
     "execution_count": 21,
     "metadata": {},
     "output_type": "execute_result"
    }
   ],
   "source": [
    "# Example usage:\n",
    "department_result = department_discrepancy(2024, data)\n",
    "department_result"
   ]
  },
  {
   "cell_type": "code",
   "execution_count": 22,
   "metadata": {},
   "outputs": [],
   "source": [
    "data.to_csv(\"../data2/salary.csv\", index=False)"
   ]
  }
 ],
 "metadata": {
  "kernelspec": {
   "display_name": "venv",
   "language": "python",
   "name": "python3"
  },
  "language_info": {
   "codemirror_mode": {
    "name": "ipython",
    "version": 3
   },
   "file_extension": ".py",
   "mimetype": "text/x-python",
   "name": "python",
   "nbconvert_exporter": "python",
   "pygments_lexer": "ipython3",
   "version": "3.12.2"
  }
 },
 "nbformat": 4,
 "nbformat_minor": 2
}
