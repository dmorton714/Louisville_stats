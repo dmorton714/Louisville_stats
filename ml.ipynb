{
 "cells": [
  {
   "cell_type": "code",
   "execution_count": 2,
   "metadata": {},
   "outputs": [],
   "source": [
    "import pandas as pd"
   ]
  },
  {
   "cell_type": "code",
   "execution_count": 3,
   "metadata": {},
   "outputs": [],
   "source": [
    "# We're off to a pretty bad start. I have no idea where this data comes from. I assume this is data that you somehow created by transforming\n",
    "# data from the 3 datasets I got from running the .py files in this project, but I really have no idea how this happened or how I could recreate\n",
    "# it so I'm going to be doing a lot of shooting in the dark from here on out. \n",
    "\n",
    "'''\n",
    "That was my bad I forgot to include you should run the salary_api.py file \n",
    "to pull the data it should make the data folder and put in the data. \n",
    "'''\n",
    "\n",
    "data = pd.read_csv(\"data/SalaryData.csv\")"
   ]
  },
  {
   "cell_type": "markdown",
   "metadata": {},
   "source": [
    "# Cleaning "
   ]
  },
  {
   "cell_type": "code",
   "execution_count": 4,
   "metadata": {},
   "outputs": [],
   "source": [
    "# I'll start by saying that I believe your target variable aka 'y' aka the dependent variable aka the metric you would like to predict is \n",
    "# discrepancy ratio, based on what I can deduce by reading through this file. Anything I write from here on out is based on this assumption which \n",
    "# at this point is just that. From what I've put together at this point my main concern with this as far as manifesting this into an ML project is \n",
    "# figuring out what x (x is almost always a collection of things,) aka the predictor variables aka independent variables might be. Let's imagine \n",
    "# we're doing multiple regression, we need a formula along the lines y = m1x1 + m2x2 + m3x3 + mnxn + b, with b being the y intercept and the xs \n",
    "# being our predictor variables (n in this instance implies an unknown number of predictors.) So basically our concern at this point is finding \n",
    "# variables correlated with y which can be used to predict it.\n",
    "\n",
    "'''\n",
    "y (target variable): Discrepancy_Ratio\n",
    "x (predictor variables): YTD_Total, Salary_Total, CalYear\n",
    "\n",
    "I think is the idea here? \n",
    "\n",
    "'''\n",
    "\n",
    "cols_to_drop = ['Employee_Name', 'jobTitle', 'Regular_Rate', 'Overtime_Rate', 'Other', 'ObjectId']\n",
    "data = data.drop(columns=cols_to_drop)\n",
    "data['Salary_Total'] = data['Annual_Rate'] + data['Incentive_Allowance']\n",
    "\n",
    "# I'm interested in this incentive allowance metric and where it came from. It might bear fruit using it as a predictor if we can better\n",
    "# understand it's role and correlation to discrepancy/discrepancy ratio.\n",
    "# I think both of these drops are misguided in the quest for predictor variables frankly. Though we have above created a metric used to\n",
    "# represent them we are watering down their value as predictors by creating the above aggregate.\n",
    "'''\n",
    "I added it to the salary total as thats the total spend for the employee. \n",
    "The Incentive_Allowance is for uniforms ect. I assumed it would be best to\n",
    "add them together to get the full expected annual cost of the employee. \n",
    "'''\n",
    "\n",
    "final_drop = ['Annual_Rate', 'Incentive_Allowance']\n",
    "data = data.drop(columns=final_drop)\n",
    "\n",
    "# I will note when using .fillna() it is always expected that you would have some rationale for your strategy. I think it's probably pretty\n",
    "# straightforward here, but do anticipate this being questioned. Many would likely .fillna() on a column by column basis filling in the median\n",
    "# value relative to the column (presuming 'continuous' or numeric values which could hypothetically range from 0 to infinity.) I'll also note\n",
    "# there is a special kind of regression known as 'poisson' regression which might be worth considering for your purposes...It is particularly \n",
    "# useful when the target variable is known to not be truly continuous (ala -infinity to infinity) but known to fall within a range \n",
    "# characterized by 0 to 1 as this is how it works under the hood though in practice this can be used for any range. Poisson is particuarly \n",
    "# powerful when working with probabilities.\n",
    "# https://en.wikipedia.org/wiki/Poisson_regression\n",
    "\n",
    "'''\n",
    "I would suspect the 0 here would be someone left while still being an staff on paper \n",
    "I was going on the assumption it would be best to have a 0 but maybe fill will expected salary?\n",
    "'''\n",
    "\n",
    "data = data.fillna(0)\n",
    "data['Department'] = data['Department'].replace('Louisville Metro Police', 'Louisville Metro Police Department')"
   ]
  },
  {
   "cell_type": "code",
   "execution_count": 5,
   "metadata": {},
   "outputs": [
    {
     "data": {
      "text/html": [
       "<div>\n",
       "<style scoped>\n",
       "    .dataframe tbody tr th:only-of-type {\n",
       "        vertical-align: middle;\n",
       "    }\n",
       "\n",
       "    .dataframe tbody tr th {\n",
       "        vertical-align: top;\n",
       "    }\n",
       "\n",
       "    .dataframe thead th {\n",
       "        text-align: right;\n",
       "    }\n",
       "</style>\n",
       "<table border=\"1\" class=\"dataframe\">\n",
       "  <thead>\n",
       "    <tr style=\"text-align: right;\">\n",
       "      <th></th>\n",
       "      <th>CalYear</th>\n",
       "      <th>Department</th>\n",
       "      <th>YTD_Total</th>\n",
       "      <th>Salary_Total</th>\n",
       "    </tr>\n",
       "  </thead>\n",
       "  <tbody>\n",
       "    <tr>\n",
       "      <th>0</th>\n",
       "      <td>2023</td>\n",
       "      <td>OMB Finance</td>\n",
       "      <td>1600.00</td>\n",
       "      <td>5200.00</td>\n",
       "    </tr>\n",
       "    <tr>\n",
       "      <th>1</th>\n",
       "      <td>2023</td>\n",
       "      <td>Louisville Free Public Library</td>\n",
       "      <td>30657.64</td>\n",
       "      <td>30960.00</td>\n",
       "    </tr>\n",
       "    <tr>\n",
       "      <th>2</th>\n",
       "      <td>2023</td>\n",
       "      <td>Louisville Metro Police Department</td>\n",
       "      <td>41457.53</td>\n",
       "      <td>41457.52</td>\n",
       "    </tr>\n",
       "    <tr>\n",
       "      <th>3</th>\n",
       "      <td>2023</td>\n",
       "      <td>Louisville Metro Police Department</td>\n",
       "      <td>19823.87</td>\n",
       "      <td>16912.00</td>\n",
       "    </tr>\n",
       "    <tr>\n",
       "      <th>4</th>\n",
       "      <td>2023</td>\n",
       "      <td>Louisville Metro Police Department</td>\n",
       "      <td>58513.88</td>\n",
       "      <td>61796.80</td>\n",
       "    </tr>\n",
       "  </tbody>\n",
       "</table>\n",
       "</div>"
      ],
      "text/plain": [
       "   CalYear                          Department  YTD_Total  Salary_Total\n",
       "0     2023                         OMB Finance    1600.00       5200.00\n",
       "1     2023      Louisville Free Public Library   30657.64      30960.00\n",
       "2     2023  Louisville Metro Police Department   41457.53      41457.52\n",
       "3     2023  Louisville Metro Police Department   19823.87      16912.00\n",
       "4     2023  Louisville Metro Police Department   58513.88      61796.80"
      ]
     },
     "execution_count": 5,
     "metadata": {},
     "output_type": "execute_result"
    }
   ],
   "source": [
    "# This would be an insanely small dataset to do any kind of \n",
    "# ML with both in rows and columns but most concerningly in \n",
    "# columns. It makes a nice aggregate for example for a PowerPoint \n",
    "# slide, but would not be ideal to feed to a model.\n",
    "\n",
    "'''\n",
    "Yeah I think doing this as an individual department with all the \n",
    "employees would be better. \n",
    "\n",
    "From above is this a good target? \n",
    "y (target variable): Discrepancy_Ratio\n",
    "x (predictor variables): YTD_Total, Salary_Total, CalYear\n",
    "\n",
    "'''\n",
    "\n",
    "data.head()"
   ]
  },
  {
   "cell_type": "code",
   "execution_count": 6,
   "metadata": {},
   "outputs": [],
   "source": [
    "# final_salary = data.groupby('Department')[['YTD_Total', 'Salary_Total']].sum().reset_index()\n",
    "final_salary = data.groupby(['CalYear', 'Department'])[['YTD_Total', 'Salary_Total']].sum().reset_index()\n"
   ]
  },
  {
   "cell_type": "markdown",
   "metadata": {},
   "source": [
    "# Lmpd department view"
   ]
  },
  {
   "cell_type": "markdown",
   "metadata": {},
   "source": [
    "<font color='red'>This text is red\n",
    "Would this be the ideal set to work with below? \n",
    "\n",
    "From above is this a good target? \n",
    "y (target variable): Discrepancy_Ratio or Discrepancy\t\n",
    "x (predictor variables): YTD_Total, Salary_Total, CalYear\n",
    "</font>"
   ]
  },
  {
   "cell_type": "code",
   "execution_count": 15,
   "metadata": {},
   "outputs": [],
   "source": [
    "indv = pd.read_csv('data/SalaryData.csv')"
   ]
  },
  {
   "cell_type": "code",
   "execution_count": null,
   "metadata": {},
   "outputs": [],
   "source": [
    "cols_to_drop = ['Regular_Rate', 'Overtime_Rate', 'Other', 'ObjectId']\n",
    "indv = indv.drop(columns=cols_to_drop)\n",
    "indv['Salary_Total'] = indv['Annual_Rate'] + indv['Incentive_Allowance']\n",
    "final_drop = ['Annual_Rate', 'Incentive_Allowance']\n",
    "indv = indv.drop(columns=final_drop)\n",
    "indv = indv.fillna(0)\n",
    "indv['Department'] = indv['Department'].replace('Louisville Metro Police', 'Louisville Metro Police Department')\n",
    "indv = indv[indv['CalYear'] != 2024].copy()\n",
    "indv = indv[indv['Department'] == 'Louisville Metro Police Department'].copy()\n",
    "indv['Discrepancy'] = indv['YTD_Total'] - indv['Salary_Total']\n",
    "indv['Discrepancy_Ratio'] = indv['Discrepancy'] / indv['Salary_Total']"
   ]
  },
  {
   "cell_type": "code",
   "execution_count": 20,
   "metadata": {},
   "outputs": [
    {
     "data": {
      "text/html": [
       "<div>\n",
       "<style scoped>\n",
       "    .dataframe tbody tr th:only-of-type {\n",
       "        vertical-align: middle;\n",
       "    }\n",
       "\n",
       "    .dataframe tbody tr th {\n",
       "        vertical-align: top;\n",
       "    }\n",
       "\n",
       "    .dataframe thead th {\n",
       "        text-align: right;\n",
       "    }\n",
       "</style>\n",
       "<table border=\"1\" class=\"dataframe\">\n",
       "  <thead>\n",
       "    <tr style=\"text-align: right;\">\n",
       "      <th></th>\n",
       "      <th>CalYear</th>\n",
       "      <th>Employee_Name</th>\n",
       "      <th>Department</th>\n",
       "      <th>jobTitle</th>\n",
       "      <th>YTD_Total</th>\n",
       "      <th>Salary_Total</th>\n",
       "      <th>Discrepancy</th>\n",
       "      <th>Discrepancy_Ratio</th>\n",
       "    </tr>\n",
       "  </thead>\n",
       "  <tbody>\n",
       "    <tr>\n",
       "      <th>2</th>\n",
       "      <td>2023</td>\n",
       "      <td>Bratcher, Elaine</td>\n",
       "      <td>Louisville Metro Police Department</td>\n",
       "      <td>Clerk II-Police</td>\n",
       "      <td>41457.53</td>\n",
       "      <td>41457.52</td>\n",
       "      <td>0.01</td>\n",
       "      <td>2.412108e-07</td>\n",
       "    </tr>\n",
       "    <tr>\n",
       "      <th>3</th>\n",
       "      <td>2023</td>\n",
       "      <td>Jackson, Nila Marie</td>\n",
       "      <td>Louisville Metro Police Department</td>\n",
       "      <td>Traffic Guard I</td>\n",
       "      <td>19823.87</td>\n",
       "      <td>16912.00</td>\n",
       "      <td>2911.87</td>\n",
       "      <td>1.721777e-01</td>\n",
       "    </tr>\n",
       "  </tbody>\n",
       "</table>\n",
       "</div>"
      ],
      "text/plain": [
       "   CalYear        Employee_Name                          Department  \\\n",
       "2     2023     Bratcher, Elaine  Louisville Metro Police Department   \n",
       "3     2023  Jackson, Nila Marie  Louisville Metro Police Department   \n",
       "\n",
       "          jobTitle  YTD_Total  Salary_Total  Discrepancy  Discrepancy_Ratio  \n",
       "2  Clerk II-Police   41457.53      41457.52         0.01       2.412108e-07  \n",
       "3  Traffic Guard I   19823.87      16912.00      2911.87       1.721777e-01  "
      ]
     },
     "execution_count": 20,
     "metadata": {},
     "output_type": "execute_result"
    }
   ],
   "source": [
    "indv.head(2)"
   ]
  }
 ],
 "metadata": {
  "kernelspec": {
   "display_name": "venv",
   "language": "python",
   "name": "python3"
  },
  "language_info": {
   "codemirror_mode": {
    "name": "ipython",
    "version": 3
   },
   "file_extension": ".py",
   "mimetype": "text/x-python",
   "name": "python",
   "nbconvert_exporter": "python",
   "pygments_lexer": "ipython3",
   "version": "3.12.2"
  }
 },
 "nbformat": 4,
 "nbformat_minor": 2
}
