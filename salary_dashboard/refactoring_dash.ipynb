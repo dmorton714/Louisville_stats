{
 "cells": [
  {
   "cell_type": "code",
   "execution_count": 43,
   "metadata": {},
   "outputs": [],
   "source": [
    "import pandas as pd\n",
    "import numpy as np\n",
    "from datetime import datetime\n",
    "import plotly.graph_objects as go\n",
    "from selenium import webdriver\n",
    "from selenium.webdriver.common.by import By\n",
    "from selenium.webdriver.chrome.service import Service\n",
    "from webdriver_manager.chrome import ChromeDriverManager"
   ]
  },
  {
   "cell_type": "markdown",
   "metadata": {},
   "source": [
    "<pre>\n",
    "+---------------------------------------------------------------------------------------------------------+\n",
    "|+-------------------------------------------------------------------------------------------------------+|\n",
    "||[1. logo] 2. Louisville Metro Government Salary tracker   [3. Department drop down][ 4. year drop down]|| \n",
    "|+-------------------------------------------------------------------------------------------------------+|\n",
    "|+--------+     6. salary spend 8. actual salary spend +-----+     +-------------------------------------+|\n",
    "||5. plot |     7. salary data  9. salary data         |12. %|     |  11. horizontal bar plot department || \n",
    "||        |                                            +-----+     |                                     || \n",
    "|+--------+                                                        |                                     || \n",
    "|                                                                  |                                     || \n",
    "|+---------------------------------------------------------------+ |                                     || \n",
    "|| 10. Top employees salary deviation data frame                 | |                                     || \n",
    "||                                                               | |                                     || \n",
    "||                                                               | |                                     || \n",
    "||                                                               | |                                     || \n",
    "||                                                               | |                                     || \n",
    "||                                                               | |                                     || \n",
    "||                                                               | |                                     || \n",
    "|+---------------------------------------------------------------+ +-------------------------------------+|\n",
    "+---------------------------------------------------------------------------------------------------------+\n",
    "</pre>\n"
   ]
  },
  {
   "cell_type": "code",
   "execution_count": 44,
   "metadata": {},
   "outputs": [
    {
     "name": "stdout",
     "output_type": "stream",
     "text": [
      "Data Updated Date: November 27, 2024\n",
      "Label: Data Updated\n"
     ]
    }
   ],
   "source": [
    "def check_data_updated():\n",
    "    '''\n",
    "    This function checks when the salary data was last updated\n",
    "    to calculate 2024 salary data later.\n",
    "    '''\n",
    "    # Set up Selenium WebDriver\n",
    "    driver = webdriver.Chrome(service=Service(ChromeDriverManager().install()))\n",
    "\n",
    "    # URL of the page containing the data update info\n",
    "    url = \"https://data.louisvilleky.gov/datasets/8bd82421c9b94c37925fb37edaa1c5e8_0/explore\"\n",
    "\n",
    "    # Open the URL with Selenium\n",
    "    driver.get(url)\n",
    "\n",
    "    # Give some time for the page to load\n",
    "    driver.implicitly_wait(5)\n",
    "\n",
    "    # Targeting the specific list item that contains the \"Data Updated\" date and label\n",
    "    data_updated_item = driver.find_element(By.CSS_SELECTOR, \"li.metadata-item[data-test='modified']\")\n",
    "\n",
    "    # Extract both the date and label text\n",
    "    date_div = data_updated_item.find_elements(By.TAG_NAME, 'div')[0].text\n",
    "    label_div = data_updated_item.find_elements(By.TAG_NAME, 'div')[1].text\n",
    "\n",
    "    # Print the extracted information\n",
    "    print(f\"Data Updated Date: {date_div}\")\n",
    "    print(f\"Label: {label_div}\")\n",
    "\n",
    "    # Close the driver\n",
    "    driver.quit()\n",
    "\n",
    "# Call the function to check data update information\n",
    "check_data_updated()\n"
   ]
  },
  {
   "cell_type": "code",
   "execution_count": 45,
   "metadata": {},
   "outputs": [],
   "source": [
    "data = pd.read_csv(\"../data/salary.csv\")"
   ]
  },
  {
   "cell_type": "code",
   "execution_count": 46,
   "metadata": {},
   "outputs": [],
   "source": [
    "date_div = 'November 27, 2024'"
   ]
  },
  {
   "cell_type": "code",
   "execution_count": 47,
   "metadata": {},
   "outputs": [],
   "source": [
    "def process_salary_data(data, date_div):\n",
    "    '''\n",
    "    This function processes the salary data by performing several transformations:\n",
    "    - Drops unnecessary columns\n",
    "    - Calculates total expected salary\n",
    "    - Fills missing values with 0\n",
    "    - Merges department names\n",
    "    - Calculates total weekly hours worked\n",
    "    - Converts date to datetime and computes week and year for adjustments\n",
    "    - Adjusts the annual rate for the specified year and week\n",
    "\n",
    "    Args:\n",
    "        data (pd.DataFrame): The input DataFrame with salary data\n",
    "        date_div (str): The date string (from the check_data_updated function) to determine the week and year\n",
    "\n",
    "    Returns:\n",
    "        pd.DataFrame: The processed salary data\n",
    "    '''\n",
    "    # Drops columns we don't need\n",
    "    cols_to_drop = ['jobTitle', 'Other', 'ObjectId']\n",
    "    data = data.drop(columns=cols_to_drop)\n",
    "\n",
    "    # Calculates total expected salary\n",
    "    data['Salary_Total'] = data['Annual_Rate'] + data['Incentive_Allowance']\n",
    "\n",
    "    # Filling missing data with 0\n",
    "    data = data.fillna(0)\n",
    "\n",
    "    # Merging the departments together\n",
    "    data['Department'] = data['Department'].replace('Louisville Metro Police', 'Louisville Metro Police Department')\n",
    "    data['Department'] = data['Department'].replace('Department of Corrections', 'Metro Corrections')\n",
    "\n",
    "    # Calculates total weekly hours worked\n",
    "    data['Hr_Rate'] = data['Regular_Rate'] / 2080\n",
    "    data['Ot_Rate'] = data['Hr_Rate'] * 1.5\n",
    "    data['Hr_Worked'] = data['Overtime_Rate'] / data['Ot_Rate'] / 52 + 40\n",
    "    data.replace([np.inf, -np.inf], 40, inplace=True)\n",
    "\n",
    "    # Convert the string to a datetime object\n",
    "    date_object = datetime.strptime(date_div, \"%B %d, %Y\")\n",
    "\n",
    "    # Get the week number of the calendar year\n",
    "    week = date_object.isocalendar()[1]\n",
    "\n",
    "    # Get the calendar year\n",
    "    c_year = date_object.year\n",
    "\n",
    "    # Check if there are any rows where the CalYear is equal to the specified c_year\n",
    "    if (data['CalYear'] == c_year).any():\n",
    "        # Convert Annual_Rate to weekly rate by dividing by 52\n",
    "        data.loc[data['CalYear'] == c_year, 'Annual_Rate'] = data.loc[data['CalYear'] == c_year, 'Annual_Rate'] / 52\n",
    "\n",
    "        # Scale the weekly rate for the specific week\n",
    "        data.loc[data['CalYear'] == c_year, 'Annual_Rate'] = data.loc[data['CalYear'] == c_year, 'Annual_Rate'] * week\n",
    "\n",
    "    return data\n"
   ]
  },
  {
   "cell_type": "code",
   "execution_count": 48,
   "metadata": {},
   "outputs": [
    {
     "data": {
      "text/html": [
       "<div>\n",
       "<style scoped>\n",
       "    .dataframe tbody tr th:only-of-type {\n",
       "        vertical-align: middle;\n",
       "    }\n",
       "\n",
       "    .dataframe tbody tr th {\n",
       "        vertical-align: top;\n",
       "    }\n",
       "\n",
       "    .dataframe thead th {\n",
       "        text-align: right;\n",
       "    }\n",
       "</style>\n",
       "<table border=\"1\" class=\"dataframe\">\n",
       "  <thead>\n",
       "    <tr style=\"text-align: right;\">\n",
       "      <th></th>\n",
       "      <th>CalYear</th>\n",
       "      <th>Employee_Name</th>\n",
       "      <th>Department</th>\n",
       "      <th>Annual_Rate</th>\n",
       "      <th>Regular_Rate</th>\n",
       "      <th>Overtime_Rate</th>\n",
       "      <th>Incentive_Allowance</th>\n",
       "      <th>YTD_Total</th>\n",
       "      <th>Salary_Total</th>\n",
       "      <th>Hr_Rate</th>\n",
       "      <th>Ot_Rate</th>\n",
       "      <th>Hr_Worked</th>\n",
       "    </tr>\n",
       "  </thead>\n",
       "  <tbody>\n",
       "    <tr>\n",
       "      <th>0</th>\n",
       "      <td>2019</td>\n",
       "      <td>Pallast, Kirk</td>\n",
       "      <td>Parks &amp; Recreation</td>\n",
       "      <td>43035.2</td>\n",
       "      <td>42527.35</td>\n",
       "      <td>399.60</td>\n",
       "      <td>0.0</td>\n",
       "      <td>42926.95</td>\n",
       "      <td>43035.2</td>\n",
       "      <td>20.445841</td>\n",
       "      <td>30.668762</td>\n",
       "      <td>40.250568</td>\n",
       "    </tr>\n",
       "    <tr>\n",
       "      <th>1</th>\n",
       "      <td>2019</td>\n",
       "      <td>Williams, Arthur</td>\n",
       "      <td>Parks &amp; Recreation</td>\n",
       "      <td>43014.4</td>\n",
       "      <td>42545.13</td>\n",
       "      <td>0.00</td>\n",
       "      <td>0.0</td>\n",
       "      <td>42545.13</td>\n",
       "      <td>43014.4</td>\n",
       "      <td>20.454389</td>\n",
       "      <td>30.681584</td>\n",
       "      <td>40.000000</td>\n",
       "    </tr>\n",
       "    <tr>\n",
       "      <th>2</th>\n",
       "      <td>2019</td>\n",
       "      <td>Addison, Joseph</td>\n",
       "      <td>Library</td>\n",
       "      <td>41974.4</td>\n",
       "      <td>41974.40</td>\n",
       "      <td>9.08</td>\n",
       "      <td>0.0</td>\n",
       "      <td>42040.30</td>\n",
       "      <td>41974.4</td>\n",
       "      <td>20.180000</td>\n",
       "      <td>30.270000</td>\n",
       "      <td>40.005769</td>\n",
       "    </tr>\n",
       "    <tr>\n",
       "      <th>3</th>\n",
       "      <td>2019</td>\n",
       "      <td>Flint, Ruth</td>\n",
       "      <td>Library</td>\n",
       "      <td>54870.4</td>\n",
       "      <td>54870.40</td>\n",
       "      <td>0.00</td>\n",
       "      <td>0.0</td>\n",
       "      <td>54956.16</td>\n",
       "      <td>54870.4</td>\n",
       "      <td>26.380000</td>\n",
       "      <td>39.570000</td>\n",
       "      <td>40.000000</td>\n",
       "    </tr>\n",
       "    <tr>\n",
       "      <th>4</th>\n",
       "      <td>2019</td>\n",
       "      <td>Probus, Kelly</td>\n",
       "      <td>Develop Louisville</td>\n",
       "      <td>43014.4</td>\n",
       "      <td>42555.26</td>\n",
       "      <td>15.20</td>\n",
       "      <td>0.0</td>\n",
       "      <td>42570.46</td>\n",
       "      <td>43014.4</td>\n",
       "      <td>20.459260</td>\n",
       "      <td>30.688889</td>\n",
       "      <td>40.009525</td>\n",
       "    </tr>\n",
       "  </tbody>\n",
       "</table>\n",
       "</div>"
      ],
      "text/plain": [
       "   CalYear     Employee_Name          Department  Annual_Rate  Regular_Rate  \\\n",
       "0     2019     Pallast, Kirk  Parks & Recreation      43035.2      42527.35   \n",
       "1     2019  Williams, Arthur  Parks & Recreation      43014.4      42545.13   \n",
       "2     2019   Addison, Joseph             Library      41974.4      41974.40   \n",
       "3     2019       Flint, Ruth             Library      54870.4      54870.40   \n",
       "4     2019     Probus, Kelly  Develop Louisville      43014.4      42555.26   \n",
       "\n",
       "   Overtime_Rate  Incentive_Allowance  YTD_Total  Salary_Total    Hr_Rate  \\\n",
       "0         399.60                  0.0   42926.95       43035.2  20.445841   \n",
       "1           0.00                  0.0   42545.13       43014.4  20.454389   \n",
       "2           9.08                  0.0   42040.30       41974.4  20.180000   \n",
       "3           0.00                  0.0   54956.16       54870.4  26.380000   \n",
       "4          15.20                  0.0   42570.46       43014.4  20.459260   \n",
       "\n",
       "     Ot_Rate  Hr_Worked  \n",
       "0  30.668762  40.250568  \n",
       "1  30.681584  40.000000  \n",
       "2  30.270000  40.005769  \n",
       "3  39.570000  40.000000  \n",
       "4  30.688889  40.009525  "
      ]
     },
     "execution_count": 48,
     "metadata": {},
     "output_type": "execute_result"
    }
   ],
   "source": [
    "data = process_salary_data(data, date_div)\n",
    "data.head()"
   ]
  },
  {
   "cell_type": "markdown",
   "metadata": {},
   "source": [
    "# code for 5\n",
    "\n"
   ]
  },
  {
   "cell_type": "code",
   "execution_count": 49,
   "metadata": {},
   "outputs": [
    {
     "data": {
      "application/vnd.plotly.v1+json": {
       "config": {
        "plotlyServerURL": "https://plot.ly"
       },
       "data": [
        {
         "delta": {
          "decreasing": {
           "color": "green"
          },
          "increasing": {
           "color": "red"
          },
          "reference": 450699319.02
         },
         "gauge": {
          "axis": {
           "range": [
            0,
            495769250.922
           ]
          },
          "bar": {
           "color": "rgba(0,0,0,0)"
          },
          "steps": [
           {
            "color": "#004080",
            "range": [
             0,
             450699319.02
            ]
           }
          ],
          "threshold": {
           "line": {
            "color": "red",
            "width": 4
           },
           "thickness": 0.95,
           "value": 373062743.42
          }
         },
         "mode": "gauge+number+delta",
         "title": {
          "font": {
           "size": 20
          },
          "text": "2024 Budgeted Salary Spend vs. Salary Spend Actual"
         },
         "type": "indicator",
         "value": 373062743.42
        }
       ],
       "layout": {
        "template": {
         "data": {
          "bar": [
           {
            "error_x": {
             "color": "#2a3f5f"
            },
            "error_y": {
             "color": "#2a3f5f"
            },
            "marker": {
             "line": {
              "color": "#E5ECF6",
              "width": 0.5
             },
             "pattern": {
              "fillmode": "overlay",
              "size": 10,
              "solidity": 0.2
             }
            },
            "type": "bar"
           }
          ],
          "barpolar": [
           {
            "marker": {
             "line": {
              "color": "#E5ECF6",
              "width": 0.5
             },
             "pattern": {
              "fillmode": "overlay",
              "size": 10,
              "solidity": 0.2
             }
            },
            "type": "barpolar"
           }
          ],
          "carpet": [
           {
            "aaxis": {
             "endlinecolor": "#2a3f5f",
             "gridcolor": "white",
             "linecolor": "white",
             "minorgridcolor": "white",
             "startlinecolor": "#2a3f5f"
            },
            "baxis": {
             "endlinecolor": "#2a3f5f",
             "gridcolor": "white",
             "linecolor": "white",
             "minorgridcolor": "white",
             "startlinecolor": "#2a3f5f"
            },
            "type": "carpet"
           }
          ],
          "choropleth": [
           {
            "colorbar": {
             "outlinewidth": 0,
             "ticks": ""
            },
            "type": "choropleth"
           }
          ],
          "contour": [
           {
            "colorbar": {
             "outlinewidth": 0,
             "ticks": ""
            },
            "colorscale": [
             [
              0,
              "#0d0887"
             ],
             [
              0.1111111111111111,
              "#46039f"
             ],
             [
              0.2222222222222222,
              "#7201a8"
             ],
             [
              0.3333333333333333,
              "#9c179e"
             ],
             [
              0.4444444444444444,
              "#bd3786"
             ],
             [
              0.5555555555555556,
              "#d8576b"
             ],
             [
              0.6666666666666666,
              "#ed7953"
             ],
             [
              0.7777777777777778,
              "#fb9f3a"
             ],
             [
              0.8888888888888888,
              "#fdca26"
             ],
             [
              1,
              "#f0f921"
             ]
            ],
            "type": "contour"
           }
          ],
          "contourcarpet": [
           {
            "colorbar": {
             "outlinewidth": 0,
             "ticks": ""
            },
            "type": "contourcarpet"
           }
          ],
          "heatmap": [
           {
            "colorbar": {
             "outlinewidth": 0,
             "ticks": ""
            },
            "colorscale": [
             [
              0,
              "#0d0887"
             ],
             [
              0.1111111111111111,
              "#46039f"
             ],
             [
              0.2222222222222222,
              "#7201a8"
             ],
             [
              0.3333333333333333,
              "#9c179e"
             ],
             [
              0.4444444444444444,
              "#bd3786"
             ],
             [
              0.5555555555555556,
              "#d8576b"
             ],
             [
              0.6666666666666666,
              "#ed7953"
             ],
             [
              0.7777777777777778,
              "#fb9f3a"
             ],
             [
              0.8888888888888888,
              "#fdca26"
             ],
             [
              1,
              "#f0f921"
             ]
            ],
            "type": "heatmap"
           }
          ],
          "heatmapgl": [
           {
            "colorbar": {
             "outlinewidth": 0,
             "ticks": ""
            },
            "colorscale": [
             [
              0,
              "#0d0887"
             ],
             [
              0.1111111111111111,
              "#46039f"
             ],
             [
              0.2222222222222222,
              "#7201a8"
             ],
             [
              0.3333333333333333,
              "#9c179e"
             ],
             [
              0.4444444444444444,
              "#bd3786"
             ],
             [
              0.5555555555555556,
              "#d8576b"
             ],
             [
              0.6666666666666666,
              "#ed7953"
             ],
             [
              0.7777777777777778,
              "#fb9f3a"
             ],
             [
              0.8888888888888888,
              "#fdca26"
             ],
             [
              1,
              "#f0f921"
             ]
            ],
            "type": "heatmapgl"
           }
          ],
          "histogram": [
           {
            "marker": {
             "pattern": {
              "fillmode": "overlay",
              "size": 10,
              "solidity": 0.2
             }
            },
            "type": "histogram"
           }
          ],
          "histogram2d": [
           {
            "colorbar": {
             "outlinewidth": 0,
             "ticks": ""
            },
            "colorscale": [
             [
              0,
              "#0d0887"
             ],
             [
              0.1111111111111111,
              "#46039f"
             ],
             [
              0.2222222222222222,
              "#7201a8"
             ],
             [
              0.3333333333333333,
              "#9c179e"
             ],
             [
              0.4444444444444444,
              "#bd3786"
             ],
             [
              0.5555555555555556,
              "#d8576b"
             ],
             [
              0.6666666666666666,
              "#ed7953"
             ],
             [
              0.7777777777777778,
              "#fb9f3a"
             ],
             [
              0.8888888888888888,
              "#fdca26"
             ],
             [
              1,
              "#f0f921"
             ]
            ],
            "type": "histogram2d"
           }
          ],
          "histogram2dcontour": [
           {
            "colorbar": {
             "outlinewidth": 0,
             "ticks": ""
            },
            "colorscale": [
             [
              0,
              "#0d0887"
             ],
             [
              0.1111111111111111,
              "#46039f"
             ],
             [
              0.2222222222222222,
              "#7201a8"
             ],
             [
              0.3333333333333333,
              "#9c179e"
             ],
             [
              0.4444444444444444,
              "#bd3786"
             ],
             [
              0.5555555555555556,
              "#d8576b"
             ],
             [
              0.6666666666666666,
              "#ed7953"
             ],
             [
              0.7777777777777778,
              "#fb9f3a"
             ],
             [
              0.8888888888888888,
              "#fdca26"
             ],
             [
              1,
              "#f0f921"
             ]
            ],
            "type": "histogram2dcontour"
           }
          ],
          "mesh3d": [
           {
            "colorbar": {
             "outlinewidth": 0,
             "ticks": ""
            },
            "type": "mesh3d"
           }
          ],
          "parcoords": [
           {
            "line": {
             "colorbar": {
              "outlinewidth": 0,
              "ticks": ""
             }
            },
            "type": "parcoords"
           }
          ],
          "pie": [
           {
            "automargin": true,
            "type": "pie"
           }
          ],
          "scatter": [
           {
            "fillpattern": {
             "fillmode": "overlay",
             "size": 10,
             "solidity": 0.2
            },
            "type": "scatter"
           }
          ],
          "scatter3d": [
           {
            "line": {
             "colorbar": {
              "outlinewidth": 0,
              "ticks": ""
             }
            },
            "marker": {
             "colorbar": {
              "outlinewidth": 0,
              "ticks": ""
             }
            },
            "type": "scatter3d"
           }
          ],
          "scattercarpet": [
           {
            "marker": {
             "colorbar": {
              "outlinewidth": 0,
              "ticks": ""
             }
            },
            "type": "scattercarpet"
           }
          ],
          "scattergeo": [
           {
            "marker": {
             "colorbar": {
              "outlinewidth": 0,
              "ticks": ""
             }
            },
            "type": "scattergeo"
           }
          ],
          "scattergl": [
           {
            "marker": {
             "colorbar": {
              "outlinewidth": 0,
              "ticks": ""
             }
            },
            "type": "scattergl"
           }
          ],
          "scattermapbox": [
           {
            "marker": {
             "colorbar": {
              "outlinewidth": 0,
              "ticks": ""
             }
            },
            "type": "scattermapbox"
           }
          ],
          "scatterpolar": [
           {
            "marker": {
             "colorbar": {
              "outlinewidth": 0,
              "ticks": ""
             }
            },
            "type": "scatterpolar"
           }
          ],
          "scatterpolargl": [
           {
            "marker": {
             "colorbar": {
              "outlinewidth": 0,
              "ticks": ""
             }
            },
            "type": "scatterpolargl"
           }
          ],
          "scatterternary": [
           {
            "marker": {
             "colorbar": {
              "outlinewidth": 0,
              "ticks": ""
             }
            },
            "type": "scatterternary"
           }
          ],
          "surface": [
           {
            "colorbar": {
             "outlinewidth": 0,
             "ticks": ""
            },
            "colorscale": [
             [
              0,
              "#0d0887"
             ],
             [
              0.1111111111111111,
              "#46039f"
             ],
             [
              0.2222222222222222,
              "#7201a8"
             ],
             [
              0.3333333333333333,
              "#9c179e"
             ],
             [
              0.4444444444444444,
              "#bd3786"
             ],
             [
              0.5555555555555556,
              "#d8576b"
             ],
             [
              0.6666666666666666,
              "#ed7953"
             ],
             [
              0.7777777777777778,
              "#fb9f3a"
             ],
             [
              0.8888888888888888,
              "#fdca26"
             ],
             [
              1,
              "#f0f921"
             ]
            ],
            "type": "surface"
           }
          ],
          "table": [
           {
            "cells": {
             "fill": {
              "color": "#EBF0F8"
             },
             "line": {
              "color": "white"
             }
            },
            "header": {
             "fill": {
              "color": "#C8D4E3"
             },
             "line": {
              "color": "white"
             }
            },
            "type": "table"
           }
          ]
         },
         "layout": {
          "annotationdefaults": {
           "arrowcolor": "#2a3f5f",
           "arrowhead": 0,
           "arrowwidth": 1
          },
          "autotypenumbers": "strict",
          "coloraxis": {
           "colorbar": {
            "outlinewidth": 0,
            "ticks": ""
           }
          },
          "colorscale": {
           "diverging": [
            [
             0,
             "#8e0152"
            ],
            [
             0.1,
             "#c51b7d"
            ],
            [
             0.2,
             "#de77ae"
            ],
            [
             0.3,
             "#f1b6da"
            ],
            [
             0.4,
             "#fde0ef"
            ],
            [
             0.5,
             "#f7f7f7"
            ],
            [
             0.6,
             "#e6f5d0"
            ],
            [
             0.7,
             "#b8e186"
            ],
            [
             0.8,
             "#7fbc41"
            ],
            [
             0.9,
             "#4d9221"
            ],
            [
             1,
             "#276419"
            ]
           ],
           "sequential": [
            [
             0,
             "#0d0887"
            ],
            [
             0.1111111111111111,
             "#46039f"
            ],
            [
             0.2222222222222222,
             "#7201a8"
            ],
            [
             0.3333333333333333,
             "#9c179e"
            ],
            [
             0.4444444444444444,
             "#bd3786"
            ],
            [
             0.5555555555555556,
             "#d8576b"
            ],
            [
             0.6666666666666666,
             "#ed7953"
            ],
            [
             0.7777777777777778,
             "#fb9f3a"
            ],
            [
             0.8888888888888888,
             "#fdca26"
            ],
            [
             1,
             "#f0f921"
            ]
           ],
           "sequentialminus": [
            [
             0,
             "#0d0887"
            ],
            [
             0.1111111111111111,
             "#46039f"
            ],
            [
             0.2222222222222222,
             "#7201a8"
            ],
            [
             0.3333333333333333,
             "#9c179e"
            ],
            [
             0.4444444444444444,
             "#bd3786"
            ],
            [
             0.5555555555555556,
             "#d8576b"
            ],
            [
             0.6666666666666666,
             "#ed7953"
            ],
            [
             0.7777777777777778,
             "#fb9f3a"
            ],
            [
             0.8888888888888888,
             "#fdca26"
            ],
            [
             1,
             "#f0f921"
            ]
           ]
          },
          "colorway": [
           "#636efa",
           "#EF553B",
           "#00cc96",
           "#ab63fa",
           "#FFA15A",
           "#19d3f3",
           "#FF6692",
           "#B6E880",
           "#FF97FF",
           "#FECB52"
          ],
          "font": {
           "color": "#2a3f5f"
          },
          "geo": {
           "bgcolor": "white",
           "lakecolor": "white",
           "landcolor": "#E5ECF6",
           "showlakes": true,
           "showland": true,
           "subunitcolor": "white"
          },
          "hoverlabel": {
           "align": "left"
          },
          "hovermode": "closest",
          "mapbox": {
           "style": "light"
          },
          "paper_bgcolor": "white",
          "plot_bgcolor": "#E5ECF6",
          "polar": {
           "angularaxis": {
            "gridcolor": "white",
            "linecolor": "white",
            "ticks": ""
           },
           "bgcolor": "#E5ECF6",
           "radialaxis": {
            "gridcolor": "white",
            "linecolor": "white",
            "ticks": ""
           }
          },
          "scene": {
           "xaxis": {
            "backgroundcolor": "#E5ECF6",
            "gridcolor": "white",
            "gridwidth": 2,
            "linecolor": "white",
            "showbackground": true,
            "ticks": "",
            "zerolinecolor": "white"
           },
           "yaxis": {
            "backgroundcolor": "#E5ECF6",
            "gridcolor": "white",
            "gridwidth": 2,
            "linecolor": "white",
            "showbackground": true,
            "ticks": "",
            "zerolinecolor": "white"
           },
           "zaxis": {
            "backgroundcolor": "#E5ECF6",
            "gridcolor": "white",
            "gridwidth": 2,
            "linecolor": "white",
            "showbackground": true,
            "ticks": "",
            "zerolinecolor": "white"
           }
          },
          "shapedefaults": {
           "line": {
            "color": "#2a3f5f"
           }
          },
          "ternary": {
           "aaxis": {
            "gridcolor": "white",
            "linecolor": "white",
            "ticks": ""
           },
           "baxis": {
            "gridcolor": "white",
            "linecolor": "white",
            "ticks": ""
           },
           "bgcolor": "#E5ECF6",
           "caxis": {
            "gridcolor": "white",
            "linecolor": "white",
            "ticks": ""
           }
          },
          "title": {
           "x": 0.05
          },
          "xaxis": {
           "automargin": true,
           "gridcolor": "white",
           "linecolor": "white",
           "ticks": "",
           "title": {
            "standoff": 15
           },
           "zerolinecolor": "white",
           "zerolinewidth": 2
          },
          "yaxis": {
           "automargin": true,
           "gridcolor": "white",
           "linecolor": "white",
           "ticks": "",
           "title": {
            "standoff": 15
           },
           "zerolinecolor": "white",
           "zerolinewidth": 2
          }
         }
        },
        "title": {
         "font": {
          "size": 20
         }
        }
       }
      }
     },
     "metadata": {},
     "output_type": "display_data"
    }
   ],
   "source": [
    "# Code for 5\n",
    "def plot_info(year, data) -> None:\n",
    "    gauge = data.groupby(['CalYear'])[['YTD_Total', 'Salary_Total']].sum().reset_index()\n",
    "    # Filter the data for the given year\n",
    "    year_filter = gauge[gauge['CalYear'] == year]\n",
    "    \n",
    "    # Extract actual and expected values\n",
    "    actual = year_filter['YTD_Total'].iloc[0]\n",
    "    expected = year_filter['Salary_Total'].iloc[0]\n",
    "\n",
    "    # Create the gauge plot\n",
    "    steps = [\n",
    "        {'range': [0, expected], 'color': '#004080'}  # Dark blue for expected salary\n",
    "    ]\n",
    "    \n",
    "    # Add yellow step if actual exceeds expected\n",
    "    if actual > expected:\n",
    "        steps.append({'range': [expected, actual], 'color': 'yellow'})  # Yellow for actual salary\n",
    "    \n",
    "    fig = go.Figure(go.Indicator(\n",
    "        mode=\"gauge+number+delta\",\n",
    "        value=actual,\n",
    "        delta={\n",
    "            'reference': expected,\n",
    "            'increasing': {'color': \"red\"},\n",
    "            'decreasing': {'color': \"green\"}\n",
    "        },\n",
    "        gauge={\n",
    "            'axis': {'range': [0, expected * 1.1]},  \n",
    "            'bar': {'color': 'rgba(0,0,0,0)'},\n",
    "            'steps': steps,\n",
    "            'threshold': {\n",
    "                'line': {'color': \"red\", 'width': 4},  \n",
    "                'thickness': .95,\n",
    "                'value': actual  # Place the red line at the actual\n",
    "            }\n",
    "        },\n",
    "        title={'text': f\"{year} Budgeted Salary Spend vs. Salary Spend Actual\", 'font': {'size': 20}},\n",
    "    ))\n",
    "\n",
    "    fig.update_layout(\n",
    "        title_font={'size': 20},  # Set font size for the overall layout title\n",
    "    )\n",
    "\n",
    "    # Show the figure\n",
    "    fig.show()\n",
    "\n",
    "\n",
    "# Example usage:\n",
    "plot_info(2024, data)\n"
   ]
  },
  {
   "cell_type": "code",
   "execution_count": 50,
   "metadata": {},
   "outputs": [
    {
     "data": {
      "application/vnd.plotly.v1+json": {
       "config": {
        "plotlyServerURL": "https://plot.ly"
       },
       "data": [
        {
         "delta": {
          "decreasing": {
           "color": "green"
          },
          "increasing": {
           "color": "red"
          },
          "reference": 370297977.27
         },
         "gauge": {
          "axis": {
           "range": [
            0,
            407327774.99700004
           ]
          },
          "bar": {
           "color": "rgba(0,0,0,0)"
          },
          "steps": [
           {
            "color": "#004080",
            "range": [
             0,
             370297977.27
            ]
           },
           {
            "color": "yellow",
            "range": [
             370297977.27,
             390135716.2
            ]
           }
          ],
          "threshold": {
           "line": {
            "color": "red",
            "width": 4
           },
           "thickness": 0.95,
           "value": 390135716.2
          }
         },
         "mode": "gauge+number+delta",
         "title": {
          "font": {
           "size": 20
          },
          "text": "2022 Budgeted Salary Spend vs. Salary Spend Actual"
         },
         "type": "indicator",
         "value": 390135716.2
        }
       ],
       "layout": {
        "template": {
         "data": {
          "bar": [
           {
            "error_x": {
             "color": "#2a3f5f"
            },
            "error_y": {
             "color": "#2a3f5f"
            },
            "marker": {
             "line": {
              "color": "#E5ECF6",
              "width": 0.5
             },
             "pattern": {
              "fillmode": "overlay",
              "size": 10,
              "solidity": 0.2
             }
            },
            "type": "bar"
           }
          ],
          "barpolar": [
           {
            "marker": {
             "line": {
              "color": "#E5ECF6",
              "width": 0.5
             },
             "pattern": {
              "fillmode": "overlay",
              "size": 10,
              "solidity": 0.2
             }
            },
            "type": "barpolar"
           }
          ],
          "carpet": [
           {
            "aaxis": {
             "endlinecolor": "#2a3f5f",
             "gridcolor": "white",
             "linecolor": "white",
             "minorgridcolor": "white",
             "startlinecolor": "#2a3f5f"
            },
            "baxis": {
             "endlinecolor": "#2a3f5f",
             "gridcolor": "white",
             "linecolor": "white",
             "minorgridcolor": "white",
             "startlinecolor": "#2a3f5f"
            },
            "type": "carpet"
           }
          ],
          "choropleth": [
           {
            "colorbar": {
             "outlinewidth": 0,
             "ticks": ""
            },
            "type": "choropleth"
           }
          ],
          "contour": [
           {
            "colorbar": {
             "outlinewidth": 0,
             "ticks": ""
            },
            "colorscale": [
             [
              0,
              "#0d0887"
             ],
             [
              0.1111111111111111,
              "#46039f"
             ],
             [
              0.2222222222222222,
              "#7201a8"
             ],
             [
              0.3333333333333333,
              "#9c179e"
             ],
             [
              0.4444444444444444,
              "#bd3786"
             ],
             [
              0.5555555555555556,
              "#d8576b"
             ],
             [
              0.6666666666666666,
              "#ed7953"
             ],
             [
              0.7777777777777778,
              "#fb9f3a"
             ],
             [
              0.8888888888888888,
              "#fdca26"
             ],
             [
              1,
              "#f0f921"
             ]
            ],
            "type": "contour"
           }
          ],
          "contourcarpet": [
           {
            "colorbar": {
             "outlinewidth": 0,
             "ticks": ""
            },
            "type": "contourcarpet"
           }
          ],
          "heatmap": [
           {
            "colorbar": {
             "outlinewidth": 0,
             "ticks": ""
            },
            "colorscale": [
             [
              0,
              "#0d0887"
             ],
             [
              0.1111111111111111,
              "#46039f"
             ],
             [
              0.2222222222222222,
              "#7201a8"
             ],
             [
              0.3333333333333333,
              "#9c179e"
             ],
             [
              0.4444444444444444,
              "#bd3786"
             ],
             [
              0.5555555555555556,
              "#d8576b"
             ],
             [
              0.6666666666666666,
              "#ed7953"
             ],
             [
              0.7777777777777778,
              "#fb9f3a"
             ],
             [
              0.8888888888888888,
              "#fdca26"
             ],
             [
              1,
              "#f0f921"
             ]
            ],
            "type": "heatmap"
           }
          ],
          "heatmapgl": [
           {
            "colorbar": {
             "outlinewidth": 0,
             "ticks": ""
            },
            "colorscale": [
             [
              0,
              "#0d0887"
             ],
             [
              0.1111111111111111,
              "#46039f"
             ],
             [
              0.2222222222222222,
              "#7201a8"
             ],
             [
              0.3333333333333333,
              "#9c179e"
             ],
             [
              0.4444444444444444,
              "#bd3786"
             ],
             [
              0.5555555555555556,
              "#d8576b"
             ],
             [
              0.6666666666666666,
              "#ed7953"
             ],
             [
              0.7777777777777778,
              "#fb9f3a"
             ],
             [
              0.8888888888888888,
              "#fdca26"
             ],
             [
              1,
              "#f0f921"
             ]
            ],
            "type": "heatmapgl"
           }
          ],
          "histogram": [
           {
            "marker": {
             "pattern": {
              "fillmode": "overlay",
              "size": 10,
              "solidity": 0.2
             }
            },
            "type": "histogram"
           }
          ],
          "histogram2d": [
           {
            "colorbar": {
             "outlinewidth": 0,
             "ticks": ""
            },
            "colorscale": [
             [
              0,
              "#0d0887"
             ],
             [
              0.1111111111111111,
              "#46039f"
             ],
             [
              0.2222222222222222,
              "#7201a8"
             ],
             [
              0.3333333333333333,
              "#9c179e"
             ],
             [
              0.4444444444444444,
              "#bd3786"
             ],
             [
              0.5555555555555556,
              "#d8576b"
             ],
             [
              0.6666666666666666,
              "#ed7953"
             ],
             [
              0.7777777777777778,
              "#fb9f3a"
             ],
             [
              0.8888888888888888,
              "#fdca26"
             ],
             [
              1,
              "#f0f921"
             ]
            ],
            "type": "histogram2d"
           }
          ],
          "histogram2dcontour": [
           {
            "colorbar": {
             "outlinewidth": 0,
             "ticks": ""
            },
            "colorscale": [
             [
              0,
              "#0d0887"
             ],
             [
              0.1111111111111111,
              "#46039f"
             ],
             [
              0.2222222222222222,
              "#7201a8"
             ],
             [
              0.3333333333333333,
              "#9c179e"
             ],
             [
              0.4444444444444444,
              "#bd3786"
             ],
             [
              0.5555555555555556,
              "#d8576b"
             ],
             [
              0.6666666666666666,
              "#ed7953"
             ],
             [
              0.7777777777777778,
              "#fb9f3a"
             ],
             [
              0.8888888888888888,
              "#fdca26"
             ],
             [
              1,
              "#f0f921"
             ]
            ],
            "type": "histogram2dcontour"
           }
          ],
          "mesh3d": [
           {
            "colorbar": {
             "outlinewidth": 0,
             "ticks": ""
            },
            "type": "mesh3d"
           }
          ],
          "parcoords": [
           {
            "line": {
             "colorbar": {
              "outlinewidth": 0,
              "ticks": ""
             }
            },
            "type": "parcoords"
           }
          ],
          "pie": [
           {
            "automargin": true,
            "type": "pie"
           }
          ],
          "scatter": [
           {
            "fillpattern": {
             "fillmode": "overlay",
             "size": 10,
             "solidity": 0.2
            },
            "type": "scatter"
           }
          ],
          "scatter3d": [
           {
            "line": {
             "colorbar": {
              "outlinewidth": 0,
              "ticks": ""
             }
            },
            "marker": {
             "colorbar": {
              "outlinewidth": 0,
              "ticks": ""
             }
            },
            "type": "scatter3d"
           }
          ],
          "scattercarpet": [
           {
            "marker": {
             "colorbar": {
              "outlinewidth": 0,
              "ticks": ""
             }
            },
            "type": "scattercarpet"
           }
          ],
          "scattergeo": [
           {
            "marker": {
             "colorbar": {
              "outlinewidth": 0,
              "ticks": ""
             }
            },
            "type": "scattergeo"
           }
          ],
          "scattergl": [
           {
            "marker": {
             "colorbar": {
              "outlinewidth": 0,
              "ticks": ""
             }
            },
            "type": "scattergl"
           }
          ],
          "scattermapbox": [
           {
            "marker": {
             "colorbar": {
              "outlinewidth": 0,
              "ticks": ""
             }
            },
            "type": "scattermapbox"
           }
          ],
          "scatterpolar": [
           {
            "marker": {
             "colorbar": {
              "outlinewidth": 0,
              "ticks": ""
             }
            },
            "type": "scatterpolar"
           }
          ],
          "scatterpolargl": [
           {
            "marker": {
             "colorbar": {
              "outlinewidth": 0,
              "ticks": ""
             }
            },
            "type": "scatterpolargl"
           }
          ],
          "scatterternary": [
           {
            "marker": {
             "colorbar": {
              "outlinewidth": 0,
              "ticks": ""
             }
            },
            "type": "scatterternary"
           }
          ],
          "surface": [
           {
            "colorbar": {
             "outlinewidth": 0,
             "ticks": ""
            },
            "colorscale": [
             [
              0,
              "#0d0887"
             ],
             [
              0.1111111111111111,
              "#46039f"
             ],
             [
              0.2222222222222222,
              "#7201a8"
             ],
             [
              0.3333333333333333,
              "#9c179e"
             ],
             [
              0.4444444444444444,
              "#bd3786"
             ],
             [
              0.5555555555555556,
              "#d8576b"
             ],
             [
              0.6666666666666666,
              "#ed7953"
             ],
             [
              0.7777777777777778,
              "#fb9f3a"
             ],
             [
              0.8888888888888888,
              "#fdca26"
             ],
             [
              1,
              "#f0f921"
             ]
            ],
            "type": "surface"
           }
          ],
          "table": [
           {
            "cells": {
             "fill": {
              "color": "#EBF0F8"
             },
             "line": {
              "color": "white"
             }
            },
            "header": {
             "fill": {
              "color": "#C8D4E3"
             },
             "line": {
              "color": "white"
             }
            },
            "type": "table"
           }
          ]
         },
         "layout": {
          "annotationdefaults": {
           "arrowcolor": "#2a3f5f",
           "arrowhead": 0,
           "arrowwidth": 1
          },
          "autotypenumbers": "strict",
          "coloraxis": {
           "colorbar": {
            "outlinewidth": 0,
            "ticks": ""
           }
          },
          "colorscale": {
           "diverging": [
            [
             0,
             "#8e0152"
            ],
            [
             0.1,
             "#c51b7d"
            ],
            [
             0.2,
             "#de77ae"
            ],
            [
             0.3,
             "#f1b6da"
            ],
            [
             0.4,
             "#fde0ef"
            ],
            [
             0.5,
             "#f7f7f7"
            ],
            [
             0.6,
             "#e6f5d0"
            ],
            [
             0.7,
             "#b8e186"
            ],
            [
             0.8,
             "#7fbc41"
            ],
            [
             0.9,
             "#4d9221"
            ],
            [
             1,
             "#276419"
            ]
           ],
           "sequential": [
            [
             0,
             "#0d0887"
            ],
            [
             0.1111111111111111,
             "#46039f"
            ],
            [
             0.2222222222222222,
             "#7201a8"
            ],
            [
             0.3333333333333333,
             "#9c179e"
            ],
            [
             0.4444444444444444,
             "#bd3786"
            ],
            [
             0.5555555555555556,
             "#d8576b"
            ],
            [
             0.6666666666666666,
             "#ed7953"
            ],
            [
             0.7777777777777778,
             "#fb9f3a"
            ],
            [
             0.8888888888888888,
             "#fdca26"
            ],
            [
             1,
             "#f0f921"
            ]
           ],
           "sequentialminus": [
            [
             0,
             "#0d0887"
            ],
            [
             0.1111111111111111,
             "#46039f"
            ],
            [
             0.2222222222222222,
             "#7201a8"
            ],
            [
             0.3333333333333333,
             "#9c179e"
            ],
            [
             0.4444444444444444,
             "#bd3786"
            ],
            [
             0.5555555555555556,
             "#d8576b"
            ],
            [
             0.6666666666666666,
             "#ed7953"
            ],
            [
             0.7777777777777778,
             "#fb9f3a"
            ],
            [
             0.8888888888888888,
             "#fdca26"
            ],
            [
             1,
             "#f0f921"
            ]
           ]
          },
          "colorway": [
           "#636efa",
           "#EF553B",
           "#00cc96",
           "#ab63fa",
           "#FFA15A",
           "#19d3f3",
           "#FF6692",
           "#B6E880",
           "#FF97FF",
           "#FECB52"
          ],
          "font": {
           "color": "#2a3f5f"
          },
          "geo": {
           "bgcolor": "white",
           "lakecolor": "white",
           "landcolor": "#E5ECF6",
           "showlakes": true,
           "showland": true,
           "subunitcolor": "white"
          },
          "hoverlabel": {
           "align": "left"
          },
          "hovermode": "closest",
          "mapbox": {
           "style": "light"
          },
          "paper_bgcolor": "white",
          "plot_bgcolor": "#E5ECF6",
          "polar": {
           "angularaxis": {
            "gridcolor": "white",
            "linecolor": "white",
            "ticks": ""
           },
           "bgcolor": "#E5ECF6",
           "radialaxis": {
            "gridcolor": "white",
            "linecolor": "white",
            "ticks": ""
           }
          },
          "scene": {
           "xaxis": {
            "backgroundcolor": "#E5ECF6",
            "gridcolor": "white",
            "gridwidth": 2,
            "linecolor": "white",
            "showbackground": true,
            "ticks": "",
            "zerolinecolor": "white"
           },
           "yaxis": {
            "backgroundcolor": "#E5ECF6",
            "gridcolor": "white",
            "gridwidth": 2,
            "linecolor": "white",
            "showbackground": true,
            "ticks": "",
            "zerolinecolor": "white"
           },
           "zaxis": {
            "backgroundcolor": "#E5ECF6",
            "gridcolor": "white",
            "gridwidth": 2,
            "linecolor": "white",
            "showbackground": true,
            "ticks": "",
            "zerolinecolor": "white"
           }
          },
          "shapedefaults": {
           "line": {
            "color": "#2a3f5f"
           }
          },
          "ternary": {
           "aaxis": {
            "gridcolor": "white",
            "linecolor": "white",
            "ticks": ""
           },
           "baxis": {
            "gridcolor": "white",
            "linecolor": "white",
            "ticks": ""
           },
           "bgcolor": "#E5ECF6",
           "caxis": {
            "gridcolor": "white",
            "linecolor": "white",
            "ticks": ""
           }
          },
          "title": {
           "x": 0.05
          },
          "xaxis": {
           "automargin": true,
           "gridcolor": "white",
           "linecolor": "white",
           "ticks": "",
           "title": {
            "standoff": 15
           },
           "zerolinecolor": "white",
           "zerolinewidth": 2
          },
          "yaxis": {
           "automargin": true,
           "gridcolor": "white",
           "linecolor": "white",
           "ticks": "",
           "title": {
            "standoff": 15
           },
           "zerolinecolor": "white",
           "zerolinewidth": 2
          }
         }
        },
        "title": {
         "font": {
          "size": 20
         }
        }
       }
      }
     },
     "metadata": {},
     "output_type": "display_data"
    }
   ],
   "source": [
    "# Example usage:\n",
    "plot_info(2022, data)"
   ]
  },
  {
   "cell_type": "code",
   "execution_count": 51,
   "metadata": {},
   "outputs": [],
   "source": [
    "# code for 7\n",
    "def calculate_total_spend(year, data) -> str:\n",
    "    # Filter the data for the specified year\n",
    "    year_filter = data[data['CalYear'] == year]\n",
    "    \n",
    "    # Calculate the sum of 'YTD_Total' for the filtered data\n",
    "    total_spend = year_filter['YTD_Total'].sum().round(2)\n",
    "\n",
    "    # Formats thousands separators\n",
    "    total_spend = \"{:,.2f}\".format(total_spend)\n",
    "    \n",
    "    # Return the total spend as a float\n",
    "    return str(total_spend)"
   ]
  },
  {
   "cell_type": "code",
   "execution_count": 52,
   "metadata": {},
   "outputs": [],
   "source": [
    "# code for 9 \n",
    "def calculate_total_budget(year, data) -> str:\n",
    "    # Filter the data for the specified year\n",
    "    year_filter = data[data['CalYear'] == year]\n",
    "    \n",
    "    # Calculate the sum of 'Salary_Total' for the filtered data\n",
    "    total_spend = year_filter['Salary_Total'].sum().round(2)\n",
    "\n",
    "    # Formats thousands separators\n",
    "    total_spend = \"{:,.2f}\".format(total_spend)\n",
    "    \n",
    "    # Return the total spend as a float\n",
    "    return str(total_spend)"
   ]
  },
  {
   "cell_type": "code",
   "execution_count": 53,
   "metadata": {},
   "outputs": [],
   "source": [
    "#code for 12\n",
    "def calculate_budget_difference(year, data) -> str:\n",
    "    # Filter the data for the specified year\n",
    "    year_filter = data[data['CalYear'] == year]\n",
    "    \n",
    "    if year_filter.empty:\n",
    "        return \"No data for the specified year.\"\n",
    "    \n",
    "    # Extract actual and expected values\n",
    "    actual_spend = year_filter['YTD_Total'].sum()\n",
    "    budgeted_salary = year_filter['Salary_Total'].sum()\n",
    "\n",
    "    # Calculate the percentage difference\n",
    "    difference = ((actual_spend - budgeted_salary) / budgeted_salary) * 100\n",
    "    \n",
    "    # Format the difference with a '+' or '-' and thousands separators\n",
    "    return f\"{difference:+,.2f}%\"\n",
    "\n"
   ]
  },
  {
   "cell_type": "code",
   "execution_count": 54,
   "metadata": {},
   "outputs": [
    {
     "name": "stdout",
     "output_type": "stream",
     "text": [
      "Total Salary Spend: 373,062,743.42\n"
     ]
    }
   ],
   "source": [
    "# Call the function for 7\n",
    "total_sal_spend = calculate_total_spend(2024, data)\n",
    "\n",
    "print(f'Total Salary Spend: {total_sal_spend}')"
   ]
  },
  {
   "cell_type": "code",
   "execution_count": 55,
   "metadata": {},
   "outputs": [
    {
     "name": "stdout",
     "output_type": "stream",
     "text": [
      "Total Salary Budgeted: 450,699,319.02\n"
     ]
    }
   ],
   "source": [
    "# Call the function for 9\n",
    "total_sal_budget = calculate_total_budget(2024, data)\n",
    "\n",
    "print(f'Total Salary Budgeted: {total_sal_budget}')"
   ]
  },
  {
   "cell_type": "code",
   "execution_count": 56,
   "metadata": {},
   "outputs": [
    {
     "name": "stdout",
     "output_type": "stream",
     "text": [
      "-17.23%\n"
     ]
    }
   ],
   "source": [
    "# Call the function for 12 \n",
    "budget_difference = calculate_budget_difference(2024, data)\n",
    "print(budget_difference)"
   ]
  },
  {
   "cell_type": "code",
   "execution_count": 57,
   "metadata": {},
   "outputs": [],
   "source": [
    "# code for 10\n",
    "def top_emp_dev(year, data):\n",
    "    # we had to avoid division by zero and only calculate Discrepancy_Percent for employees with Salary_Total >= 20k\n",
    "    # Filter the data for the given year\n",
    "    top_employee = data[data['CalYear'] == year].copy()\n",
    "\n",
    "    # Calculate the discrepancy and discrepancy ratio\n",
    "    top_employee['Deviation'] = top_employee['YTD_Total'] - top_employee['Salary_Total']\n",
    "\n",
    "    # Avoid division by zero and handle Salary_Total < 20k\n",
    "    top_employee.loc[:, 'Discrepancy_Percent'] = top_employee.apply(\n",
    "        lambda row: (row['Deviation'] / row['Salary_Total']) * 100 if row['Salary_Total'] >= 20000 and row['Salary_Total'] != 0 else None, axis=1\n",
    "    )\n",
    "\n",
    "    # Round the Discrepancy_Percent to 2 decimal places\n",
    "    top_employee['Discrepancy_Percent'] = top_employee['Discrepancy_Percent'].round(2)\n",
    "\n",
    "    # Sort the DataFrame by 'Discrepancy_Percent' in descending order\n",
    "    top_employee = top_employee.sort_values(by='Discrepancy_Percent', ascending=False)\n",
    "\n",
    "    # Keep only the specified columns\n",
    "    top_employee = top_employee[['CalYear', 'Employee_Name', 'Department', \n",
    "                                 'YTD_Total', 'Salary_Total', 'Deviation', \n",
    "                                 'Discrepancy_Percent']]\n",
    "    \n",
    "    # Reset index and drop the old index column\n",
    "    top_employee.reset_index(drop=True, inplace=True)\n",
    "\n",
    "    return top_employee.head(10)\n"
   ]
  },
  {
   "cell_type": "code",
   "execution_count": 58,
   "metadata": {},
   "outputs": [
    {
     "data": {
      "text/html": [
       "<div>\n",
       "<style scoped>\n",
       "    .dataframe tbody tr th:only-of-type {\n",
       "        vertical-align: middle;\n",
       "    }\n",
       "\n",
       "    .dataframe tbody tr th {\n",
       "        vertical-align: top;\n",
       "    }\n",
       "\n",
       "    .dataframe thead th {\n",
       "        text-align: right;\n",
       "    }\n",
       "</style>\n",
       "<table border=\"1\" class=\"dataframe\">\n",
       "  <thead>\n",
       "    <tr style=\"text-align: right;\">\n",
       "      <th></th>\n",
       "      <th>CalYear</th>\n",
       "      <th>Employee_Name</th>\n",
       "      <th>Department</th>\n",
       "      <th>YTD_Total</th>\n",
       "      <th>Salary_Total</th>\n",
       "      <th>Deviation</th>\n",
       "      <th>Discrepancy_Percent</th>\n",
       "    </tr>\n",
       "  </thead>\n",
       "  <tbody>\n",
       "    <tr>\n",
       "      <th>0</th>\n",
       "      <td>2024</td>\n",
       "      <td>Standard, Royce Leshawn</td>\n",
       "      <td>Metro Corrections</td>\n",
       "      <td>180770.98</td>\n",
       "      <td>66934.40</td>\n",
       "      <td>113836.58</td>\n",
       "      <td>170.07</td>\n",
       "    </tr>\n",
       "    <tr>\n",
       "      <th>1</th>\n",
       "      <td>2024</td>\n",
       "      <td>Stimphil, Richardson</td>\n",
       "      <td>Metro Corrections</td>\n",
       "      <td>153587.46</td>\n",
       "      <td>60299.20</td>\n",
       "      <td>93288.26</td>\n",
       "      <td>154.71</td>\n",
       "    </tr>\n",
       "    <tr>\n",
       "      <th>2</th>\n",
       "      <td>2024</td>\n",
       "      <td>Jones, Dontorya J</td>\n",
       "      <td>Emergency Management Services</td>\n",
       "      <td>144154.28</td>\n",
       "      <td>62583.60</td>\n",
       "      <td>81570.68</td>\n",
       "      <td>130.34</td>\n",
       "    </tr>\n",
       "    <tr>\n",
       "      <th>3</th>\n",
       "      <td>2024</td>\n",
       "      <td>Jenkins, Todd Barry</td>\n",
       "      <td>Louisville Metro Police Department</td>\n",
       "      <td>251840.31</td>\n",
       "      <td>114357.73</td>\n",
       "      <td>137482.58</td>\n",
       "      <td>120.22</td>\n",
       "    </tr>\n",
       "    <tr>\n",
       "      <th>4</th>\n",
       "      <td>2024</td>\n",
       "      <td>Roberts, Bryan Keith</td>\n",
       "      <td>Metro Corrections</td>\n",
       "      <td>125239.59</td>\n",
       "      <td>58635.20</td>\n",
       "      <td>66604.39</td>\n",
       "      <td>113.59</td>\n",
       "    </tr>\n",
       "    <tr>\n",
       "      <th>5</th>\n",
       "      <td>2024</td>\n",
       "      <td>Whidby, Jacob T</td>\n",
       "      <td>Metro Corrections</td>\n",
       "      <td>156558.72</td>\n",
       "      <td>74256.00</td>\n",
       "      <td>82302.72</td>\n",
       "      <td>110.84</td>\n",
       "    </tr>\n",
       "    <tr>\n",
       "      <th>6</th>\n",
       "      <td>2024</td>\n",
       "      <td>Nicolas-Bates, Marylea Diedra</td>\n",
       "      <td>Metro Corrections</td>\n",
       "      <td>106942.63</td>\n",
       "      <td>50960.00</td>\n",
       "      <td>55982.63</td>\n",
       "      <td>109.86</td>\n",
       "    </tr>\n",
       "    <tr>\n",
       "      <th>7</th>\n",
       "      <td>2024</td>\n",
       "      <td>Starcher, Candice Lynn</td>\n",
       "      <td>Louisville Metro Police Department</td>\n",
       "      <td>96518.09</td>\n",
       "      <td>46248.36</td>\n",
       "      <td>50269.73</td>\n",
       "      <td>108.70</td>\n",
       "    </tr>\n",
       "    <tr>\n",
       "      <th>8</th>\n",
       "      <td>2024</td>\n",
       "      <td>Ashby, Stephanie Renee</td>\n",
       "      <td>ES &amp; MetroSafe</td>\n",
       "      <td>137706.00</td>\n",
       "      <td>66218.31</td>\n",
       "      <td>71487.69</td>\n",
       "      <td>107.96</td>\n",
       "    </tr>\n",
       "    <tr>\n",
       "      <th>9</th>\n",
       "      <td>2024</td>\n",
       "      <td>Salman, Saja Naji</td>\n",
       "      <td>Metro Corrections</td>\n",
       "      <td>101862.70</td>\n",
       "      <td>50835.20</td>\n",
       "      <td>51027.50</td>\n",
       "      <td>100.38</td>\n",
       "    </tr>\n",
       "  </tbody>\n",
       "</table>\n",
       "</div>"
      ],
      "text/plain": [
       "   CalYear                  Employee_Name                          Department  \\\n",
       "0     2024        Standard, Royce Leshawn                   Metro Corrections   \n",
       "1     2024           Stimphil, Richardson                   Metro Corrections   \n",
       "2     2024              Jones, Dontorya J       Emergency Management Services   \n",
       "3     2024            Jenkins, Todd Barry  Louisville Metro Police Department   \n",
       "4     2024           Roberts, Bryan Keith                   Metro Corrections   \n",
       "5     2024                Whidby, Jacob T                   Metro Corrections   \n",
       "6     2024  Nicolas-Bates, Marylea Diedra                   Metro Corrections   \n",
       "7     2024         Starcher, Candice Lynn  Louisville Metro Police Department   \n",
       "8     2024         Ashby, Stephanie Renee                      ES & MetroSafe   \n",
       "9     2024              Salman, Saja Naji                   Metro Corrections   \n",
       "\n",
       "   YTD_Total  Salary_Total  Deviation  Discrepancy_Percent  \n",
       "0  180770.98      66934.40  113836.58               170.07  \n",
       "1  153587.46      60299.20   93288.26               154.71  \n",
       "2  144154.28      62583.60   81570.68               130.34  \n",
       "3  251840.31     114357.73  137482.58               120.22  \n",
       "4  125239.59      58635.20   66604.39               113.59  \n",
       "5  156558.72      74256.00   82302.72               110.84  \n",
       "6  106942.63      50960.00   55982.63               109.86  \n",
       "7   96518.09      46248.36   50269.73               108.70  \n",
       "8  137706.00      66218.31   71487.69               107.96  \n",
       "9  101862.70      50835.20   51027.50               100.38  "
      ]
     },
     "execution_count": 58,
     "metadata": {},
     "output_type": "execute_result"
    }
   ],
   "source": [
    "# Example usage for 10:\n",
    "top_employee_result = top_emp_dev(2024, data)\n",
    "top_employee_result"
   ]
  },
  {
   "cell_type": "code",
   "execution_count": 59,
   "metadata": {},
   "outputs": [],
   "source": [
    "# code for 11\n",
    "def department_discrepancy(year, data):\n",
    "    # Group by 'CalYear' and 'Department', summing 'YTD_Total' and 'Salary_Total'\n",
    "    department = data.groupby(['CalYear', 'Department'])[['YTD_Total', 'Salary_Total']].sum().reset_index()\n",
    "\n",
    "    # Filter the data by the given year\n",
    "    department = department[department['CalYear'] == year]\n",
    "\n",
    "    # Calculate the percentage difference: ((YTD_Total - Salary_Total) / Salary_Total) * 100\n",
    "    department['Discrepancy_Percent'] = ((department['YTD_Total'] - department['Salary_Total']) / department['Salary_Total']) * 100\n",
    "\n",
    "    # Round the Discrepancy_Percent to 2 decimal places\n",
    "    department['Discrepancy_Percent'] = department['Discrepancy_Percent'].round(2)\n",
    "\n",
    "    # Sort the DataFrame by 'Discrepancy_Percent' in ascending order\n",
    "    department = department.sort_values(by='Discrepancy_Percent', ascending=False)\n",
    "\n",
    "    # Format 'YTD_Total' and 'Salary_Total' with thousands separators\n",
    "    department['YTD_Total'] = department['YTD_Total'].apply(lambda x: f\"{x:,.2f}\")\n",
    "    department['Salary_Total'] = department['Salary_Total'].apply(lambda x: f\"{x:,.2f}\")\n",
    "\n",
    "    # Rename columns for final output\n",
    "    department = department.rename(columns={\n",
    "        'YTD_Total': 'Total Salary Spend',\n",
    "        'Salary_Total': 'Salary Budget',\n",
    "        'Discrepancy_Percent': 'Discrepancy Percent'\n",
    "    })\n",
    "\n",
    "    # Return the result\n",
    "    return department\n"
   ]
  },
  {
   "cell_type": "code",
   "execution_count": 60,
   "metadata": {},
   "outputs": [
    {
     "data": {
      "text/html": [
       "<div>\n",
       "<style scoped>\n",
       "    .dataframe tbody tr th:only-of-type {\n",
       "        vertical-align: middle;\n",
       "    }\n",
       "\n",
       "    .dataframe tbody tr th {\n",
       "        vertical-align: top;\n",
       "    }\n",
       "\n",
       "    .dataframe thead th {\n",
       "        text-align: right;\n",
       "    }\n",
       "</style>\n",
       "<table border=\"1\" class=\"dataframe\">\n",
       "  <thead>\n",
       "    <tr style=\"text-align: right;\">\n",
       "      <th></th>\n",
       "      <th>CalYear</th>\n",
       "      <th>Department</th>\n",
       "      <th>Total Salary Spend</th>\n",
       "      <th>Salary Budget</th>\n",
       "      <th>Discrepancy Percent</th>\n",
       "    </tr>\n",
       "  </thead>\n",
       "  <tbody>\n",
       "    <tr>\n",
       "      <th>224</th>\n",
       "      <td>2024</td>\n",
       "      <td>Louisville Metro Police Department</td>\n",
       "      <td>123,082,990.73</td>\n",
       "      <td>124,125,361.75</td>\n",
       "      <td>-0.84</td>\n",
       "    </tr>\n",
       "    <tr>\n",
       "      <th>228</th>\n",
       "      <td>2024</td>\n",
       "      <td>Metro Corrections</td>\n",
       "      <td>28,968,309.48</td>\n",
       "      <td>30,877,424.89</td>\n",
       "      <td>-6.18</td>\n",
       "    </tr>\n",
       "    <tr>\n",
       "      <th>213</th>\n",
       "      <td>2024</td>\n",
       "      <td>Emergency Management Services</td>\n",
       "      <td>11,182,592.57</td>\n",
       "      <td>11,960,136.14</td>\n",
       "      <td>-6.50</td>\n",
       "    </tr>\n",
       "    <tr>\n",
       "      <th>211</th>\n",
       "      <td>2024</td>\n",
       "      <td>ES &amp; MetroSafe</td>\n",
       "      <td>11,493,629.77</td>\n",
       "      <td>12,602,656.88</td>\n",
       "      <td>-8.80</td>\n",
       "    </tr>\n",
       "    <tr>\n",
       "      <th>222</th>\n",
       "      <td>2024</td>\n",
       "      <td>Louisville Fire</td>\n",
       "      <td>42,079,902.81</td>\n",
       "      <td>46,479,751.63</td>\n",
       "      <td>-9.47</td>\n",
       "    </tr>\n",
       "    <tr>\n",
       "      <th>250</th>\n",
       "      <td>2024</td>\n",
       "      <td>Youth Transitional Services</td>\n",
       "      <td>1,464,017.29</td>\n",
       "      <td>1,663,070.33</td>\n",
       "      <td>-11.97</td>\n",
       "    </tr>\n",
       "    <tr>\n",
       "      <th>209</th>\n",
       "      <td>2024</td>\n",
       "      <td>Criminal Justice Commission</td>\n",
       "      <td>308,243.95</td>\n",
       "      <td>354,505.99</td>\n",
       "      <td>-13.05</td>\n",
       "    </tr>\n",
       "    <tr>\n",
       "      <th>238</th>\n",
       "      <td>2024</td>\n",
       "      <td>Office of Philanthropy</td>\n",
       "      <td>319,561.43</td>\n",
       "      <td>367,525.45</td>\n",
       "      <td>-13.05</td>\n",
       "    </tr>\n",
       "    <tr>\n",
       "      <th>243</th>\n",
       "      <td>2024</td>\n",
       "      <td>Parking Authority of River City - PARC</td>\n",
       "      <td>1,897,249.91</td>\n",
       "      <td>2,247,607.26</td>\n",
       "      <td>-15.59</td>\n",
       "    </tr>\n",
       "    <tr>\n",
       "      <th>247</th>\n",
       "      <td>2024</td>\n",
       "      <td>Records Compliance</td>\n",
       "      <td>918,726.62</td>\n",
       "      <td>1,127,444.44</td>\n",
       "      <td>-18.51</td>\n",
       "    </tr>\n",
       "    <tr>\n",
       "      <th>249</th>\n",
       "      <td>2024</td>\n",
       "      <td>Waterfront Development Corporation</td>\n",
       "      <td>1,061,886.43</td>\n",
       "      <td>1,310,471.20</td>\n",
       "      <td>-18.97</td>\n",
       "    </tr>\n",
       "    <tr>\n",
       "      <th>230</th>\n",
       "      <td>2024</td>\n",
       "      <td>Metro TV</td>\n",
       "      <td>359,634.21</td>\n",
       "      <td>443,865.14</td>\n",
       "      <td>-18.98</td>\n",
       "    </tr>\n",
       "    <tr>\n",
       "      <th>231</th>\n",
       "      <td>2024</td>\n",
       "      <td>Metro Technology Services</td>\n",
       "      <td>5,678,871.30</td>\n",
       "      <td>7,215,970.83</td>\n",
       "      <td>-21.30</td>\n",
       "    </tr>\n",
       "    <tr>\n",
       "      <th>246</th>\n",
       "      <td>2024</td>\n",
       "      <td>Public Works &amp; Assets</td>\n",
       "      <td>23,392,973.62</td>\n",
       "      <td>30,076,771.79</td>\n",
       "      <td>-22.22</td>\n",
       "    </tr>\n",
       "    <tr>\n",
       "      <th>221</th>\n",
       "      <td>2024</td>\n",
       "      <td>KentuckianaWorks</td>\n",
       "      <td>1,662,140.93</td>\n",
       "      <td>2,141,731.91</td>\n",
       "      <td>-22.39</td>\n",
       "    </tr>\n",
       "    <tr>\n",
       "      <th>229</th>\n",
       "      <td>2024</td>\n",
       "      <td>Metro Council</td>\n",
       "      <td>4,123,241.14</td>\n",
       "      <td>5,340,057.21</td>\n",
       "      <td>-22.79</td>\n",
       "    </tr>\n",
       "    <tr>\n",
       "      <th>207</th>\n",
       "      <td>2024</td>\n",
       "      <td>Codes &amp; Regulations</td>\n",
       "      <td>9,634,189.42</td>\n",
       "      <td>12,675,094.58</td>\n",
       "      <td>-23.99</td>\n",
       "    </tr>\n",
       "    <tr>\n",
       "      <th>220</th>\n",
       "      <td>2024</td>\n",
       "      <td>Jefferson County Coroner</td>\n",
       "      <td>1,073,317.90</td>\n",
       "      <td>1,412,387.46</td>\n",
       "      <td>-24.01</td>\n",
       "    </tr>\n",
       "    <tr>\n",
       "      <th>217</th>\n",
       "      <td>2024</td>\n",
       "      <td>Human Resources</td>\n",
       "      <td>3,131,282.27</td>\n",
       "      <td>4,120,985.22</td>\n",
       "      <td>-24.02</td>\n",
       "    </tr>\n",
       "    <tr>\n",
       "      <th>214</th>\n",
       "      <td>2024</td>\n",
       "      <td>Facilities and Fleet Management</td>\n",
       "      <td>8,110,525.26</td>\n",
       "      <td>10,837,291.67</td>\n",
       "      <td>-25.16</td>\n",
       "    </tr>\n",
       "    <tr>\n",
       "      <th>204</th>\n",
       "      <td>2024</td>\n",
       "      <td>Alcohol Beverage Control</td>\n",
       "      <td>822,520.76</td>\n",
       "      <td>1,110,628.79</td>\n",
       "      <td>-25.94</td>\n",
       "    </tr>\n",
       "    <tr>\n",
       "      <th>248</th>\n",
       "      <td>2024</td>\n",
       "      <td>Revenue Commission</td>\n",
       "      <td>2,563,588.74</td>\n",
       "      <td>3,467,847.78</td>\n",
       "      <td>-26.08</td>\n",
       "    </tr>\n",
       "    <tr>\n",
       "      <th>219</th>\n",
       "      <td>2024</td>\n",
       "      <td>Jefferson County Attorney</td>\n",
       "      <td>7,440,071.56</td>\n",
       "      <td>10,090,837.64</td>\n",
       "      <td>-26.27</td>\n",
       "    </tr>\n",
       "    <tr>\n",
       "      <th>203</th>\n",
       "      <td>2024</td>\n",
       "      <td>APCD</td>\n",
       "      <td>2,873,438.39</td>\n",
       "      <td>3,914,573.99</td>\n",
       "      <td>-26.60</td>\n",
       "    </tr>\n",
       "    <tr>\n",
       "      <th>235</th>\n",
       "      <td>2024</td>\n",
       "      <td>Office of Housing &amp; Community Development</td>\n",
       "      <td>2,793,918.90</td>\n",
       "      <td>3,826,005.79</td>\n",
       "      <td>-26.98</td>\n",
       "    </tr>\n",
       "    <tr>\n",
       "      <th>233</th>\n",
       "      <td>2024</td>\n",
       "      <td>Office for Safe &amp; Healthy Neighborhoods</td>\n",
       "      <td>2,546,807.02</td>\n",
       "      <td>3,508,399.48</td>\n",
       "      <td>-27.41</td>\n",
       "    </tr>\n",
       "    <tr>\n",
       "      <th>223</th>\n",
       "      <td>2024</td>\n",
       "      <td>Louisville Free Public Library</td>\n",
       "      <td>11,000,415.63</td>\n",
       "      <td>15,225,173.28</td>\n",
       "      <td>-27.75</td>\n",
       "    </tr>\n",
       "    <tr>\n",
       "      <th>240</th>\n",
       "      <td>2024</td>\n",
       "      <td>Office of Resilience and Community Services</td>\n",
       "      <td>6,003,560.27</td>\n",
       "      <td>8,475,172.48</td>\n",
       "      <td>-29.16</td>\n",
       "    </tr>\n",
       "    <tr>\n",
       "      <th>245</th>\n",
       "      <td>2024</td>\n",
       "      <td>Public Health &amp; Wellness</td>\n",
       "      <td>12,278,587.39</td>\n",
       "      <td>17,378,107.87</td>\n",
       "      <td>-29.34</td>\n",
       "    </tr>\n",
       "    <tr>\n",
       "      <th>212</th>\n",
       "      <td>2024</td>\n",
       "      <td>Economic Development</td>\n",
       "      <td>1,662,173.14</td>\n",
       "      <td>2,361,940.31</td>\n",
       "      <td>-29.63</td>\n",
       "    </tr>\n",
       "    <tr>\n",
       "      <th>206</th>\n",
       "      <td>2024</td>\n",
       "      <td>Brightside</td>\n",
       "      <td>242,626.75</td>\n",
       "      <td>356,710.05</td>\n",
       "      <td>-31.98</td>\n",
       "    </tr>\n",
       "    <tr>\n",
       "      <th>239</th>\n",
       "      <td>2024</td>\n",
       "      <td>Office of Planning</td>\n",
       "      <td>2,375,389.81</td>\n",
       "      <td>3,507,804.77</td>\n",
       "      <td>-32.28</td>\n",
       "    </tr>\n",
       "    <tr>\n",
       "      <th>215</th>\n",
       "      <td>2024</td>\n",
       "      <td>Group Violence Intervention</td>\n",
       "      <td>215,421.97</td>\n",
       "      <td>318,990.13</td>\n",
       "      <td>-32.47</td>\n",
       "    </tr>\n",
       "    <tr>\n",
       "      <th>216</th>\n",
       "      <td>2024</td>\n",
       "      <td>Human Relations Commission</td>\n",
       "      <td>718,816.17</td>\n",
       "      <td>1,074,330.58</td>\n",
       "      <td>-33.09</td>\n",
       "    </tr>\n",
       "    <tr>\n",
       "      <th>232</th>\n",
       "      <td>2024</td>\n",
       "      <td>OMB Finance</td>\n",
       "      <td>7,815,061.42</td>\n",
       "      <td>11,746,208.22</td>\n",
       "      <td>-33.47</td>\n",
       "    </tr>\n",
       "    <tr>\n",
       "      <th>226</th>\n",
       "      <td>2024</td>\n",
       "      <td>Mayor Office</td>\n",
       "      <td>2,593,776.83</td>\n",
       "      <td>3,923,969.45</td>\n",
       "      <td>-33.90</td>\n",
       "    </tr>\n",
       "    <tr>\n",
       "      <th>237</th>\n",
       "      <td>2024</td>\n",
       "      <td>Office of Internal Audit</td>\n",
       "      <td>492,197.92</td>\n",
       "      <td>749,810.30</td>\n",
       "      <td>-34.36</td>\n",
       "    </tr>\n",
       "    <tr>\n",
       "      <th>227</th>\n",
       "      <td>2024</td>\n",
       "      <td>Metro Animal Services</td>\n",
       "      <td>2,549,091.88</td>\n",
       "      <td>3,983,228.45</td>\n",
       "      <td>-36.00</td>\n",
       "    </tr>\n",
       "    <tr>\n",
       "      <th>225</th>\n",
       "      <td>2024</td>\n",
       "      <td>Louisville Zoo</td>\n",
       "      <td>7,465,953.17</td>\n",
       "      <td>12,307,686.43</td>\n",
       "      <td>-39.34</td>\n",
       "    </tr>\n",
       "    <tr>\n",
       "      <th>234</th>\n",
       "      <td>2024</td>\n",
       "      <td>Office of Equity</td>\n",
       "      <td>458,662.00</td>\n",
       "      <td>756,319.02</td>\n",
       "      <td>-39.36</td>\n",
       "    </tr>\n",
       "    <tr>\n",
       "      <th>244</th>\n",
       "      <td>2024</td>\n",
       "      <td>Parks &amp; Recreation</td>\n",
       "      <td>14,208,676.43</td>\n",
       "      <td>24,915,358.17</td>\n",
       "      <td>-42.97</td>\n",
       "    </tr>\n",
       "    <tr>\n",
       "      <th>208</th>\n",
       "      <td>2024</td>\n",
       "      <td>Commonwealth Attorney</td>\n",
       "      <td>1,151,263.74</td>\n",
       "      <td>2,050,928.10</td>\n",
       "      <td>-43.87</td>\n",
       "    </tr>\n",
       "    <tr>\n",
       "      <th>241</th>\n",
       "      <td>2024</td>\n",
       "      <td>Office of Sustainability</td>\n",
       "      <td>284,970.07</td>\n",
       "      <td>508,572.07</td>\n",
       "      <td>-43.97</td>\n",
       "    </tr>\n",
       "    <tr>\n",
       "      <th>205</th>\n",
       "      <td>2024</td>\n",
       "      <td>Belle of Louisville</td>\n",
       "      <td>1,883,060.54</td>\n",
       "      <td>4,158,929.43</td>\n",
       "      <td>-54.72</td>\n",
       "    </tr>\n",
       "    <tr>\n",
       "      <th>236</th>\n",
       "      <td>2024</td>\n",
       "      <td>Office of Inspector General</td>\n",
       "      <td>548,398.73</td>\n",
       "      <td>1,462,545.87</td>\n",
       "      <td>-62.50</td>\n",
       "    </tr>\n",
       "    <tr>\n",
       "      <th>242</th>\n",
       "      <td>2024</td>\n",
       "      <td>Other Statutory Obligations</td>\n",
       "      <td>131,007.15</td>\n",
       "      <td>1,871,474.40</td>\n",
       "      <td>-93.00</td>\n",
       "    </tr>\n",
       "    <tr>\n",
       "      <th>210</th>\n",
       "      <td>2024</td>\n",
       "      <td>Develop Louisville</td>\n",
       "      <td>0.00</td>\n",
       "      <td>115,814.40</td>\n",
       "      <td>-100.00</td>\n",
       "    </tr>\n",
       "    <tr>\n",
       "      <th>218</th>\n",
       "      <td>2024</td>\n",
       "      <td>Insurance &amp; Risk Management</td>\n",
       "      <td>0.00</td>\n",
       "      <td>151,840.00</td>\n",
       "      <td>-100.00</td>\n",
       "    </tr>\n",
       "  </tbody>\n",
       "</table>\n",
       "</div>"
      ],
      "text/plain": [
       "     CalYear                                   Department Total Salary Spend  \\\n",
       "224     2024           Louisville Metro Police Department     123,082,990.73   \n",
       "228     2024                            Metro Corrections      28,968,309.48   \n",
       "213     2024                Emergency Management Services      11,182,592.57   \n",
       "211     2024                               ES & MetroSafe      11,493,629.77   \n",
       "222     2024                              Louisville Fire      42,079,902.81   \n",
       "250     2024                  Youth Transitional Services       1,464,017.29   \n",
       "209     2024                  Criminal Justice Commission         308,243.95   \n",
       "238     2024                       Office of Philanthropy         319,561.43   \n",
       "243     2024       Parking Authority of River City - PARC       1,897,249.91   \n",
       "247     2024                           Records Compliance         918,726.62   \n",
       "249     2024           Waterfront Development Corporation       1,061,886.43   \n",
       "230     2024                                     Metro TV         359,634.21   \n",
       "231     2024                    Metro Technology Services       5,678,871.30   \n",
       "246     2024                        Public Works & Assets      23,392,973.62   \n",
       "221     2024                             KentuckianaWorks       1,662,140.93   \n",
       "229     2024                                Metro Council       4,123,241.14   \n",
       "207     2024                          Codes & Regulations       9,634,189.42   \n",
       "220     2024                     Jefferson County Coroner       1,073,317.90   \n",
       "217     2024                              Human Resources       3,131,282.27   \n",
       "214     2024              Facilities and Fleet Management       8,110,525.26   \n",
       "204     2024                     Alcohol Beverage Control         822,520.76   \n",
       "248     2024                           Revenue Commission       2,563,588.74   \n",
       "219     2024                    Jefferson County Attorney       7,440,071.56   \n",
       "203     2024                                         APCD       2,873,438.39   \n",
       "235     2024    Office of Housing & Community Development       2,793,918.90   \n",
       "233     2024      Office for Safe & Healthy Neighborhoods       2,546,807.02   \n",
       "223     2024               Louisville Free Public Library      11,000,415.63   \n",
       "240     2024  Office of Resilience and Community Services       6,003,560.27   \n",
       "245     2024                     Public Health & Wellness      12,278,587.39   \n",
       "212     2024                         Economic Development       1,662,173.14   \n",
       "206     2024                                   Brightside         242,626.75   \n",
       "239     2024                           Office of Planning       2,375,389.81   \n",
       "215     2024                  Group Violence Intervention         215,421.97   \n",
       "216     2024                   Human Relations Commission         718,816.17   \n",
       "232     2024                                  OMB Finance       7,815,061.42   \n",
       "226     2024                                 Mayor Office       2,593,776.83   \n",
       "237     2024                     Office of Internal Audit         492,197.92   \n",
       "227     2024                        Metro Animal Services       2,549,091.88   \n",
       "225     2024                               Louisville Zoo       7,465,953.17   \n",
       "234     2024                             Office of Equity         458,662.00   \n",
       "244     2024                           Parks & Recreation      14,208,676.43   \n",
       "208     2024                        Commonwealth Attorney       1,151,263.74   \n",
       "241     2024                     Office of Sustainability         284,970.07   \n",
       "205     2024                          Belle of Louisville       1,883,060.54   \n",
       "236     2024                  Office of Inspector General         548,398.73   \n",
       "242     2024                  Other Statutory Obligations         131,007.15   \n",
       "210     2024                           Develop Louisville               0.00   \n",
       "218     2024                  Insurance & Risk Management               0.00   \n",
       "\n",
       "      Salary Budget  Discrepancy Percent  \n",
       "224  124,125,361.75                -0.84  \n",
       "228   30,877,424.89                -6.18  \n",
       "213   11,960,136.14                -6.50  \n",
       "211   12,602,656.88                -8.80  \n",
       "222   46,479,751.63                -9.47  \n",
       "250    1,663,070.33               -11.97  \n",
       "209      354,505.99               -13.05  \n",
       "238      367,525.45               -13.05  \n",
       "243    2,247,607.26               -15.59  \n",
       "247    1,127,444.44               -18.51  \n",
       "249    1,310,471.20               -18.97  \n",
       "230      443,865.14               -18.98  \n",
       "231    7,215,970.83               -21.30  \n",
       "246   30,076,771.79               -22.22  \n",
       "221    2,141,731.91               -22.39  \n",
       "229    5,340,057.21               -22.79  \n",
       "207   12,675,094.58               -23.99  \n",
       "220    1,412,387.46               -24.01  \n",
       "217    4,120,985.22               -24.02  \n",
       "214   10,837,291.67               -25.16  \n",
       "204    1,110,628.79               -25.94  \n",
       "248    3,467,847.78               -26.08  \n",
       "219   10,090,837.64               -26.27  \n",
       "203    3,914,573.99               -26.60  \n",
       "235    3,826,005.79               -26.98  \n",
       "233    3,508,399.48               -27.41  \n",
       "223   15,225,173.28               -27.75  \n",
       "240    8,475,172.48               -29.16  \n",
       "245   17,378,107.87               -29.34  \n",
       "212    2,361,940.31               -29.63  \n",
       "206      356,710.05               -31.98  \n",
       "239    3,507,804.77               -32.28  \n",
       "215      318,990.13               -32.47  \n",
       "216    1,074,330.58               -33.09  \n",
       "232   11,746,208.22               -33.47  \n",
       "226    3,923,969.45               -33.90  \n",
       "237      749,810.30               -34.36  \n",
       "227    3,983,228.45               -36.00  \n",
       "225   12,307,686.43               -39.34  \n",
       "234      756,319.02               -39.36  \n",
       "244   24,915,358.17               -42.97  \n",
       "208    2,050,928.10               -43.87  \n",
       "241      508,572.07               -43.97  \n",
       "205    4,158,929.43               -54.72  \n",
       "236    1,462,545.87               -62.50  \n",
       "242    1,871,474.40               -93.00  \n",
       "210      115,814.40              -100.00  \n",
       "218      151,840.00              -100.00  "
      ]
     },
     "execution_count": 60,
     "metadata": {},
     "output_type": "execute_result"
    }
   ],
   "source": [
    "# Example usage:\n",
    "department_result = department_discrepancy(2024, data)\n",
    "department_result"
   ]
  }
 ],
 "metadata": {
  "kernelspec": {
   "display_name": "venv",
   "language": "python",
   "name": "python3"
  },
  "language_info": {
   "codemirror_mode": {
    "name": "ipython",
    "version": 3
   },
   "file_extension": ".py",
   "mimetype": "text/x-python",
   "name": "python",
   "nbconvert_exporter": "python",
   "pygments_lexer": "ipython3",
   "version": "3.12.2"
  }
 },
 "nbformat": 4,
 "nbformat_minor": 2
}
