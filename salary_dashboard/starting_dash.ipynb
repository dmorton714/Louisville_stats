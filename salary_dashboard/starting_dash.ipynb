{
 "cells": [
  {
   "cell_type": "code",
   "execution_count": 1,
   "metadata": {},
   "outputs": [],
   "source": [
    "import pandas as pd\n",
    "import numpy as np\n",
    "from datetime import datetime\n",
    "import plotly.graph_objects as go"
   ]
  },
  {
   "cell_type": "code",
   "execution_count": 2,
   "metadata": {},
   "outputs": [],
   "source": [
    "data = pd.read_csv(\"../data2/salary.csv\")"
   ]
  },
  {
   "cell_type": "markdown",
   "metadata": {},
   "source": [
    "# Cleaning \n",
    "\n",
    "This code cleans data by: \n",
    "- removing unnecessary columns\n",
    "- calculating total expected salary\n",
    "- filling missing values with zero\n",
    "- standardizing department names \n",
    "- computes hourly rates \n",
    "- overtime rates\n",
    "- total weekly hours worked \n",
    "- converts the current years data to real time budget tracking. "
   ]
  },
  {
   "cell_type": "code",
   "execution_count": 3,
   "metadata": {},
   "outputs": [],
   "source": [
    "# drops cols we dont need \n",
    "cols_to_drop = ['jobTitle', 'Other', 'ObjectId']\n",
    "data = data.drop(columns=cols_to_drop)\n",
    "# calculates total expected salary \n",
    "data['Salary_Total'] = data['Annual_Rate'] + data['Incentive_Allowance']\n",
    "# Filling missing data with 0 \n",
    "data = data.fillna(0)\n",
    "# merging the departments together \n",
    "data['Department'] = data['Department'].replace('Louisville Metro Police', 'Louisville Metro Police Department')\n",
    "data['Department'] = data['Department'].replace('Department of Corrections', 'Metro Corrections')\n",
    "# calculates total weekly hrs worked \n",
    "data['Hr_Rate'] = data['Regular_Rate'] / 2080\n",
    "data['Ot_Rate'] = data['Hr_Rate'] * 1.5\n",
    "data['Hr_Worked'] = data['Overtime_Rate'] / data['Ot_Rate'] / 52 + 40\n",
    "data.replace([np.inf, -np.inf], 40, inplace=True)\n",
    "\n",
    "'''fix this soon\n",
    "add update_check.py to this file to have the dynamic var\n",
    "\n",
    "date_div = \"November 27, 2024\"\n",
    "'''\n",
    "\n",
    "# Define the date\n",
    "date_div = \"November 27, 2024\"\n",
    "\n",
    "# Convert the string to a datetime object\n",
    "date_object = datetime.strptime(date_div, \"%B %d, %Y\")\n",
    "\n",
    "# Get the week number of the c_year\n",
    "week = date_object.isocalendar()[1]\n",
    "\n",
    "# Convert the string to a datetime object\n",
    "date_object = datetime.strptime(date_div, \"%B %d, %Y\")\n",
    "\n",
    "# Get the c_year\n",
    "c_year = date_object.year\n",
    "\n",
    "# Check if there are any rows where the CalYear is equal to the specified c_year\n",
    "if (data['CalYear'] == c_year).any():\n",
    "    # Convert Annual_Rate to weekly rate by dividing by 52\n",
    "    data.loc[data['CalYear'] == c_year, 'Annual_Rate'] = data.loc[data['CalYear'] == c_year, 'Annual_Rate'] / 52\n",
    "\n",
    "    # Scale the weekly rate for the specific week\n",
    "    data.loc[data['CalYear'] == c_year, 'Annual_Rate'] = data.loc[data['CalYear'] == c_year, 'Annual_Rate'] * week\n"
   ]
  },
  {
   "cell_type": "code",
   "execution_count": 4,
   "metadata": {},
   "outputs": [],
   "source": [
    "data.to_csv(\"../data2/salary.csv\", index=False)"
   ]
  },
  {
   "cell_type": "code",
   "execution_count": 5,
   "metadata": {},
   "outputs": [],
   "source": [
    "# # Check if there are any rows where the CalYear is equal to the specified year\n",
    "# if (data['CalYear'] == year).any():\n",
    "#     # Convert Annual_Rate to weekly rate by dividing by 52\n",
    "#     data.loc[data['CalYear'] == year, 'Annual_Rate'] = data.loc[data['CalYear'] == year, 'Annual_Rate'] / 52\n",
    "\n",
    "#     # Scale the weekly rate for the specific week\n",
    "#     data.loc[data['CalYear'] == year, 'Annual_Rate'] = data.loc[data['CalYear'] == year, 'Annual_Rate'] * week\n"
   ]
  },
  {
   "cell_type": "markdown",
   "metadata": {},
   "source": [
    "<pre>\n",
    "+---------------------------------------------------------------------------------------------------------+\n",
    "|+-------------------------------------------------------------------------------------------------------+|\n",
    "||[1. logo] 2. Louisville Metro Government Salary tracker   [3. Department drop down][ 4. year drop down]|| \n",
    "|+-------------------------------------------------------------------------------------------------------+|\n",
    "|+--------+     6. salary spend 8. actual salary spend +-----+     +-------------------------------------+|\n",
    "||5. plot |     7. salary data  9. salary data         |12. %|     |  11. horizontal bar plot department || \n",
    "||        |                                            +-----+     |                                     || \n",
    "|+--------+                                                        |                                     || \n",
    "|                                                                  |                                     || \n",
    "|+---------------------------------------------------------------+ |                                     || \n",
    "|| 10. Top employees salary deviation data frame                 | |                                     || \n",
    "||                                                               | |                                     || \n",
    "||                                                               | |                                     || \n",
    "||                                                               | |                                     || \n",
    "||                                                               | |                                     || \n",
    "||                                                               | |                                     || \n",
    "||                                                               | |                                     || \n",
    "|+---------------------------------------------------------------+ +-------------------------------------+|\n",
    "+---------------------------------------------------------------------------------------------------------+\n",
    "</pre>\n"
   ]
  },
  {
   "cell_type": "markdown",
   "metadata": {},
   "source": [
    "# code for 5, 7, 9, and 12 \n",
    "\n",
    "- 5 Will be a gauge plot?\n"
   ]
  },
  {
   "cell_type": "code",
   "execution_count": 6,
   "metadata": {},
   "outputs": [
    {
     "data": {
      "text/html": [
       "<div>\n",
       "<style scoped>\n",
       "    .dataframe tbody tr th:only-of-type {\n",
       "        vertical-align: middle;\n",
       "    }\n",
       "\n",
       "    .dataframe tbody tr th {\n",
       "        vertical-align: top;\n",
       "    }\n",
       "\n",
       "    .dataframe thead th {\n",
       "        text-align: right;\n",
       "    }\n",
       "</style>\n",
       "<table border=\"1\" class=\"dataframe\">\n",
       "  <thead>\n",
       "    <tr style=\"text-align: right;\">\n",
       "      <th></th>\n",
       "      <th>CalYear</th>\n",
       "      <th>YTD_Total</th>\n",
       "      <th>Salary_Total</th>\n",
       "    </tr>\n",
       "  </thead>\n",
       "  <tbody>\n",
       "    <tr>\n",
       "      <th>0</th>\n",
       "      <td>2020</td>\n",
       "      <td>3.331710e+08</td>\n",
       "      <td>3.396643e+08</td>\n",
       "    </tr>\n",
       "    <tr>\n",
       "      <th>1</th>\n",
       "      <td>2021</td>\n",
       "      <td>3.307436e+08</td>\n",
       "      <td>3.512589e+08</td>\n",
       "    </tr>\n",
       "    <tr>\n",
       "      <th>2</th>\n",
       "      <td>2022</td>\n",
       "      <td>3.901357e+08</td>\n",
       "      <td>3.702980e+08</td>\n",
       "    </tr>\n",
       "    <tr>\n",
       "      <th>3</th>\n",
       "      <td>2023</td>\n",
       "      <td>3.858792e+08</td>\n",
       "      <td>4.272305e+08</td>\n",
       "    </tr>\n",
       "    <tr>\n",
       "      <th>4</th>\n",
       "      <td>2024</td>\n",
       "      <td>4.233279e+08</td>\n",
       "      <td>4.581717e+08</td>\n",
       "    </tr>\n",
       "    <tr>\n",
       "      <th>5</th>\n",
       "      <td>2025</td>\n",
       "      <td>4.879412e+07</td>\n",
       "      <td>3.790646e+08</td>\n",
       "    </tr>\n",
       "  </tbody>\n",
       "</table>\n",
       "</div>"
      ],
      "text/plain": [
       "   CalYear     YTD_Total  Salary_Total\n",
       "0     2020  3.331710e+08  3.396643e+08\n",
       "1     2021  3.307436e+08  3.512589e+08\n",
       "2     2022  3.901357e+08  3.702980e+08\n",
       "3     2023  3.858792e+08  4.272305e+08\n",
       "4     2024  4.233279e+08  4.581717e+08\n",
       "5     2025  4.879412e+07  3.790646e+08"
      ]
     },
     "execution_count": 6,
     "metadata": {},
     "output_type": "execute_result"
    }
   ],
   "source": [
    "# gauge plot\n",
    "# 2019-2024\n",
    "gauge = data.groupby(['CalYear'])[['YTD_Total', 'Salary_Total']].sum().reset_index()\n",
    "gauge.head(10)"
   ]
  },
  {
   "cell_type": "code",
   "execution_count": 11,
   "metadata": {},
   "outputs": [
    {
     "data": {
      "application/vnd.plotly.v1+json": {
       "config": {
        "plotlyServerURL": "https://plot.ly"
       },
       "data": [
        {
         "delta": {
          "decreasing": {
           "color": "green"
          },
          "increasing": {
           "color": "red"
          },
          "reference": 339664329.66
         },
         "gauge": {
          "axis": {
           "range": [
            0,
            373630762.62600005
           ]
          },
          "bar": {
           "color": "rgba(0,0,0,0)"
          },
          "steps": [
           {
            "color": "#004080",
            "range": [
             0,
             339664329.66
            ]
           }
          ],
          "threshold": {
           "line": {
            "color": "red",
            "width": 4
           },
           "thickness": 0.95,
           "value": 333170991.3
          }
         },
         "mode": "gauge+number+delta",
         "title": {
          "font": {
           "size": 20
          },
          "text": "2020 Salary Spend vs. Budget"
         },
         "type": "indicator",
         "value": 333170991.3
        }
       ],
       "layout": {
        "template": {
         "data": {
          "bar": [
           {
            "error_x": {
             "color": "#2a3f5f"
            },
            "error_y": {
             "color": "#2a3f5f"
            },
            "marker": {
             "line": {
              "color": "#E5ECF6",
              "width": 0.5
             },
             "pattern": {
              "fillmode": "overlay",
              "size": 10,
              "solidity": 0.2
             }
            },
            "type": "bar"
           }
          ],
          "barpolar": [
           {
            "marker": {
             "line": {
              "color": "#E5ECF6",
              "width": 0.5
             },
             "pattern": {
              "fillmode": "overlay",
              "size": 10,
              "solidity": 0.2
             }
            },
            "type": "barpolar"
           }
          ],
          "carpet": [
           {
            "aaxis": {
             "endlinecolor": "#2a3f5f",
             "gridcolor": "white",
             "linecolor": "white",
             "minorgridcolor": "white",
             "startlinecolor": "#2a3f5f"
            },
            "baxis": {
             "endlinecolor": "#2a3f5f",
             "gridcolor": "white",
             "linecolor": "white",
             "minorgridcolor": "white",
             "startlinecolor": "#2a3f5f"
            },
            "type": "carpet"
           }
          ],
          "choropleth": [
           {
            "colorbar": {
             "outlinewidth": 0,
             "ticks": ""
            },
            "type": "choropleth"
           }
          ],
          "contour": [
           {
            "colorbar": {
             "outlinewidth": 0,
             "ticks": ""
            },
            "colorscale": [
             [
              0,
              "#0d0887"
             ],
             [
              0.1111111111111111,
              "#46039f"
             ],
             [
              0.2222222222222222,
              "#7201a8"
             ],
             [
              0.3333333333333333,
              "#9c179e"
             ],
             [
              0.4444444444444444,
              "#bd3786"
             ],
             [
              0.5555555555555556,
              "#d8576b"
             ],
             [
              0.6666666666666666,
              "#ed7953"
             ],
             [
              0.7777777777777778,
              "#fb9f3a"
             ],
             [
              0.8888888888888888,
              "#fdca26"
             ],
             [
              1,
              "#f0f921"
             ]
            ],
            "type": "contour"
           }
          ],
          "contourcarpet": [
           {
            "colorbar": {
             "outlinewidth": 0,
             "ticks": ""
            },
            "type": "contourcarpet"
           }
          ],
          "heatmap": [
           {
            "colorbar": {
             "outlinewidth": 0,
             "ticks": ""
            },
            "colorscale": [
             [
              0,
              "#0d0887"
             ],
             [
              0.1111111111111111,
              "#46039f"
             ],
             [
              0.2222222222222222,
              "#7201a8"
             ],
             [
              0.3333333333333333,
              "#9c179e"
             ],
             [
              0.4444444444444444,
              "#bd3786"
             ],
             [
              0.5555555555555556,
              "#d8576b"
             ],
             [
              0.6666666666666666,
              "#ed7953"
             ],
             [
              0.7777777777777778,
              "#fb9f3a"
             ],
             [
              0.8888888888888888,
              "#fdca26"
             ],
             [
              1,
              "#f0f921"
             ]
            ],
            "type": "heatmap"
           }
          ],
          "heatmapgl": [
           {
            "colorbar": {
             "outlinewidth": 0,
             "ticks": ""
            },
            "colorscale": [
             [
              0,
              "#0d0887"
             ],
             [
              0.1111111111111111,
              "#46039f"
             ],
             [
              0.2222222222222222,
              "#7201a8"
             ],
             [
              0.3333333333333333,
              "#9c179e"
             ],
             [
              0.4444444444444444,
              "#bd3786"
             ],
             [
              0.5555555555555556,
              "#d8576b"
             ],
             [
              0.6666666666666666,
              "#ed7953"
             ],
             [
              0.7777777777777778,
              "#fb9f3a"
             ],
             [
              0.8888888888888888,
              "#fdca26"
             ],
             [
              1,
              "#f0f921"
             ]
            ],
            "type": "heatmapgl"
           }
          ],
          "histogram": [
           {
            "marker": {
             "pattern": {
              "fillmode": "overlay",
              "size": 10,
              "solidity": 0.2
             }
            },
            "type": "histogram"
           }
          ],
          "histogram2d": [
           {
            "colorbar": {
             "outlinewidth": 0,
             "ticks": ""
            },
            "colorscale": [
             [
              0,
              "#0d0887"
             ],
             [
              0.1111111111111111,
              "#46039f"
             ],
             [
              0.2222222222222222,
              "#7201a8"
             ],
             [
              0.3333333333333333,
              "#9c179e"
             ],
             [
              0.4444444444444444,
              "#bd3786"
             ],
             [
              0.5555555555555556,
              "#d8576b"
             ],
             [
              0.6666666666666666,
              "#ed7953"
             ],
             [
              0.7777777777777778,
              "#fb9f3a"
             ],
             [
              0.8888888888888888,
              "#fdca26"
             ],
             [
              1,
              "#f0f921"
             ]
            ],
            "type": "histogram2d"
           }
          ],
          "histogram2dcontour": [
           {
            "colorbar": {
             "outlinewidth": 0,
             "ticks": ""
            },
            "colorscale": [
             [
              0,
              "#0d0887"
             ],
             [
              0.1111111111111111,
              "#46039f"
             ],
             [
              0.2222222222222222,
              "#7201a8"
             ],
             [
              0.3333333333333333,
              "#9c179e"
             ],
             [
              0.4444444444444444,
              "#bd3786"
             ],
             [
              0.5555555555555556,
              "#d8576b"
             ],
             [
              0.6666666666666666,
              "#ed7953"
             ],
             [
              0.7777777777777778,
              "#fb9f3a"
             ],
             [
              0.8888888888888888,
              "#fdca26"
             ],
             [
              1,
              "#f0f921"
             ]
            ],
            "type": "histogram2dcontour"
           }
          ],
          "mesh3d": [
           {
            "colorbar": {
             "outlinewidth": 0,
             "ticks": ""
            },
            "type": "mesh3d"
           }
          ],
          "parcoords": [
           {
            "line": {
             "colorbar": {
              "outlinewidth": 0,
              "ticks": ""
             }
            },
            "type": "parcoords"
           }
          ],
          "pie": [
           {
            "automargin": true,
            "type": "pie"
           }
          ],
          "scatter": [
           {
            "fillpattern": {
             "fillmode": "overlay",
             "size": 10,
             "solidity": 0.2
            },
            "type": "scatter"
           }
          ],
          "scatter3d": [
           {
            "line": {
             "colorbar": {
              "outlinewidth": 0,
              "ticks": ""
             }
            },
            "marker": {
             "colorbar": {
              "outlinewidth": 0,
              "ticks": ""
             }
            },
            "type": "scatter3d"
           }
          ],
          "scattercarpet": [
           {
            "marker": {
             "colorbar": {
              "outlinewidth": 0,
              "ticks": ""
             }
            },
            "type": "scattercarpet"
           }
          ],
          "scattergeo": [
           {
            "marker": {
             "colorbar": {
              "outlinewidth": 0,
              "ticks": ""
             }
            },
            "type": "scattergeo"
           }
          ],
          "scattergl": [
           {
            "marker": {
             "colorbar": {
              "outlinewidth": 0,
              "ticks": ""
             }
            },
            "type": "scattergl"
           }
          ],
          "scattermapbox": [
           {
            "marker": {
             "colorbar": {
              "outlinewidth": 0,
              "ticks": ""
             }
            },
            "type": "scattermapbox"
           }
          ],
          "scatterpolar": [
           {
            "marker": {
             "colorbar": {
              "outlinewidth": 0,
              "ticks": ""
             }
            },
            "type": "scatterpolar"
           }
          ],
          "scatterpolargl": [
           {
            "marker": {
             "colorbar": {
              "outlinewidth": 0,
              "ticks": ""
             }
            },
            "type": "scatterpolargl"
           }
          ],
          "scatterternary": [
           {
            "marker": {
             "colorbar": {
              "outlinewidth": 0,
              "ticks": ""
             }
            },
            "type": "scatterternary"
           }
          ],
          "surface": [
           {
            "colorbar": {
             "outlinewidth": 0,
             "ticks": ""
            },
            "colorscale": [
             [
              0,
              "#0d0887"
             ],
             [
              0.1111111111111111,
              "#46039f"
             ],
             [
              0.2222222222222222,
              "#7201a8"
             ],
             [
              0.3333333333333333,
              "#9c179e"
             ],
             [
              0.4444444444444444,
              "#bd3786"
             ],
             [
              0.5555555555555556,
              "#d8576b"
             ],
             [
              0.6666666666666666,
              "#ed7953"
             ],
             [
              0.7777777777777778,
              "#fb9f3a"
             ],
             [
              0.8888888888888888,
              "#fdca26"
             ],
             [
              1,
              "#f0f921"
             ]
            ],
            "type": "surface"
           }
          ],
          "table": [
           {
            "cells": {
             "fill": {
              "color": "#EBF0F8"
             },
             "line": {
              "color": "white"
             }
            },
            "header": {
             "fill": {
              "color": "#C8D4E3"
             },
             "line": {
              "color": "white"
             }
            },
            "type": "table"
           }
          ]
         },
         "layout": {
          "annotationdefaults": {
           "arrowcolor": "#2a3f5f",
           "arrowhead": 0,
           "arrowwidth": 1
          },
          "autotypenumbers": "strict",
          "coloraxis": {
           "colorbar": {
            "outlinewidth": 0,
            "ticks": ""
           }
          },
          "colorscale": {
           "diverging": [
            [
             0,
             "#8e0152"
            ],
            [
             0.1,
             "#c51b7d"
            ],
            [
             0.2,
             "#de77ae"
            ],
            [
             0.3,
             "#f1b6da"
            ],
            [
             0.4,
             "#fde0ef"
            ],
            [
             0.5,
             "#f7f7f7"
            ],
            [
             0.6,
             "#e6f5d0"
            ],
            [
             0.7,
             "#b8e186"
            ],
            [
             0.8,
             "#7fbc41"
            ],
            [
             0.9,
             "#4d9221"
            ],
            [
             1,
             "#276419"
            ]
           ],
           "sequential": [
            [
             0,
             "#0d0887"
            ],
            [
             0.1111111111111111,
             "#46039f"
            ],
            [
             0.2222222222222222,
             "#7201a8"
            ],
            [
             0.3333333333333333,
             "#9c179e"
            ],
            [
             0.4444444444444444,
             "#bd3786"
            ],
            [
             0.5555555555555556,
             "#d8576b"
            ],
            [
             0.6666666666666666,
             "#ed7953"
            ],
            [
             0.7777777777777778,
             "#fb9f3a"
            ],
            [
             0.8888888888888888,
             "#fdca26"
            ],
            [
             1,
             "#f0f921"
            ]
           ],
           "sequentialminus": [
            [
             0,
             "#0d0887"
            ],
            [
             0.1111111111111111,
             "#46039f"
            ],
            [
             0.2222222222222222,
             "#7201a8"
            ],
            [
             0.3333333333333333,
             "#9c179e"
            ],
            [
             0.4444444444444444,
             "#bd3786"
            ],
            [
             0.5555555555555556,
             "#d8576b"
            ],
            [
             0.6666666666666666,
             "#ed7953"
            ],
            [
             0.7777777777777778,
             "#fb9f3a"
            ],
            [
             0.8888888888888888,
             "#fdca26"
            ],
            [
             1,
             "#f0f921"
            ]
           ]
          },
          "colorway": [
           "#636efa",
           "#EF553B",
           "#00cc96",
           "#ab63fa",
           "#FFA15A",
           "#19d3f3",
           "#FF6692",
           "#B6E880",
           "#FF97FF",
           "#FECB52"
          ],
          "font": {
           "color": "#2a3f5f"
          },
          "geo": {
           "bgcolor": "white",
           "lakecolor": "white",
           "landcolor": "#E5ECF6",
           "showlakes": true,
           "showland": true,
           "subunitcolor": "white"
          },
          "hoverlabel": {
           "align": "left"
          },
          "hovermode": "closest",
          "mapbox": {
           "style": "light"
          },
          "paper_bgcolor": "white",
          "plot_bgcolor": "#E5ECF6",
          "polar": {
           "angularaxis": {
            "gridcolor": "white",
            "linecolor": "white",
            "ticks": ""
           },
           "bgcolor": "#E5ECF6",
           "radialaxis": {
            "gridcolor": "white",
            "linecolor": "white",
            "ticks": ""
           }
          },
          "scene": {
           "xaxis": {
            "backgroundcolor": "#E5ECF6",
            "gridcolor": "white",
            "gridwidth": 2,
            "linecolor": "white",
            "showbackground": true,
            "ticks": "",
            "zerolinecolor": "white"
           },
           "yaxis": {
            "backgroundcolor": "#E5ECF6",
            "gridcolor": "white",
            "gridwidth": 2,
            "linecolor": "white",
            "showbackground": true,
            "ticks": "",
            "zerolinecolor": "white"
           },
           "zaxis": {
            "backgroundcolor": "#E5ECF6",
            "gridcolor": "white",
            "gridwidth": 2,
            "linecolor": "white",
            "showbackground": true,
            "ticks": "",
            "zerolinecolor": "white"
           }
          },
          "shapedefaults": {
           "line": {
            "color": "#2a3f5f"
           }
          },
          "ternary": {
           "aaxis": {
            "gridcolor": "white",
            "linecolor": "white",
            "ticks": ""
           },
           "baxis": {
            "gridcolor": "white",
            "linecolor": "white",
            "ticks": ""
           },
           "bgcolor": "#E5ECF6",
           "caxis": {
            "gridcolor": "white",
            "linecolor": "white",
            "ticks": ""
           }
          },
          "title": {
           "x": 0.05
          },
          "xaxis": {
           "automargin": true,
           "gridcolor": "white",
           "linecolor": "white",
           "ticks": "",
           "title": {
            "standoff": 15
           },
           "zerolinecolor": "white",
           "zerolinewidth": 2
          },
          "yaxis": {
           "automargin": true,
           "gridcolor": "white",
           "linecolor": "white",
           "ticks": "",
           "title": {
            "standoff": 15
           },
           "zerolinecolor": "white",
           "zerolinewidth": 2
          }
         }
        },
        "title": {
         "font": {
          "size": 20
         }
        }
       }
      }
     },
     "metadata": {},
     "output_type": "display_data"
    }
   ],
   "source": [
    "def plot_info(year, gauge) -> None:\n",
    "    # Filter the data for the given year\n",
    "    year_filter = gauge[gauge['CalYear'] == year]\n",
    "    \n",
    "    # Extract actual and expected values\n",
    "    actual = year_filter['YTD_Total'].iloc[0]\n",
    "    expected = year_filter['Salary_Total'].iloc[0]\n",
    "\n",
    "    # Create the gauge plot\n",
    "    steps = [\n",
    "        {'range': [0, expected], 'color': '#004080'}  # Dark blue for expected salary\n",
    "    ]\n",
    "    \n",
    "    # Add yellow step if actual exceeds expected\n",
    "    if actual > expected:\n",
    "        steps.append({'range': [expected, actual], 'color': 'yellow'})  # Yellow for actual salary\n",
    "    \n",
    "    fig = go.Figure(go.Indicator(\n",
    "        mode=\"gauge+number+delta\",\n",
    "        value=actual,\n",
    "        delta={\n",
    "            'reference': expected,\n",
    "            'increasing': {'color': \"red\"},\n",
    "            'decreasing': {'color': \"green\"}\n",
    "        },\n",
    "        gauge={\n",
    "            'axis': {'range': [0, expected * 1.1]},  \n",
    "            'bar': {'color': 'rgba(0,0,0,0)'},\n",
    "            'steps': steps,\n",
    "            'threshold': {\n",
    "                'line': {'color': \"red\", 'width': 4},  \n",
    "                'thickness': .95,\n",
    "                'value': actual  # Place the red line at the actual\n",
    "            }\n",
    "        },\n",
    "        title={'text': f\"{year} Salary Spend vs. Budget\", 'font': {'size': 20}},\n",
    "    ))\n",
    "\n",
    "    fig.update_layout(\n",
    "        title_font={'size': 20},  # Set font size for the overall layout title\n",
    "    )\n",
    "\n",
    "    # Show the figure\n",
    "    fig.show()\n",
    "\n",
    "\n",
    "# Example usage:\n",
    "plot_info(2020, gauge)\n"
   ]
  },
  {
   "cell_type": "code",
   "execution_count": 9,
   "metadata": {},
   "outputs": [
    {
     "ename": "IndexError",
     "evalue": "single positional indexer is out-of-bounds",
     "output_type": "error",
     "traceback": [
      "\u001b[0;31m---------------------------------------------------------------------------\u001b[0m",
      "\u001b[0;31mIndexError\u001b[0m                                Traceback (most recent call last)",
      "Cell \u001b[0;32mIn[9], line 2\u001b[0m\n\u001b[1;32m      1\u001b[0m \u001b[38;5;66;03m# Example usage:\u001b[39;00m\n\u001b[0;32m----> 2\u001b[0m \u001b[43mplot_info\u001b[49m\u001b[43m(\u001b[49m\u001b[38;5;241;43m2019\u001b[39;49m\u001b[43m,\u001b[49m\u001b[43m \u001b[49m\u001b[43mgauge\u001b[49m\u001b[43m)\u001b[49m\n",
      "Cell \u001b[0;32mIn[7], line 6\u001b[0m, in \u001b[0;36mplot_info\u001b[0;34m(year, gauge)\u001b[0m\n\u001b[1;32m      3\u001b[0m year_filter \u001b[38;5;241m=\u001b[39m gauge[gauge[\u001b[38;5;124m'\u001b[39m\u001b[38;5;124mCalYear\u001b[39m\u001b[38;5;124m'\u001b[39m] \u001b[38;5;241m==\u001b[39m year]\n\u001b[1;32m      5\u001b[0m \u001b[38;5;66;03m# Extract actual and expected values\u001b[39;00m\n\u001b[0;32m----> 6\u001b[0m actual \u001b[38;5;241m=\u001b[39m \u001b[43myear_filter\u001b[49m\u001b[43m[\u001b[49m\u001b[38;5;124;43m'\u001b[39;49m\u001b[38;5;124;43mYTD_Total\u001b[39;49m\u001b[38;5;124;43m'\u001b[39;49m\u001b[43m]\u001b[49m\u001b[38;5;241;43m.\u001b[39;49m\u001b[43miloc\u001b[49m\u001b[43m[\u001b[49m\u001b[38;5;241;43m0\u001b[39;49m\u001b[43m]\u001b[49m\n\u001b[1;32m      7\u001b[0m expected \u001b[38;5;241m=\u001b[39m year_filter[\u001b[38;5;124m'\u001b[39m\u001b[38;5;124mSalary_Total\u001b[39m\u001b[38;5;124m'\u001b[39m]\u001b[38;5;241m.\u001b[39miloc[\u001b[38;5;241m0\u001b[39m]\n\u001b[1;32m      9\u001b[0m \u001b[38;5;66;03m# Create the gauge plot\u001b[39;00m\n",
      "File \u001b[0;32m~/Documents/code/Louisville_stats/venv/lib/python3.12/site-packages/pandas/core/indexing.py:1191\u001b[0m, in \u001b[0;36m_LocationIndexer.__getitem__\u001b[0;34m(self, key)\u001b[0m\n\u001b[1;32m   1189\u001b[0m maybe_callable \u001b[38;5;241m=\u001b[39m com\u001b[38;5;241m.\u001b[39mapply_if_callable(key, \u001b[38;5;28mself\u001b[39m\u001b[38;5;241m.\u001b[39mobj)\n\u001b[1;32m   1190\u001b[0m maybe_callable \u001b[38;5;241m=\u001b[39m \u001b[38;5;28mself\u001b[39m\u001b[38;5;241m.\u001b[39m_check_deprecated_callable_usage(key, maybe_callable)\n\u001b[0;32m-> 1191\u001b[0m \u001b[38;5;28;01mreturn\u001b[39;00m \u001b[38;5;28;43mself\u001b[39;49m\u001b[38;5;241;43m.\u001b[39;49m\u001b[43m_getitem_axis\u001b[49m\u001b[43m(\u001b[49m\u001b[43mmaybe_callable\u001b[49m\u001b[43m,\u001b[49m\u001b[43m \u001b[49m\u001b[43maxis\u001b[49m\u001b[38;5;241;43m=\u001b[39;49m\u001b[43maxis\u001b[49m\u001b[43m)\u001b[49m\n",
      "File \u001b[0;32m~/Documents/code/Louisville_stats/venv/lib/python3.12/site-packages/pandas/core/indexing.py:1752\u001b[0m, in \u001b[0;36m_iLocIndexer._getitem_axis\u001b[0;34m(self, key, axis)\u001b[0m\n\u001b[1;32m   1749\u001b[0m     \u001b[38;5;28;01mraise\u001b[39;00m \u001b[38;5;167;01mTypeError\u001b[39;00m(\u001b[38;5;124m\"\u001b[39m\u001b[38;5;124mCannot index by location index with a non-integer key\u001b[39m\u001b[38;5;124m\"\u001b[39m)\n\u001b[1;32m   1751\u001b[0m \u001b[38;5;66;03m# validate the location\u001b[39;00m\n\u001b[0;32m-> 1752\u001b[0m \u001b[38;5;28;43mself\u001b[39;49m\u001b[38;5;241;43m.\u001b[39;49m\u001b[43m_validate_integer\u001b[49m\u001b[43m(\u001b[49m\u001b[43mkey\u001b[49m\u001b[43m,\u001b[49m\u001b[43m \u001b[49m\u001b[43maxis\u001b[49m\u001b[43m)\u001b[49m\n\u001b[1;32m   1754\u001b[0m \u001b[38;5;28;01mreturn\u001b[39;00m \u001b[38;5;28mself\u001b[39m\u001b[38;5;241m.\u001b[39mobj\u001b[38;5;241m.\u001b[39m_ixs(key, axis\u001b[38;5;241m=\u001b[39maxis)\n",
      "File \u001b[0;32m~/Documents/code/Louisville_stats/venv/lib/python3.12/site-packages/pandas/core/indexing.py:1685\u001b[0m, in \u001b[0;36m_iLocIndexer._validate_integer\u001b[0;34m(self, key, axis)\u001b[0m\n\u001b[1;32m   1683\u001b[0m len_axis \u001b[38;5;241m=\u001b[39m \u001b[38;5;28mlen\u001b[39m(\u001b[38;5;28mself\u001b[39m\u001b[38;5;241m.\u001b[39mobj\u001b[38;5;241m.\u001b[39m_get_axis(axis))\n\u001b[1;32m   1684\u001b[0m \u001b[38;5;28;01mif\u001b[39;00m key \u001b[38;5;241m>\u001b[39m\u001b[38;5;241m=\u001b[39m len_axis \u001b[38;5;129;01mor\u001b[39;00m key \u001b[38;5;241m<\u001b[39m \u001b[38;5;241m-\u001b[39mlen_axis:\n\u001b[0;32m-> 1685\u001b[0m     \u001b[38;5;28;01mraise\u001b[39;00m \u001b[38;5;167;01mIndexError\u001b[39;00m(\u001b[38;5;124m\"\u001b[39m\u001b[38;5;124msingle positional indexer is out-of-bounds\u001b[39m\u001b[38;5;124m\"\u001b[39m)\n",
      "\u001b[0;31mIndexError\u001b[0m: single positional indexer is out-of-bounds"
     ]
    }
   ],
   "source": [
    "# Example usage:\n",
    "plot_info(2019, gauge)"
   ]
  },
  {
   "cell_type": "markdown",
   "metadata": {},
   "source": [
    "# code for 7, 9, and 12 \n",
    "- 7 will be the calculation of total salary spend up till today or historical total\n",
    "- 9 actual salary spend of total salary spend up till today or historical total\n",
    "- 12 will be the percent difference in the salary spend "
   ]
  },
  {
   "cell_type": "markdown",
   "metadata": {},
   "source": [
    "<pre>\n",
    "+---------------------------------------------------------------------------------------------------------+\n",
    "|+-------------------------------------------------------------------------------------------------------+|\n",
    "||[1. logo] 2. Louisville Metro Government Salary tracker   [3. Department drop down][ 4. year drop down]|| \n",
    "|+-------------------------------------------------------------------------------------------------------+|\n",
    "|+--------+     6. salary spend 8. actual salary spend +-----+     +-------------------------------------+|\n",
    "||5. plot |     7. salary data  9. salary data         |12. %|     |  11. horizontal bar plot department || \n",
    "||        |                                            +-----+     |                                     || \n",
    "|+--------+                                                        |                                     || \n",
    "|                                                                  |                                     || \n",
    "|+---------------------------------------------------------------+ |                                     || \n",
    "|| 10. Top employees salary deviation data frame                 | |                                     || \n",
    "||                                                               | |                                     || \n",
    "||                                                               | |                                     || \n",
    "||                                                               | |                                     || \n",
    "||                                                               | |                                     || \n",
    "||                                                               | |                                     || \n",
    "||                                                               | |                                     || \n",
    "|+---------------------------------------------------------------+ +-------------------------------------+|\n",
    "+---------------------------------------------------------------------------------------------------------+\n",
    "</pre>\n"
   ]
  },
  {
   "cell_type": "markdown",
   "metadata": {},
   "source": [
    "- 7 will be the calculation of total salary spend up till today or historical total\n",
    "- 9 actual salary spend of total salary spend up till today or historical total\n",
    "- 12 will be the percent difference in the salary spend "
   ]
  },
  {
   "cell_type": "code",
   "execution_count": null,
   "metadata": {},
   "outputs": [],
   "source": [
    "def calculate_total_spend(year, data) -> str:\n",
    "    # Filter the data for the specified year\n",
    "    year_filter = data[data['CalYear'] == year]\n",
    "    \n",
    "    # Calculate the sum of 'YTD_Total' for the filtered data\n",
    "    total_spend = year_filter['YTD_Total'].sum().round(2)\n",
    "\n",
    "    # Formats thousands separators\n",
    "    total_spend = \"{:,.2f}\".format(total_spend)\n",
    "    \n",
    "    # Return the total spend as a float\n",
    "    return str(total_spend)"
   ]
  },
  {
   "cell_type": "code",
   "execution_count": null,
   "metadata": {},
   "outputs": [],
   "source": [
    "def calculate_total_budget(year, data) -> str:\n",
    "    # Filter the data for the specified year\n",
    "    year_filter = data[data['CalYear'] == year]\n",
    "    \n",
    "    # Calculate the sum of 'Salary_Total' for the filtered data\n",
    "    total_spend = year_filter['Salary_Total'].sum().round(2)\n",
    "\n",
    "    # Formats thousands separators\n",
    "    total_spend = \"{:,.2f}\".format(total_spend)\n",
    "    \n",
    "    # Return the total spend as a float\n",
    "    return str(total_spend)"
   ]
  },
  {
   "cell_type": "code",
   "execution_count": null,
   "metadata": {},
   "outputs": [],
   "source": [
    "def calculate_budget_difference(year, data) -> str:\n",
    "    # Filter the data for the specified year\n",
    "    year_filter = data[data['CalYear'] == year]\n",
    "    \n",
    "    if year_filter.empty:\n",
    "        return \"No data for the specified year.\"\n",
    "    \n",
    "    # Extract actual and expected values\n",
    "    actual_spend = year_filter['YTD_Total'].sum()\n",
    "    budgeted_salary = year_filter['Salary_Total'].sum()\n",
    "\n",
    "    # Calculate the percentage difference\n",
    "    difference = ((actual_spend - budgeted_salary) / budgeted_salary) * 100\n",
    "    \n",
    "    # Format the difference with a '+' or '-' and thousands separators\n",
    "    return f\"{difference:+,.2f}%\"\n",
    "\n"
   ]
  },
  {
   "cell_type": "code",
   "execution_count": null,
   "metadata": {},
   "outputs": [
    {
     "name": "stdout",
     "output_type": "stream",
     "text": [
      "Total Salary Spend: 373,062,743.42\n"
     ]
    }
   ],
   "source": [
    "# Call the function and print the result\n",
    "total_sal_spend = calculate_total_spend(2024, data)\n",
    "\n",
    "print(f'Total Salary Spend: {total_sal_spend}')"
   ]
  },
  {
   "cell_type": "code",
   "execution_count": null,
   "metadata": {},
   "outputs": [
    {
     "name": "stdout",
     "output_type": "stream",
     "text": [
      "Total Salary Budgeted: 450,699,319.02\n"
     ]
    }
   ],
   "source": [
    "# Call the function and print the result\n",
    "total_sal_budget = calculate_total_budget(2024, data)\n",
    "\n",
    "print(f'Total Salary Budgeted: {total_sal_budget}')"
   ]
  },
  {
   "cell_type": "code",
   "execution_count": null,
   "metadata": {},
   "outputs": [
    {
     "name": "stdout",
     "output_type": "stream",
     "text": [
      "-17.23%\n"
     ]
    }
   ],
   "source": [
    "# Call the function and print the result\n",
    "budget_difference = calculate_budget_difference(2024, data)\n",
    "print(budget_difference)"
   ]
  },
  {
   "cell_type": "markdown",
   "metadata": {},
   "source": [
    "# Code for 10 "
   ]
  },
  {
   "cell_type": "markdown",
   "metadata": {},
   "source": [
    "<pre>\n",
    "+---------------------------------------------------------------------------------------------------------+\n",
    "|+-------------------------------------------------------------------------------------------------------+|\n",
    "||[1. logo] 2. Louisville Metro Government Salary tracker   [3. Department drop down][ 4. year drop down]|| \n",
    "|+-------------------------------------------------------------------------------------------------------+|\n",
    "|+--------+     6. salary spend 8. actual salary spend +-----+     +-------------------------------------+|\n",
    "||5. plot |     7. salary data  9. salary data         |12. %|     |  11. horizontal bar plot department || \n",
    "||        |                                            +-----+     |                                     || \n",
    "|+--------+                                                        |                                     || \n",
    "|                                                                  |                                     || \n",
    "|+---------------------------------------------------------------+ |                                     || \n",
    "|| 10. Top employees salary deviation data frame                 | |                                     || \n",
    "||                                                               | |                                     || \n",
    "||                                                               | |                                     || \n",
    "||                                                               | |                                     || \n",
    "||                                                               | |                                     || \n",
    "||                                                               | |                                     || \n",
    "||                                                               | |                                     || \n",
    "|+---------------------------------------------------------------+ +-------------------------------------+|\n",
    "+---------------------------------------------------------------------------------------------------------+\n",
    "</pre>\n"
   ]
  },
  {
   "cell_type": "code",
   "execution_count": null,
   "metadata": {},
   "outputs": [],
   "source": [
    "# we had to avoid division by zero and only calculate Discrepancy_Percent for employees with Salary_Total >= 20k\n",
    "\n",
    "\n",
    "def top_emp_dev(year, data):\n",
    "    # Filter the data for the given year\n",
    "    top_employee = data[data['CalYear'] == year].copy()\n",
    "\n",
    "    # Calculate the discrepancy and discrepancy ratio\n",
    "    top_employee['Deviation'] = top_employee['YTD_Total'] - top_employee['Salary_Total']\n",
    "\n",
    "    # Avoid division by zero and handle Salary_Total < 20k\n",
    "    top_employee.loc[:, 'Discrepancy_Percent'] = top_employee.apply(\n",
    "        lambda row: (row['Deviation'] / row['Salary_Total']) * 100 if row['Salary_Total'] >= 20000 and row['Salary_Total'] != 0 else None, axis=1\n",
    "    )\n",
    "\n",
    "    # Round the Discrepancy_Percent to 2 decimal places\n",
    "    top_employee['Discrepancy_Percent'] = top_employee['Discrepancy_Percent'].round(2)\n",
    "\n",
    "    # Sort the DataFrame by 'Discrepancy_Percent' in descending order\n",
    "    top_employee = top_employee.sort_values(by='Discrepancy_Percent', ascending=False)\n",
    "\n",
    "    # Keep only the specified columns\n",
    "    top_employee = top_employee[['CalYear', 'Employee_Name', 'Department', \n",
    "                                 'YTD_Total', 'Salary_Total', 'Deviation', \n",
    "                                 'Discrepancy_Percent']]\n",
    "    \n",
    "    # Reset index and drop the old index column\n",
    "    top_employee.reset_index(drop=True, inplace=True)\n",
    "\n",
    "    return top_employee.head(10)\n"
   ]
  },
  {
   "cell_type": "code",
   "execution_count": null,
   "metadata": {},
   "outputs": [
    {
     "data": {
      "text/html": [
       "<div>\n",
       "<style scoped>\n",
       "    .dataframe tbody tr th:only-of-type {\n",
       "        vertical-align: middle;\n",
       "    }\n",
       "\n",
       "    .dataframe tbody tr th {\n",
       "        vertical-align: top;\n",
       "    }\n",
       "\n",
       "    .dataframe thead th {\n",
       "        text-align: right;\n",
       "    }\n",
       "</style>\n",
       "<table border=\"1\" class=\"dataframe\">\n",
       "  <thead>\n",
       "    <tr style=\"text-align: right;\">\n",
       "      <th></th>\n",
       "      <th>CalYear</th>\n",
       "      <th>Employee_Name</th>\n",
       "      <th>Department</th>\n",
       "      <th>YTD_Total</th>\n",
       "      <th>Salary_Total</th>\n",
       "      <th>Deviation</th>\n",
       "      <th>Discrepancy_Percent</th>\n",
       "    </tr>\n",
       "  </thead>\n",
       "  <tbody>\n",
       "    <tr>\n",
       "      <th>0</th>\n",
       "      <td>2024</td>\n",
       "      <td>Standard, Royce Leshawn</td>\n",
       "      <td>Metro Corrections</td>\n",
       "      <td>180770.98</td>\n",
       "      <td>66934.40</td>\n",
       "      <td>113836.58</td>\n",
       "      <td>170.07</td>\n",
       "    </tr>\n",
       "    <tr>\n",
       "      <th>1</th>\n",
       "      <td>2024</td>\n",
       "      <td>Stimphil, Richardson</td>\n",
       "      <td>Metro Corrections</td>\n",
       "      <td>153587.46</td>\n",
       "      <td>60299.20</td>\n",
       "      <td>93288.26</td>\n",
       "      <td>154.71</td>\n",
       "    </tr>\n",
       "    <tr>\n",
       "      <th>2</th>\n",
       "      <td>2024</td>\n",
       "      <td>Jones, Dontorya J</td>\n",
       "      <td>Emergency Management Services</td>\n",
       "      <td>144154.28</td>\n",
       "      <td>62583.60</td>\n",
       "      <td>81570.68</td>\n",
       "      <td>130.34</td>\n",
       "    </tr>\n",
       "    <tr>\n",
       "      <th>3</th>\n",
       "      <td>2024</td>\n",
       "      <td>Jenkins, Todd Barry</td>\n",
       "      <td>Louisville Metro Police Department</td>\n",
       "      <td>251840.31</td>\n",
       "      <td>114357.73</td>\n",
       "      <td>137482.58</td>\n",
       "      <td>120.22</td>\n",
       "    </tr>\n",
       "    <tr>\n",
       "      <th>4</th>\n",
       "      <td>2024</td>\n",
       "      <td>Roberts, Bryan Keith</td>\n",
       "      <td>Metro Corrections</td>\n",
       "      <td>125239.59</td>\n",
       "      <td>58635.20</td>\n",
       "      <td>66604.39</td>\n",
       "      <td>113.59</td>\n",
       "    </tr>\n",
       "    <tr>\n",
       "      <th>5</th>\n",
       "      <td>2024</td>\n",
       "      <td>Whidby, Jacob T</td>\n",
       "      <td>Metro Corrections</td>\n",
       "      <td>156558.72</td>\n",
       "      <td>74256.00</td>\n",
       "      <td>82302.72</td>\n",
       "      <td>110.84</td>\n",
       "    </tr>\n",
       "    <tr>\n",
       "      <th>6</th>\n",
       "      <td>2024</td>\n",
       "      <td>Nicolas-Bates, Marylea Diedra</td>\n",
       "      <td>Metro Corrections</td>\n",
       "      <td>106942.63</td>\n",
       "      <td>50960.00</td>\n",
       "      <td>55982.63</td>\n",
       "      <td>109.86</td>\n",
       "    </tr>\n",
       "    <tr>\n",
       "      <th>7</th>\n",
       "      <td>2024</td>\n",
       "      <td>Starcher, Candice Lynn</td>\n",
       "      <td>Louisville Metro Police Department</td>\n",
       "      <td>96518.09</td>\n",
       "      <td>46248.36</td>\n",
       "      <td>50269.73</td>\n",
       "      <td>108.70</td>\n",
       "    </tr>\n",
       "    <tr>\n",
       "      <th>8</th>\n",
       "      <td>2024</td>\n",
       "      <td>Ashby, Stephanie Renee</td>\n",
       "      <td>ES &amp; MetroSafe</td>\n",
       "      <td>137706.00</td>\n",
       "      <td>66218.31</td>\n",
       "      <td>71487.69</td>\n",
       "      <td>107.96</td>\n",
       "    </tr>\n",
       "    <tr>\n",
       "      <th>9</th>\n",
       "      <td>2024</td>\n",
       "      <td>Salman, Saja Naji</td>\n",
       "      <td>Metro Corrections</td>\n",
       "      <td>101862.70</td>\n",
       "      <td>50835.20</td>\n",
       "      <td>51027.50</td>\n",
       "      <td>100.38</td>\n",
       "    </tr>\n",
       "  </tbody>\n",
       "</table>\n",
       "</div>"
      ],
      "text/plain": [
       "   CalYear                  Employee_Name                          Department  \\\n",
       "0     2024        Standard, Royce Leshawn                   Metro Corrections   \n",
       "1     2024           Stimphil, Richardson                   Metro Corrections   \n",
       "2     2024              Jones, Dontorya J       Emergency Management Services   \n",
       "3     2024            Jenkins, Todd Barry  Louisville Metro Police Department   \n",
       "4     2024           Roberts, Bryan Keith                   Metro Corrections   \n",
       "5     2024                Whidby, Jacob T                   Metro Corrections   \n",
       "6     2024  Nicolas-Bates, Marylea Diedra                   Metro Corrections   \n",
       "7     2024         Starcher, Candice Lynn  Louisville Metro Police Department   \n",
       "8     2024         Ashby, Stephanie Renee                      ES & MetroSafe   \n",
       "9     2024              Salman, Saja Naji                   Metro Corrections   \n",
       "\n",
       "   YTD_Total  Salary_Total  Deviation  Discrepancy_Percent  \n",
       "0  180770.98      66934.40  113836.58               170.07  \n",
       "1  153587.46      60299.20   93288.26               154.71  \n",
       "2  144154.28      62583.60   81570.68               130.34  \n",
       "3  251840.31     114357.73  137482.58               120.22  \n",
       "4  125239.59      58635.20   66604.39               113.59  \n",
       "5  156558.72      74256.00   82302.72               110.84  \n",
       "6  106942.63      50960.00   55982.63               109.86  \n",
       "7   96518.09      46248.36   50269.73               108.70  \n",
       "8  137706.00      66218.31   71487.69               107.96  \n",
       "9  101862.70      50835.20   51027.50               100.38  "
      ]
     },
     "execution_count": 84,
     "metadata": {},
     "output_type": "execute_result"
    }
   ],
   "source": [
    "# Example usage:\n",
    "top_employee_result = top_emp_dev(2024, data)\n",
    "top_employee_result"
   ]
  },
  {
   "cell_type": "code",
   "execution_count": null,
   "metadata": {},
   "outputs": [],
   "source": [
    "# # pre function code\n",
    "\n",
    "# top_employee = data\n",
    "\n",
    "# # Calculate the discrepancy and discrepancy ratio\n",
    "# top_employee['Deviation'] = top_employee['YTD_Total'] - top_employee['Salary_Total']\n",
    "\n",
    "# # Avoid division by zero by setting Discrepancy_Percent to None or 0 if Salary_Total is 0\n",
    "# top_employee['Discrepancy_Percent'] = top_employee.apply(\n",
    "#     lambda row: (row['Deviation'] / row['Salary_Total']) * 100 if row['Salary_Total'] != 0 else None, axis=1\n",
    "# )\n",
    "\n",
    "# # Round the Discrepancy_Percent to 2 decimal places\n",
    "# top_employee['Discrepancy_Percent'] = top_employee['Discrepancy_Percent'].round(2)\n",
    "\n",
    "# # Sort the DataFrame by 'Discrepancy_Percent' in descending order\n",
    "# top_employee = top_employee.sort_values(by='Discrepancy_Percent', ascending=False)\n",
    "\n",
    "# # Keep only the specified columns\n",
    "# top_employee = top_employee[['CalYear', 'Employee_Name', 'Department', \n",
    "#                              'YTD_Total', 'Salary_Total', 'Deviation', \n",
    "#                              'Discrepancy_Percent']]\n",
    "\n",
    "# top_employee.head(10)"
   ]
  },
  {
   "cell_type": "code",
   "execution_count": null,
   "metadata": {},
   "outputs": [],
   "source": [
    "# Discrepancy_Percent has several inf values so we worked around it as the data seems to be missing. \n",
    "\n",
    "# top_employee = data\n",
    "\n",
    "# # Calculate the discrepancy and discrepancy ratio\n",
    "# top_employee['Deviation'] = top_employee['YTD_Total'] - top_employee['Salary_Total']\n",
    "# top_employee['Discrepancy_Percent'] = (top_employee['Deviation'] / top_employee['Salary_Total']) * 100\n",
    "\n",
    "# # Round the Discrepancy_Percent to 2 decimal places\n",
    "# top_employee['Discrepancy_Percent'] = top_employee['Discrepancy_Percent'].round(2)\n",
    "\n",
    "# # Sort the DataFrame by 'Deviation' in descending order\n",
    "# top_employee = top_employee.sort_values(by='Discrepancy_Percent', ascending=False)\n",
    "\n",
    "# # Keep only the specified columns\n",
    "# top_employee = top_employee[['CalYear', 'Employee_Name', 'Department', \n",
    "#                              'YTD_Total', 'Salary_Total', 'Deviation', \n",
    "#                              'Discrepancy_Percent']]\n",
    "\n",
    "# top_employee.head(10)\n"
   ]
  },
  {
   "cell_type": "markdown",
   "metadata": {},
   "source": [
    "# code for 11"
   ]
  },
  {
   "cell_type": "markdown",
   "metadata": {},
   "source": [
    "<pre>\n",
    "+---------------------------------------------------------------------------------------------------------+\n",
    "|+-------------------------------------------------------------------------------------------------------+|\n",
    "||[1. logo] 2. Louisville Metro Government Salary tracker   [3. Department drop down][ 4. year drop down]|| \n",
    "|+-------------------------------------------------------------------------------------------------------+|\n",
    "|+--------+     6. salary spend 8. actual salary spend +-----+     +-------------------------------------+|\n",
    "||5. plot |     7. salary data  9. salary data         |12. %|     |  11. horizontal bar plot department || \n",
    "||        |                                            +-----+     |                                     || \n",
    "|+--------+                                                        |                                     || \n",
    "|                                                                  |                                     || \n",
    "|+---------------------------------------------------------------+ |                                     || \n",
    "|| 10. Top employees salary deviation data frame                 | |                                     || \n",
    "||                                                               | |                                     || \n",
    "||                                                               | |                                     || \n",
    "||                                                               | |                                     || \n",
    "||                                                               | |                                     || \n",
    "||                                                               | |                                     || \n",
    "||                                                               | |                                     || \n",
    "|+---------------------------------------------------------------+ +-------------------------------------+|\n",
    "+---------------------------------------------------------------------------------------------------------+\n",
    "</pre>\n"
   ]
  },
  {
   "cell_type": "code",
   "execution_count": null,
   "metadata": {},
   "outputs": [],
   "source": [
    "def department_discrepancy(year, data):\n",
    "    # Group by 'CalYear' and 'Department', summing 'YTD_Total' and 'Salary_Total'\n",
    "    department = data.groupby(['CalYear', 'Department'])[['YTD_Total', 'Salary_Total']].sum().reset_index()\n",
    "\n",
    "    # Filter the data by the given year\n",
    "    department = department[department['CalYear'] == year]\n",
    "\n",
    "    # Calculate the percentage difference: ((YTD_Total - Salary_Total) / Salary_Total) * 100\n",
    "    department['Discrepancy_Percent'] = ((department['YTD_Total'] - department['Salary_Total']) / department['Salary_Total']) * 100\n",
    "\n",
    "    # Round the Discrepancy_Percent to 2 decimal places\n",
    "    department['Discrepancy_Percent'] = department['Discrepancy_Percent'].round(2)\n",
    "\n",
    "    # Sort the DataFrame by 'Discrepancy_Percent' in ascending order\n",
    "    department = department.sort_values(by='Discrepancy_Percent', ascending=False)\n",
    "\n",
    "    # Format 'YTD_Total' and 'Salary_Total' with thousands separators\n",
    "    department['YTD_Total'] = department['YTD_Total'].apply(lambda x: f\"{x:,.2f}\")\n",
    "    department['Salary_Total'] = department['Salary_Total'].apply(lambda x: f\"{x:,.2f}\")\n",
    "\n",
    "    # Rename columns for final output\n",
    "    department = department.rename(columns={\n",
    "        'YTD_Total': 'Total Salary Spend',\n",
    "        'Salary_Total': 'Salary Budget',\n",
    "        'Discrepancy_Percent': 'Discrepancy Percent'\n",
    "    })\n",
    "\n",
    "    # Return the result\n",
    "    return department\n"
   ]
  },
  {
   "cell_type": "code",
   "execution_count": null,
   "metadata": {},
   "outputs": [
    {
     "data": {
      "text/html": [
       "<div>\n",
       "<style scoped>\n",
       "    .dataframe tbody tr th:only-of-type {\n",
       "        vertical-align: middle;\n",
       "    }\n",
       "\n",
       "    .dataframe tbody tr th {\n",
       "        vertical-align: top;\n",
       "    }\n",
       "\n",
       "    .dataframe thead th {\n",
       "        text-align: right;\n",
       "    }\n",
       "</style>\n",
       "<table border=\"1\" class=\"dataframe\">\n",
       "  <thead>\n",
       "    <tr style=\"text-align: right;\">\n",
       "      <th></th>\n",
       "      <th>CalYear</th>\n",
       "      <th>Department</th>\n",
       "      <th>Total Salary Spend</th>\n",
       "      <th>Salary Budget</th>\n",
       "      <th>Discrepancy Percent</th>\n",
       "    </tr>\n",
       "  </thead>\n",
       "  <tbody>\n",
       "    <tr>\n",
       "      <th>224</th>\n",
       "      <td>2024</td>\n",
       "      <td>Louisville Metro Police Department</td>\n",
       "      <td>123,082,990.73</td>\n",
       "      <td>124,125,361.75</td>\n",
       "      <td>-0.84</td>\n",
       "    </tr>\n",
       "    <tr>\n",
       "      <th>228</th>\n",
       "      <td>2024</td>\n",
       "      <td>Metro Corrections</td>\n",
       "      <td>28,968,309.48</td>\n",
       "      <td>30,877,424.89</td>\n",
       "      <td>-6.18</td>\n",
       "    </tr>\n",
       "    <tr>\n",
       "      <th>213</th>\n",
       "      <td>2024</td>\n",
       "      <td>Emergency Management Services</td>\n",
       "      <td>11,182,592.57</td>\n",
       "      <td>11,960,136.14</td>\n",
       "      <td>-6.50</td>\n",
       "    </tr>\n",
       "    <tr>\n",
       "      <th>211</th>\n",
       "      <td>2024</td>\n",
       "      <td>ES &amp; MetroSafe</td>\n",
       "      <td>11,493,629.77</td>\n",
       "      <td>12,602,656.88</td>\n",
       "      <td>-8.80</td>\n",
       "    </tr>\n",
       "    <tr>\n",
       "      <th>222</th>\n",
       "      <td>2024</td>\n",
       "      <td>Louisville Fire</td>\n",
       "      <td>42,079,902.81</td>\n",
       "      <td>46,479,751.63</td>\n",
       "      <td>-9.47</td>\n",
       "    </tr>\n",
       "    <tr>\n",
       "      <th>250</th>\n",
       "      <td>2024</td>\n",
       "      <td>Youth Transitional Services</td>\n",
       "      <td>1,464,017.29</td>\n",
       "      <td>1,663,070.33</td>\n",
       "      <td>-11.97</td>\n",
       "    </tr>\n",
       "    <tr>\n",
       "      <th>209</th>\n",
       "      <td>2024</td>\n",
       "      <td>Criminal Justice Commission</td>\n",
       "      <td>308,243.95</td>\n",
       "      <td>354,505.99</td>\n",
       "      <td>-13.05</td>\n",
       "    </tr>\n",
       "    <tr>\n",
       "      <th>238</th>\n",
       "      <td>2024</td>\n",
       "      <td>Office of Philanthropy</td>\n",
       "      <td>319,561.43</td>\n",
       "      <td>367,525.45</td>\n",
       "      <td>-13.05</td>\n",
       "    </tr>\n",
       "    <tr>\n",
       "      <th>243</th>\n",
       "      <td>2024</td>\n",
       "      <td>Parking Authority of River City - PARC</td>\n",
       "      <td>1,897,249.91</td>\n",
       "      <td>2,247,607.26</td>\n",
       "      <td>-15.59</td>\n",
       "    </tr>\n",
       "    <tr>\n",
       "      <th>247</th>\n",
       "      <td>2024</td>\n",
       "      <td>Records Compliance</td>\n",
       "      <td>918,726.62</td>\n",
       "      <td>1,127,444.44</td>\n",
       "      <td>-18.51</td>\n",
       "    </tr>\n",
       "    <tr>\n",
       "      <th>249</th>\n",
       "      <td>2024</td>\n",
       "      <td>Waterfront Development Corporation</td>\n",
       "      <td>1,061,886.43</td>\n",
       "      <td>1,310,471.20</td>\n",
       "      <td>-18.97</td>\n",
       "    </tr>\n",
       "    <tr>\n",
       "      <th>230</th>\n",
       "      <td>2024</td>\n",
       "      <td>Metro TV</td>\n",
       "      <td>359,634.21</td>\n",
       "      <td>443,865.14</td>\n",
       "      <td>-18.98</td>\n",
       "    </tr>\n",
       "    <tr>\n",
       "      <th>231</th>\n",
       "      <td>2024</td>\n",
       "      <td>Metro Technology Services</td>\n",
       "      <td>5,678,871.30</td>\n",
       "      <td>7,215,970.83</td>\n",
       "      <td>-21.30</td>\n",
       "    </tr>\n",
       "    <tr>\n",
       "      <th>246</th>\n",
       "      <td>2024</td>\n",
       "      <td>Public Works &amp; Assets</td>\n",
       "      <td>23,392,973.62</td>\n",
       "      <td>30,076,771.79</td>\n",
       "      <td>-22.22</td>\n",
       "    </tr>\n",
       "    <tr>\n",
       "      <th>221</th>\n",
       "      <td>2024</td>\n",
       "      <td>KentuckianaWorks</td>\n",
       "      <td>1,662,140.93</td>\n",
       "      <td>2,141,731.91</td>\n",
       "      <td>-22.39</td>\n",
       "    </tr>\n",
       "    <tr>\n",
       "      <th>229</th>\n",
       "      <td>2024</td>\n",
       "      <td>Metro Council</td>\n",
       "      <td>4,123,241.14</td>\n",
       "      <td>5,340,057.21</td>\n",
       "      <td>-22.79</td>\n",
       "    </tr>\n",
       "    <tr>\n",
       "      <th>207</th>\n",
       "      <td>2024</td>\n",
       "      <td>Codes &amp; Regulations</td>\n",
       "      <td>9,634,189.42</td>\n",
       "      <td>12,675,094.58</td>\n",
       "      <td>-23.99</td>\n",
       "    </tr>\n",
       "    <tr>\n",
       "      <th>220</th>\n",
       "      <td>2024</td>\n",
       "      <td>Jefferson County Coroner</td>\n",
       "      <td>1,073,317.90</td>\n",
       "      <td>1,412,387.46</td>\n",
       "      <td>-24.01</td>\n",
       "    </tr>\n",
       "    <tr>\n",
       "      <th>217</th>\n",
       "      <td>2024</td>\n",
       "      <td>Human Resources</td>\n",
       "      <td>3,131,282.27</td>\n",
       "      <td>4,120,985.22</td>\n",
       "      <td>-24.02</td>\n",
       "    </tr>\n",
       "    <tr>\n",
       "      <th>214</th>\n",
       "      <td>2024</td>\n",
       "      <td>Facilities and Fleet Management</td>\n",
       "      <td>8,110,525.26</td>\n",
       "      <td>10,837,291.67</td>\n",
       "      <td>-25.16</td>\n",
       "    </tr>\n",
       "    <tr>\n",
       "      <th>204</th>\n",
       "      <td>2024</td>\n",
       "      <td>Alcohol Beverage Control</td>\n",
       "      <td>822,520.76</td>\n",
       "      <td>1,110,628.79</td>\n",
       "      <td>-25.94</td>\n",
       "    </tr>\n",
       "    <tr>\n",
       "      <th>248</th>\n",
       "      <td>2024</td>\n",
       "      <td>Revenue Commission</td>\n",
       "      <td>2,563,588.74</td>\n",
       "      <td>3,467,847.78</td>\n",
       "      <td>-26.08</td>\n",
       "    </tr>\n",
       "    <tr>\n",
       "      <th>219</th>\n",
       "      <td>2024</td>\n",
       "      <td>Jefferson County Attorney</td>\n",
       "      <td>7,440,071.56</td>\n",
       "      <td>10,090,837.64</td>\n",
       "      <td>-26.27</td>\n",
       "    </tr>\n",
       "    <tr>\n",
       "      <th>203</th>\n",
       "      <td>2024</td>\n",
       "      <td>APCD</td>\n",
       "      <td>2,873,438.39</td>\n",
       "      <td>3,914,573.99</td>\n",
       "      <td>-26.60</td>\n",
       "    </tr>\n",
       "    <tr>\n",
       "      <th>235</th>\n",
       "      <td>2024</td>\n",
       "      <td>Office of Housing &amp; Community Development</td>\n",
       "      <td>2,793,918.90</td>\n",
       "      <td>3,826,005.79</td>\n",
       "      <td>-26.98</td>\n",
       "    </tr>\n",
       "    <tr>\n",
       "      <th>233</th>\n",
       "      <td>2024</td>\n",
       "      <td>Office for Safe &amp; Healthy Neighborhoods</td>\n",
       "      <td>2,546,807.02</td>\n",
       "      <td>3,508,399.48</td>\n",
       "      <td>-27.41</td>\n",
       "    </tr>\n",
       "    <tr>\n",
       "      <th>223</th>\n",
       "      <td>2024</td>\n",
       "      <td>Louisville Free Public Library</td>\n",
       "      <td>11,000,415.63</td>\n",
       "      <td>15,225,173.28</td>\n",
       "      <td>-27.75</td>\n",
       "    </tr>\n",
       "    <tr>\n",
       "      <th>240</th>\n",
       "      <td>2024</td>\n",
       "      <td>Office of Resilience and Community Services</td>\n",
       "      <td>6,003,560.27</td>\n",
       "      <td>8,475,172.48</td>\n",
       "      <td>-29.16</td>\n",
       "    </tr>\n",
       "    <tr>\n",
       "      <th>245</th>\n",
       "      <td>2024</td>\n",
       "      <td>Public Health &amp; Wellness</td>\n",
       "      <td>12,278,587.39</td>\n",
       "      <td>17,378,107.87</td>\n",
       "      <td>-29.34</td>\n",
       "    </tr>\n",
       "    <tr>\n",
       "      <th>212</th>\n",
       "      <td>2024</td>\n",
       "      <td>Economic Development</td>\n",
       "      <td>1,662,173.14</td>\n",
       "      <td>2,361,940.31</td>\n",
       "      <td>-29.63</td>\n",
       "    </tr>\n",
       "    <tr>\n",
       "      <th>206</th>\n",
       "      <td>2024</td>\n",
       "      <td>Brightside</td>\n",
       "      <td>242,626.75</td>\n",
       "      <td>356,710.05</td>\n",
       "      <td>-31.98</td>\n",
       "    </tr>\n",
       "    <tr>\n",
       "      <th>239</th>\n",
       "      <td>2024</td>\n",
       "      <td>Office of Planning</td>\n",
       "      <td>2,375,389.81</td>\n",
       "      <td>3,507,804.77</td>\n",
       "      <td>-32.28</td>\n",
       "    </tr>\n",
       "    <tr>\n",
       "      <th>215</th>\n",
       "      <td>2024</td>\n",
       "      <td>Group Violence Intervention</td>\n",
       "      <td>215,421.97</td>\n",
       "      <td>318,990.13</td>\n",
       "      <td>-32.47</td>\n",
       "    </tr>\n",
       "    <tr>\n",
       "      <th>216</th>\n",
       "      <td>2024</td>\n",
       "      <td>Human Relations Commission</td>\n",
       "      <td>718,816.17</td>\n",
       "      <td>1,074,330.58</td>\n",
       "      <td>-33.09</td>\n",
       "    </tr>\n",
       "    <tr>\n",
       "      <th>232</th>\n",
       "      <td>2024</td>\n",
       "      <td>OMB Finance</td>\n",
       "      <td>7,815,061.42</td>\n",
       "      <td>11,746,208.22</td>\n",
       "      <td>-33.47</td>\n",
       "    </tr>\n",
       "    <tr>\n",
       "      <th>226</th>\n",
       "      <td>2024</td>\n",
       "      <td>Mayor Office</td>\n",
       "      <td>2,593,776.83</td>\n",
       "      <td>3,923,969.45</td>\n",
       "      <td>-33.90</td>\n",
       "    </tr>\n",
       "    <tr>\n",
       "      <th>237</th>\n",
       "      <td>2024</td>\n",
       "      <td>Office of Internal Audit</td>\n",
       "      <td>492,197.92</td>\n",
       "      <td>749,810.30</td>\n",
       "      <td>-34.36</td>\n",
       "    </tr>\n",
       "    <tr>\n",
       "      <th>227</th>\n",
       "      <td>2024</td>\n",
       "      <td>Metro Animal Services</td>\n",
       "      <td>2,549,091.88</td>\n",
       "      <td>3,983,228.45</td>\n",
       "      <td>-36.00</td>\n",
       "    </tr>\n",
       "    <tr>\n",
       "      <th>225</th>\n",
       "      <td>2024</td>\n",
       "      <td>Louisville Zoo</td>\n",
       "      <td>7,465,953.17</td>\n",
       "      <td>12,307,686.43</td>\n",
       "      <td>-39.34</td>\n",
       "    </tr>\n",
       "    <tr>\n",
       "      <th>234</th>\n",
       "      <td>2024</td>\n",
       "      <td>Office of Equity</td>\n",
       "      <td>458,662.00</td>\n",
       "      <td>756,319.02</td>\n",
       "      <td>-39.36</td>\n",
       "    </tr>\n",
       "    <tr>\n",
       "      <th>244</th>\n",
       "      <td>2024</td>\n",
       "      <td>Parks &amp; Recreation</td>\n",
       "      <td>14,208,676.43</td>\n",
       "      <td>24,915,358.17</td>\n",
       "      <td>-42.97</td>\n",
       "    </tr>\n",
       "    <tr>\n",
       "      <th>208</th>\n",
       "      <td>2024</td>\n",
       "      <td>Commonwealth Attorney</td>\n",
       "      <td>1,151,263.74</td>\n",
       "      <td>2,050,928.10</td>\n",
       "      <td>-43.87</td>\n",
       "    </tr>\n",
       "    <tr>\n",
       "      <th>241</th>\n",
       "      <td>2024</td>\n",
       "      <td>Office of Sustainability</td>\n",
       "      <td>284,970.07</td>\n",
       "      <td>508,572.07</td>\n",
       "      <td>-43.97</td>\n",
       "    </tr>\n",
       "    <tr>\n",
       "      <th>205</th>\n",
       "      <td>2024</td>\n",
       "      <td>Belle of Louisville</td>\n",
       "      <td>1,883,060.54</td>\n",
       "      <td>4,158,929.43</td>\n",
       "      <td>-54.72</td>\n",
       "    </tr>\n",
       "    <tr>\n",
       "      <th>236</th>\n",
       "      <td>2024</td>\n",
       "      <td>Office of Inspector General</td>\n",
       "      <td>548,398.73</td>\n",
       "      <td>1,462,545.87</td>\n",
       "      <td>-62.50</td>\n",
       "    </tr>\n",
       "    <tr>\n",
       "      <th>242</th>\n",
       "      <td>2024</td>\n",
       "      <td>Other Statutory Obligations</td>\n",
       "      <td>131,007.15</td>\n",
       "      <td>1,871,474.40</td>\n",
       "      <td>-93.00</td>\n",
       "    </tr>\n",
       "    <tr>\n",
       "      <th>210</th>\n",
       "      <td>2024</td>\n",
       "      <td>Develop Louisville</td>\n",
       "      <td>0.00</td>\n",
       "      <td>115,814.40</td>\n",
       "      <td>-100.00</td>\n",
       "    </tr>\n",
       "    <tr>\n",
       "      <th>218</th>\n",
       "      <td>2024</td>\n",
       "      <td>Insurance &amp; Risk Management</td>\n",
       "      <td>0.00</td>\n",
       "      <td>151,840.00</td>\n",
       "      <td>-100.00</td>\n",
       "    </tr>\n",
       "  </tbody>\n",
       "</table>\n",
       "</div>"
      ],
      "text/plain": [
       "     CalYear                                   Department Total Salary Spend  \\\n",
       "224     2024           Louisville Metro Police Department     123,082,990.73   \n",
       "228     2024                            Metro Corrections      28,968,309.48   \n",
       "213     2024                Emergency Management Services      11,182,592.57   \n",
       "211     2024                               ES & MetroSafe      11,493,629.77   \n",
       "222     2024                              Louisville Fire      42,079,902.81   \n",
       "250     2024                  Youth Transitional Services       1,464,017.29   \n",
       "209     2024                  Criminal Justice Commission         308,243.95   \n",
       "238     2024                       Office of Philanthropy         319,561.43   \n",
       "243     2024       Parking Authority of River City - PARC       1,897,249.91   \n",
       "247     2024                           Records Compliance         918,726.62   \n",
       "249     2024           Waterfront Development Corporation       1,061,886.43   \n",
       "230     2024                                     Metro TV         359,634.21   \n",
       "231     2024                    Metro Technology Services       5,678,871.30   \n",
       "246     2024                        Public Works & Assets      23,392,973.62   \n",
       "221     2024                             KentuckianaWorks       1,662,140.93   \n",
       "229     2024                                Metro Council       4,123,241.14   \n",
       "207     2024                          Codes & Regulations       9,634,189.42   \n",
       "220     2024                     Jefferson County Coroner       1,073,317.90   \n",
       "217     2024                              Human Resources       3,131,282.27   \n",
       "214     2024              Facilities and Fleet Management       8,110,525.26   \n",
       "204     2024                     Alcohol Beverage Control         822,520.76   \n",
       "248     2024                           Revenue Commission       2,563,588.74   \n",
       "219     2024                    Jefferson County Attorney       7,440,071.56   \n",
       "203     2024                                         APCD       2,873,438.39   \n",
       "235     2024    Office of Housing & Community Development       2,793,918.90   \n",
       "233     2024      Office for Safe & Healthy Neighborhoods       2,546,807.02   \n",
       "223     2024               Louisville Free Public Library      11,000,415.63   \n",
       "240     2024  Office of Resilience and Community Services       6,003,560.27   \n",
       "245     2024                     Public Health & Wellness      12,278,587.39   \n",
       "212     2024                         Economic Development       1,662,173.14   \n",
       "206     2024                                   Brightside         242,626.75   \n",
       "239     2024                           Office of Planning       2,375,389.81   \n",
       "215     2024                  Group Violence Intervention         215,421.97   \n",
       "216     2024                   Human Relations Commission         718,816.17   \n",
       "232     2024                                  OMB Finance       7,815,061.42   \n",
       "226     2024                                 Mayor Office       2,593,776.83   \n",
       "237     2024                     Office of Internal Audit         492,197.92   \n",
       "227     2024                        Metro Animal Services       2,549,091.88   \n",
       "225     2024                               Louisville Zoo       7,465,953.17   \n",
       "234     2024                             Office of Equity         458,662.00   \n",
       "244     2024                           Parks & Recreation      14,208,676.43   \n",
       "208     2024                        Commonwealth Attorney       1,151,263.74   \n",
       "241     2024                     Office of Sustainability         284,970.07   \n",
       "205     2024                          Belle of Louisville       1,883,060.54   \n",
       "236     2024                  Office of Inspector General         548,398.73   \n",
       "242     2024                  Other Statutory Obligations         131,007.15   \n",
       "210     2024                           Develop Louisville               0.00   \n",
       "218     2024                  Insurance & Risk Management               0.00   \n",
       "\n",
       "      Salary Budget  Discrepancy Percent  \n",
       "224  124,125,361.75                -0.84  \n",
       "228   30,877,424.89                -6.18  \n",
       "213   11,960,136.14                -6.50  \n",
       "211   12,602,656.88                -8.80  \n",
       "222   46,479,751.63                -9.47  \n",
       "250    1,663,070.33               -11.97  \n",
       "209      354,505.99               -13.05  \n",
       "238      367,525.45               -13.05  \n",
       "243    2,247,607.26               -15.59  \n",
       "247    1,127,444.44               -18.51  \n",
       "249    1,310,471.20               -18.97  \n",
       "230      443,865.14               -18.98  \n",
       "231    7,215,970.83               -21.30  \n",
       "246   30,076,771.79               -22.22  \n",
       "221    2,141,731.91               -22.39  \n",
       "229    5,340,057.21               -22.79  \n",
       "207   12,675,094.58               -23.99  \n",
       "220    1,412,387.46               -24.01  \n",
       "217    4,120,985.22               -24.02  \n",
       "214   10,837,291.67               -25.16  \n",
       "204    1,110,628.79               -25.94  \n",
       "248    3,467,847.78               -26.08  \n",
       "219   10,090,837.64               -26.27  \n",
       "203    3,914,573.99               -26.60  \n",
       "235    3,826,005.79               -26.98  \n",
       "233    3,508,399.48               -27.41  \n",
       "223   15,225,173.28               -27.75  \n",
       "240    8,475,172.48               -29.16  \n",
       "245   17,378,107.87               -29.34  \n",
       "212    2,361,940.31               -29.63  \n",
       "206      356,710.05               -31.98  \n",
       "239    3,507,804.77               -32.28  \n",
       "215      318,990.13               -32.47  \n",
       "216    1,074,330.58               -33.09  \n",
       "232   11,746,208.22               -33.47  \n",
       "226    3,923,969.45               -33.90  \n",
       "237      749,810.30               -34.36  \n",
       "227    3,983,228.45               -36.00  \n",
       "225   12,307,686.43               -39.34  \n",
       "234      756,319.02               -39.36  \n",
       "244   24,915,358.17               -42.97  \n",
       "208    2,050,928.10               -43.87  \n",
       "241      508,572.07               -43.97  \n",
       "205    4,158,929.43               -54.72  \n",
       "236    1,462,545.87               -62.50  \n",
       "242    1,871,474.40               -93.00  \n",
       "210      115,814.40              -100.00  \n",
       "218      151,840.00              -100.00  "
      ]
     },
     "execution_count": 106,
     "metadata": {},
     "output_type": "execute_result"
    }
   ],
   "source": [
    "# Example usage:\n",
    "department_result = department_discrepancy(2024, data)\n",
    "department_result"
   ]
  },
  {
   "cell_type": "code",
   "execution_count": null,
   "metadata": {},
   "outputs": [
    {
     "data": {
      "text/html": [
       "<div>\n",
       "<style scoped>\n",
       "    .dataframe tbody tr th:only-of-type {\n",
       "        vertical-align: middle;\n",
       "    }\n",
       "\n",
       "    .dataframe tbody tr th {\n",
       "        vertical-align: top;\n",
       "    }\n",
       "\n",
       "    .dataframe thead th {\n",
       "        text-align: right;\n",
       "    }\n",
       "</style>\n",
       "<table border=\"1\" class=\"dataframe\">\n",
       "  <thead>\n",
       "    <tr style=\"text-align: right;\">\n",
       "      <th></th>\n",
       "      <th>CalYear</th>\n",
       "      <th>Department</th>\n",
       "      <th>YTD_Total</th>\n",
       "      <th>Salary_Total</th>\n",
       "      <th>Discrepancy_Percent</th>\n",
       "    </tr>\n",
       "  </thead>\n",
       "  <tbody>\n",
       "    <tr>\n",
       "      <th>121</th>\n",
       "      <td>2022</td>\n",
       "      <td>Emergency Management Services</td>\n",
       "      <td>12794627.89</td>\n",
       "      <td>9202487.66</td>\n",
       "      <td>39.03</td>\n",
       "    </tr>\n",
       "    <tr>\n",
       "      <th>134</th>\n",
       "      <td>2022</td>\n",
       "      <td>Metro Corrections</td>\n",
       "      <td>31309541.30</td>\n",
       "      <td>25990024.03</td>\n",
       "      <td>20.47</td>\n",
       "    </tr>\n",
       "    <tr>\n",
       "      <th>45</th>\n",
       "      <td>2020</td>\n",
       "      <td>Emergency Mgt Agency/MetroSafe</td>\n",
       "      <td>11929775.61</td>\n",
       "      <td>9909600.92</td>\n",
       "      <td>20.39</td>\n",
       "    </tr>\n",
       "    <tr>\n",
       "      <th>55</th>\n",
       "      <td>2020</td>\n",
       "      <td>Louisville Metro EMS</td>\n",
       "      <td>12927855.91</td>\n",
       "      <td>10843419.00</td>\n",
       "      <td>19.22</td>\n",
       "    </tr>\n",
       "    <tr>\n",
       "      <th>119</th>\n",
       "      <td>2022</td>\n",
       "      <td>ES &amp; MetroSafe</td>\n",
       "      <td>13317575.13</td>\n",
       "      <td>11293792.49</td>\n",
       "      <td>17.92</td>\n",
       "    </tr>\n",
       "    <tr>\n",
       "      <th>...</th>\n",
       "      <td>...</td>\n",
       "      <td>...</td>\n",
       "      <td>...</td>\n",
       "      <td>...</td>\n",
       "      <td>...</td>\n",
       "    </tr>\n",
       "    <tr>\n",
       "      <th>100</th>\n",
       "      <td>2021</td>\n",
       "      <td>Office of Inspector General</td>\n",
       "      <td>13984.74</td>\n",
       "      <td>170801.80</td>\n",
       "      <td>-91.81</td>\n",
       "    </tr>\n",
       "    <tr>\n",
       "      <th>242</th>\n",
       "      <td>2024</td>\n",
       "      <td>Other Statutory Obligations</td>\n",
       "      <td>131007.15</td>\n",
       "      <td>1871474.40</td>\n",
       "      <td>-93.00</td>\n",
       "    </tr>\n",
       "    <tr>\n",
       "      <th>218</th>\n",
       "      <td>2024</td>\n",
       "      <td>Insurance &amp; Risk Management</td>\n",
       "      <td>0.00</td>\n",
       "      <td>151840.00</td>\n",
       "      <td>-100.00</td>\n",
       "    </tr>\n",
       "    <tr>\n",
       "      <th>210</th>\n",
       "      <td>2024</td>\n",
       "      <td>Develop Louisville</td>\n",
       "      <td>0.00</td>\n",
       "      <td>115814.40</td>\n",
       "      <td>-100.00</td>\n",
       "    </tr>\n",
       "    <tr>\n",
       "      <th>154</th>\n",
       "      <td>2023</td>\n",
       "      <td>0</td>\n",
       "      <td>0.00</td>\n",
       "      <td>0.00</td>\n",
       "      <td>NaN</td>\n",
       "    </tr>\n",
       "  </tbody>\n",
       "</table>\n",
       "<p>251 rows × 5 columns</p>\n",
       "</div>"
      ],
      "text/plain": [
       "     CalYear                      Department    YTD_Total  Salary_Total  \\\n",
       "121     2022   Emergency Management Services  12794627.89    9202487.66   \n",
       "134     2022               Metro Corrections  31309541.30   25990024.03   \n",
       "45      2020  Emergency Mgt Agency/MetroSafe  11929775.61    9909600.92   \n",
       "55      2020            Louisville Metro EMS  12927855.91   10843419.00   \n",
       "119     2022                  ES & MetroSafe  13317575.13   11293792.49   \n",
       "..       ...                             ...          ...           ...   \n",
       "100     2021     Office of Inspector General     13984.74     170801.80   \n",
       "242     2024     Other Statutory Obligations    131007.15    1871474.40   \n",
       "218     2024     Insurance & Risk Management         0.00     151840.00   \n",
       "210     2024              Develop Louisville         0.00     115814.40   \n",
       "154     2023                               0         0.00          0.00   \n",
       "\n",
       "     Discrepancy_Percent  \n",
       "121                39.03  \n",
       "134                20.47  \n",
       "45                 20.39  \n",
       "55                 19.22  \n",
       "119                17.92  \n",
       "..                   ...  \n",
       "100               -91.81  \n",
       "242               -93.00  \n",
       "218              -100.00  \n",
       "210              -100.00  \n",
       "154                  NaN  \n",
       "\n",
       "[251 rows x 5 columns]"
      ]
     },
     "execution_count": 91,
     "metadata": {},
     "output_type": "execute_result"
    }
   ],
   "source": [
    "# Group by 'CalYear' and 'Department', summing 'YTD_Total' and 'Salary_Total'\n",
    "department = data.groupby(['CalYear', 'Department'])[['YTD_Total', 'Salary_Total']].sum().reset_index()\n",
    "\n",
    "# Calculate the percentage difference: ((YTD_Total - Salary_Total) / Salary_Total) * 100\n",
    "department['Discrepancy_Percent'] = ((department['YTD_Total'] - department['Salary_Total']) / department['Salary_Total']) * 100\n",
    "\n",
    "# Round the Discrepancy_Percent to 2 decimal places\n",
    "department['Discrepancy_Percent'] = department['Discrepancy_Percent'].round(2)\n",
    "\n",
    "# Sort the DataFrame by 'Discrepancy_Percent' in ascending order\n",
    "department = department.sort_values(by='Discrepancy_Percent', ascending=False)\n",
    "\n",
    "# Display the result\n",
    "department\n"
   ]
  },
  {
   "cell_type": "markdown",
   "metadata": {},
   "source": [
    "# Whole department views"
   ]
  },
  {
   "cell_type": "code",
   "execution_count": null,
   "metadata": {},
   "outputs": [],
   "source": [
    "department = data.groupby(['CalYear', 'Department'])[['YTD_Total', 'Salary_Total']].sum().reset_index()"
   ]
  },
  {
   "cell_type": "code",
   "execution_count": null,
   "metadata": {},
   "outputs": [
    {
     "data": {
      "text/html": [
       "<div>\n",
       "<style scoped>\n",
       "    .dataframe tbody tr th:only-of-type {\n",
       "        vertical-align: middle;\n",
       "    }\n",
       "\n",
       "    .dataframe tbody tr th {\n",
       "        vertical-align: top;\n",
       "    }\n",
       "\n",
       "    .dataframe thead th {\n",
       "        text-align: right;\n",
       "    }\n",
       "</style>\n",
       "<table border=\"1\" class=\"dataframe\">\n",
       "  <thead>\n",
       "    <tr style=\"text-align: right;\">\n",
       "      <th></th>\n",
       "      <th>CalYear</th>\n",
       "      <th>Department</th>\n",
       "      <th>YTD_Total</th>\n",
       "      <th>Salary_Total</th>\n",
       "    </tr>\n",
       "  </thead>\n",
       "  <tbody>\n",
       "    <tr>\n",
       "      <th>0</th>\n",
       "      <td>2019</td>\n",
       "      <td>Air Pollution Control</td>\n",
       "      <td>3161000.01</td>\n",
       "      <td>3357059.36</td>\n",
       "    </tr>\n",
       "    <tr>\n",
       "      <th>1</th>\n",
       "      <td>2019</td>\n",
       "      <td>Belle of Louisville</td>\n",
       "      <td>1288272.26</td>\n",
       "      <td>2255142.24</td>\n",
       "    </tr>\n",
       "    <tr>\n",
       "      <th>2</th>\n",
       "      <td>2019</td>\n",
       "      <td>Commonwealth Attorney</td>\n",
       "      <td>1076553.31</td>\n",
       "      <td>1254064.50</td>\n",
       "    </tr>\n",
       "    <tr>\n",
       "      <th>3</th>\n",
       "      <td>2019</td>\n",
       "      <td>Coroner</td>\n",
       "      <td>883494.80</td>\n",
       "      <td>1006419.20</td>\n",
       "    </tr>\n",
       "    <tr>\n",
       "      <th>4</th>\n",
       "      <td>2019</td>\n",
       "      <td>County Attorney</td>\n",
       "      <td>5253504.81</td>\n",
       "      <td>6583707.28</td>\n",
       "    </tr>\n",
       "  </tbody>\n",
       "</table>\n",
       "</div>"
      ],
      "text/plain": [
       "   CalYear             Department   YTD_Total  Salary_Total\n",
       "0     2019  Air Pollution Control  3161000.01    3357059.36\n",
       "1     2019    Belle of Louisville  1288272.26    2255142.24\n",
       "2     2019  Commonwealth Attorney  1076553.31    1254064.50\n",
       "3     2019                Coroner   883494.80    1006419.20\n",
       "4     2019        County Attorney  5253504.81    6583707.28"
      ]
     },
     "execution_count": 77,
     "metadata": {},
     "output_type": "execute_result"
    }
   ],
   "source": [
    "department.head()"
   ]
  },
  {
   "cell_type": "markdown",
   "metadata": {},
   "source": [
    "# Individual Department Views"
   ]
  },
  {
   "cell_type": "markdown",
   "metadata": {},
   "source": [
    "<pre>\n",
    "+---------------------------------------------------------------------------------------------------------+\n",
    "|+-------------------------------------------------------------------------------------------------------+|\n",
    "||[1. logo] 2. Louisville Metro Government Salary tracker   [3. Department drop down][ 4. year drop down]|| \n",
    "|+-------------------------------------------------------------------------------------------------------+|\n",
    "|+--------+     6. salary spend 8. actual salary spend +-----+     +-------------------------------------+|\n",
    "||5. plot |     7. salary data  9. salary data         |12. %|     |  11. horizontal bar plot department || \n",
    "||        |                                            +-----+     |                                     || \n",
    "|+--------+                                                        |                                     || \n",
    "|                                                                  |                                     || \n",
    "|+---------------------------------------------------------------+ |                                     || \n",
    "|| 10. Top employees salary deviation data frame                 | |                                     || \n",
    "||                                                               | |                                     || \n",
    "||                                                               | |                                     || \n",
    "||                                                               | |                                     || \n",
    "||                                                               | |                                     || \n",
    "||                                                               | |                                     || \n",
    "||                                                               | |                                     || \n",
    "|+---------------------------------------------------------------+ +-------------------------------------+|\n",
    "+---------------------------------------------------------------------------------------------------------+\n",
    "</pre>\n"
   ]
  },
  {
   "cell_type": "code",
   "execution_count": null,
   "metadata": {},
   "outputs": [
    {
     "data": {
      "text/html": [
       "<div>\n",
       "<style scoped>\n",
       "    .dataframe tbody tr th:only-of-type {\n",
       "        vertical-align: middle;\n",
       "    }\n",
       "\n",
       "    .dataframe tbody tr th {\n",
       "        vertical-align: top;\n",
       "    }\n",
       "\n",
       "    .dataframe thead th {\n",
       "        text-align: right;\n",
       "    }\n",
       "</style>\n",
       "<table border=\"1\" class=\"dataframe\">\n",
       "  <thead>\n",
       "    <tr style=\"text-align: right;\">\n",
       "      <th></th>\n",
       "      <th>CalYear</th>\n",
       "      <th>Department</th>\n",
       "      <th>YTD_Total</th>\n",
       "      <th>Salary_Total</th>\n",
       "    </tr>\n",
       "  </thead>\n",
       "  <tbody>\n",
       "    <tr>\n",
       "      <th>19</th>\n",
       "      <td>2019</td>\n",
       "      <td>Louisville Metro Police Department</td>\n",
       "      <td>1.022160e+08</td>\n",
       "      <td>9.862518e+07</td>\n",
       "    </tr>\n",
       "    <tr>\n",
       "      <th>56</th>\n",
       "      <td>2020</td>\n",
       "      <td>Louisville Metro Police Department</td>\n",
       "      <td>1.061527e+08</td>\n",
       "      <td>1.040606e+08</td>\n",
       "    </tr>\n",
       "    <tr>\n",
       "      <th>93</th>\n",
       "      <td>2021</td>\n",
       "      <td>Louisville Metro Police Department</td>\n",
       "      <td>1.033841e+08</td>\n",
       "      <td>1.020937e+08</td>\n",
       "    </tr>\n",
       "    <tr>\n",
       "      <th>130</th>\n",
       "      <td>2022</td>\n",
       "      <td>Louisville Metro Police Department</td>\n",
       "      <td>1.224085e+08</td>\n",
       "      <td>1.051902e+08</td>\n",
       "    </tr>\n",
       "    <tr>\n",
       "      <th>175</th>\n",
       "      <td>2023</td>\n",
       "      <td>Louisville Metro Police Department</td>\n",
       "      <td>1.223053e+08</td>\n",
       "      <td>1.182766e+08</td>\n",
       "    </tr>\n",
       "  </tbody>\n",
       "</table>\n",
       "</div>"
      ],
      "text/plain": [
       "     CalYear                          Department     YTD_Total  Salary_Total\n",
       "19      2019  Louisville Metro Police Department  1.022160e+08  9.862518e+07\n",
       "56      2020  Louisville Metro Police Department  1.061527e+08  1.040606e+08\n",
       "93      2021  Louisville Metro Police Department  1.033841e+08  1.020937e+08\n",
       "130     2022  Louisville Metro Police Department  1.224085e+08  1.051902e+08\n",
       "175     2023  Louisville Metro Police Department  1.223053e+08  1.182766e+08"
      ]
     },
     "execution_count": 78,
     "metadata": {},
     "output_type": "execute_result"
    }
   ],
   "source": [
    "lmpd = department[department['Department'] == 'Louisville Metro Police Department'].copy()\n",
    "lmpd = lmpd[lmpd['CalYear'] != 2024].copy()\n",
    "lmpd"
   ]
  },
  {
   "cell_type": "code",
   "execution_count": null,
   "metadata": {},
   "outputs": [
    {
     "name": "stdout",
     "output_type": "stream",
     "text": [
      "<class 'pandas.core.frame.DataFrame'>\n",
      "Index: 5 entries, 19 to 175\n",
      "Data columns (total 4 columns):\n",
      " #   Column        Non-Null Count  Dtype  \n",
      "---  ------        --------------  -----  \n",
      " 0   CalYear       5 non-null      int64  \n",
      " 1   Department    5 non-null      object \n",
      " 2   YTD_Total     5 non-null      float64\n",
      " 3   Salary_Total  5 non-null      float64\n",
      "dtypes: float64(2), int64(1), object(1)\n",
      "memory usage: 200.0+ bytes\n"
     ]
    }
   ],
   "source": [
    "lmpd.info()"
   ]
  },
  {
   "cell_type": "code",
   "execution_count": null,
   "metadata": {},
   "outputs": [
    {
     "data": {
      "text/html": [
       "<div>\n",
       "<style scoped>\n",
       "    .dataframe tbody tr th:only-of-type {\n",
       "        vertical-align: middle;\n",
       "    }\n",
       "\n",
       "    .dataframe tbody tr th {\n",
       "        vertical-align: top;\n",
       "    }\n",
       "\n",
       "    .dataframe thead th {\n",
       "        text-align: right;\n",
       "    }\n",
       "</style>\n",
       "<table border=\"1\" class=\"dataframe\">\n",
       "  <thead>\n",
       "    <tr style=\"text-align: right;\">\n",
       "      <th></th>\n",
       "      <th>CalYear</th>\n",
       "      <th>Department</th>\n",
       "      <th>YTD_Total</th>\n",
       "      <th>Salary_Total</th>\n",
       "      <th>Discrepancy</th>\n",
       "      <th>Discrepancy_Ratio</th>\n",
       "    </tr>\n",
       "  </thead>\n",
       "  <tbody>\n",
       "    <tr>\n",
       "      <th>19</th>\n",
       "      <td>2019</td>\n",
       "      <td>Louisville Metro Police Department</td>\n",
       "      <td>1.022160e+08</td>\n",
       "      <td>9.862518e+07</td>\n",
       "      <td>3590832.44</td>\n",
       "      <td>0.036409</td>\n",
       "    </tr>\n",
       "    <tr>\n",
       "      <th>56</th>\n",
       "      <td>2020</td>\n",
       "      <td>Louisville Metro Police Department</td>\n",
       "      <td>1.061527e+08</td>\n",
       "      <td>1.040606e+08</td>\n",
       "      <td>2092070.71</td>\n",
       "      <td>0.020104</td>\n",
       "    </tr>\n",
       "    <tr>\n",
       "      <th>93</th>\n",
       "      <td>2021</td>\n",
       "      <td>Louisville Metro Police Department</td>\n",
       "      <td>1.033841e+08</td>\n",
       "      <td>1.020937e+08</td>\n",
       "      <td>1290365.61</td>\n",
       "      <td>0.012639</td>\n",
       "    </tr>\n",
       "    <tr>\n",
       "      <th>130</th>\n",
       "      <td>2022</td>\n",
       "      <td>Louisville Metro Police Department</td>\n",
       "      <td>1.224085e+08</td>\n",
       "      <td>1.051902e+08</td>\n",
       "      <td>17218319.86</td>\n",
       "      <td>0.163687</td>\n",
       "    </tr>\n",
       "    <tr>\n",
       "      <th>175</th>\n",
       "      <td>2023</td>\n",
       "      <td>Louisville Metro Police Department</td>\n",
       "      <td>1.223053e+08</td>\n",
       "      <td>1.182766e+08</td>\n",
       "      <td>4028742.06</td>\n",
       "      <td>0.034062</td>\n",
       "    </tr>\n",
       "  </tbody>\n",
       "</table>\n",
       "</div>"
      ],
      "text/plain": [
       "     CalYear                          Department     YTD_Total  Salary_Total  \\\n",
       "19      2019  Louisville Metro Police Department  1.022160e+08  9.862518e+07   \n",
       "56      2020  Louisville Metro Police Department  1.061527e+08  1.040606e+08   \n",
       "93      2021  Louisville Metro Police Department  1.033841e+08  1.020937e+08   \n",
       "130     2022  Louisville Metro Police Department  1.224085e+08  1.051902e+08   \n",
       "175     2023  Louisville Metro Police Department  1.223053e+08  1.182766e+08   \n",
       "\n",
       "     Discrepancy  Discrepancy_Ratio  \n",
       "19    3590832.44           0.036409  \n",
       "56    2092070.71           0.020104  \n",
       "93    1290365.61           0.012639  \n",
       "130  17218319.86           0.163687  \n",
       "175   4028742.06           0.034062  "
      ]
     },
     "execution_count": 80,
     "metadata": {},
     "output_type": "execute_result"
    }
   ],
   "source": [
    "lmpd['Discrepancy'] = lmpd['YTD_Total'] - lmpd['Salary_Total']\n",
    "lmpd['Discrepancy_Ratio'] = lmpd['Discrepancy'] / lmpd['Salary_Total']\n",
    "\n",
    "lmpd"
   ]
  },
  {
   "cell_type": "markdown",
   "metadata": {},
   "source": [
    "In business, a discrepancy ratio between expected salary spend (Salary_Total) and actual salary spend (YTD_Total) typically falls within 0 to 5% as an acceptable range. A discrepancy within this range usually indicates minor variations in salary spending, such as unexpected overtime, temporary staffing, or adjustments to salary levels, which are often manageable within the overall budget. A discrepancy ratio of more than 10% would generally raise concerns, signaling potential overspending on salaries, and would require a deeper investigation into the causes, such as unplanned hiring, excessive overtime, or compensation adjustments.\n",
    "\n",
    "For the Louisville Metro Police Department, the discrepancy ratios from 2019 to 2023 show a range from 0.01 to 0.16. The ratios in 2019, 2020, 2021, and 2023 are all within a 0.01 to 0.04 range, which suggests a relatively small and manageable variance in salary spending. However, the discrepancy ratio for 2022 is significantly higher at 0.16, indicating a 16% overspend on salaries compared to the planned budget for that year. This could point to specific factors in 2022 that led to a sharp increase in salary expenses, such as a one-time hiring initiative, increased overtime costs, or other unforeseen budgetary pressures."
   ]
  },
  {
   "cell_type": "markdown",
   "metadata": {},
   "source": [
    "# LMPD indv level"
   ]
  },
  {
   "cell_type": "code",
   "execution_count": null,
   "metadata": {},
   "outputs": [
    {
     "ename": "FileNotFoundError",
     "evalue": "[Errno 2] No such file or directory: 'data/SalaryData.csv'",
     "output_type": "error",
     "traceback": [
      "\u001b[0;31m---------------------------------------------------------------------------\u001b[0m",
      "\u001b[0;31mFileNotFoundError\u001b[0m                         Traceback (most recent call last)",
      "Cell \u001b[0;32mIn[81], line 1\u001b[0m\n\u001b[0;32m----> 1\u001b[0m indv \u001b[38;5;241m=\u001b[39m \u001b[43mpd\u001b[49m\u001b[38;5;241;43m.\u001b[39;49m\u001b[43mread_csv\u001b[49m\u001b[43m(\u001b[49m\u001b[38;5;124;43m'\u001b[39;49m\u001b[38;5;124;43mdata/SalaryData.csv\u001b[39;49m\u001b[38;5;124;43m'\u001b[39;49m\u001b[43m)\u001b[49m\n",
      "File \u001b[0;32m~/Documents/code/Louisville_stats/venv/lib/python3.12/site-packages/pandas/io/parsers/readers.py:1026\u001b[0m, in \u001b[0;36mread_csv\u001b[0;34m(filepath_or_buffer, sep, delimiter, header, names, index_col, usecols, dtype, engine, converters, true_values, false_values, skipinitialspace, skiprows, skipfooter, nrows, na_values, keep_default_na, na_filter, verbose, skip_blank_lines, parse_dates, infer_datetime_format, keep_date_col, date_parser, date_format, dayfirst, cache_dates, iterator, chunksize, compression, thousands, decimal, lineterminator, quotechar, quoting, doublequote, escapechar, comment, encoding, encoding_errors, dialect, on_bad_lines, delim_whitespace, low_memory, memory_map, float_precision, storage_options, dtype_backend)\u001b[0m\n\u001b[1;32m   1013\u001b[0m kwds_defaults \u001b[38;5;241m=\u001b[39m _refine_defaults_read(\n\u001b[1;32m   1014\u001b[0m     dialect,\n\u001b[1;32m   1015\u001b[0m     delimiter,\n\u001b[0;32m   (...)\u001b[0m\n\u001b[1;32m   1022\u001b[0m     dtype_backend\u001b[38;5;241m=\u001b[39mdtype_backend,\n\u001b[1;32m   1023\u001b[0m )\n\u001b[1;32m   1024\u001b[0m kwds\u001b[38;5;241m.\u001b[39mupdate(kwds_defaults)\n\u001b[0;32m-> 1026\u001b[0m \u001b[38;5;28;01mreturn\u001b[39;00m \u001b[43m_read\u001b[49m\u001b[43m(\u001b[49m\u001b[43mfilepath_or_buffer\u001b[49m\u001b[43m,\u001b[49m\u001b[43m \u001b[49m\u001b[43mkwds\u001b[49m\u001b[43m)\u001b[49m\n",
      "File \u001b[0;32m~/Documents/code/Louisville_stats/venv/lib/python3.12/site-packages/pandas/io/parsers/readers.py:620\u001b[0m, in \u001b[0;36m_read\u001b[0;34m(filepath_or_buffer, kwds)\u001b[0m\n\u001b[1;32m    617\u001b[0m _validate_names(kwds\u001b[38;5;241m.\u001b[39mget(\u001b[38;5;124m\"\u001b[39m\u001b[38;5;124mnames\u001b[39m\u001b[38;5;124m\"\u001b[39m, \u001b[38;5;28;01mNone\u001b[39;00m))\n\u001b[1;32m    619\u001b[0m \u001b[38;5;66;03m# Create the parser.\u001b[39;00m\n\u001b[0;32m--> 620\u001b[0m parser \u001b[38;5;241m=\u001b[39m \u001b[43mTextFileReader\u001b[49m\u001b[43m(\u001b[49m\u001b[43mfilepath_or_buffer\u001b[49m\u001b[43m,\u001b[49m\u001b[43m \u001b[49m\u001b[38;5;241;43m*\u001b[39;49m\u001b[38;5;241;43m*\u001b[39;49m\u001b[43mkwds\u001b[49m\u001b[43m)\u001b[49m\n\u001b[1;32m    622\u001b[0m \u001b[38;5;28;01mif\u001b[39;00m chunksize \u001b[38;5;129;01mor\u001b[39;00m iterator:\n\u001b[1;32m    623\u001b[0m     \u001b[38;5;28;01mreturn\u001b[39;00m parser\n",
      "File \u001b[0;32m~/Documents/code/Louisville_stats/venv/lib/python3.12/site-packages/pandas/io/parsers/readers.py:1620\u001b[0m, in \u001b[0;36mTextFileReader.__init__\u001b[0;34m(self, f, engine, **kwds)\u001b[0m\n\u001b[1;32m   1617\u001b[0m     \u001b[38;5;28mself\u001b[39m\u001b[38;5;241m.\u001b[39moptions[\u001b[38;5;124m\"\u001b[39m\u001b[38;5;124mhas_index_names\u001b[39m\u001b[38;5;124m\"\u001b[39m] \u001b[38;5;241m=\u001b[39m kwds[\u001b[38;5;124m\"\u001b[39m\u001b[38;5;124mhas_index_names\u001b[39m\u001b[38;5;124m\"\u001b[39m]\n\u001b[1;32m   1619\u001b[0m \u001b[38;5;28mself\u001b[39m\u001b[38;5;241m.\u001b[39mhandles: IOHandles \u001b[38;5;241m|\u001b[39m \u001b[38;5;28;01mNone\u001b[39;00m \u001b[38;5;241m=\u001b[39m \u001b[38;5;28;01mNone\u001b[39;00m\n\u001b[0;32m-> 1620\u001b[0m \u001b[38;5;28mself\u001b[39m\u001b[38;5;241m.\u001b[39m_engine \u001b[38;5;241m=\u001b[39m \u001b[38;5;28;43mself\u001b[39;49m\u001b[38;5;241;43m.\u001b[39;49m\u001b[43m_make_engine\u001b[49m\u001b[43m(\u001b[49m\u001b[43mf\u001b[49m\u001b[43m,\u001b[49m\u001b[43m \u001b[49m\u001b[38;5;28;43mself\u001b[39;49m\u001b[38;5;241;43m.\u001b[39;49m\u001b[43mengine\u001b[49m\u001b[43m)\u001b[49m\n",
      "File \u001b[0;32m~/Documents/code/Louisville_stats/venv/lib/python3.12/site-packages/pandas/io/parsers/readers.py:1880\u001b[0m, in \u001b[0;36mTextFileReader._make_engine\u001b[0;34m(self, f, engine)\u001b[0m\n\u001b[1;32m   1878\u001b[0m     \u001b[38;5;28;01mif\u001b[39;00m \u001b[38;5;124m\"\u001b[39m\u001b[38;5;124mb\u001b[39m\u001b[38;5;124m\"\u001b[39m \u001b[38;5;129;01mnot\u001b[39;00m \u001b[38;5;129;01min\u001b[39;00m mode:\n\u001b[1;32m   1879\u001b[0m         mode \u001b[38;5;241m+\u001b[39m\u001b[38;5;241m=\u001b[39m \u001b[38;5;124m\"\u001b[39m\u001b[38;5;124mb\u001b[39m\u001b[38;5;124m\"\u001b[39m\n\u001b[0;32m-> 1880\u001b[0m \u001b[38;5;28mself\u001b[39m\u001b[38;5;241m.\u001b[39mhandles \u001b[38;5;241m=\u001b[39m \u001b[43mget_handle\u001b[49m\u001b[43m(\u001b[49m\n\u001b[1;32m   1881\u001b[0m \u001b[43m    \u001b[49m\u001b[43mf\u001b[49m\u001b[43m,\u001b[49m\n\u001b[1;32m   1882\u001b[0m \u001b[43m    \u001b[49m\u001b[43mmode\u001b[49m\u001b[43m,\u001b[49m\n\u001b[1;32m   1883\u001b[0m \u001b[43m    \u001b[49m\u001b[43mencoding\u001b[49m\u001b[38;5;241;43m=\u001b[39;49m\u001b[38;5;28;43mself\u001b[39;49m\u001b[38;5;241;43m.\u001b[39;49m\u001b[43moptions\u001b[49m\u001b[38;5;241;43m.\u001b[39;49m\u001b[43mget\u001b[49m\u001b[43m(\u001b[49m\u001b[38;5;124;43m\"\u001b[39;49m\u001b[38;5;124;43mencoding\u001b[39;49m\u001b[38;5;124;43m\"\u001b[39;49m\u001b[43m,\u001b[49m\u001b[43m \u001b[49m\u001b[38;5;28;43;01mNone\u001b[39;49;00m\u001b[43m)\u001b[49m\u001b[43m,\u001b[49m\n\u001b[1;32m   1884\u001b[0m \u001b[43m    \u001b[49m\u001b[43mcompression\u001b[49m\u001b[38;5;241;43m=\u001b[39;49m\u001b[38;5;28;43mself\u001b[39;49m\u001b[38;5;241;43m.\u001b[39;49m\u001b[43moptions\u001b[49m\u001b[38;5;241;43m.\u001b[39;49m\u001b[43mget\u001b[49m\u001b[43m(\u001b[49m\u001b[38;5;124;43m\"\u001b[39;49m\u001b[38;5;124;43mcompression\u001b[39;49m\u001b[38;5;124;43m\"\u001b[39;49m\u001b[43m,\u001b[49m\u001b[43m \u001b[49m\u001b[38;5;28;43;01mNone\u001b[39;49;00m\u001b[43m)\u001b[49m\u001b[43m,\u001b[49m\n\u001b[1;32m   1885\u001b[0m \u001b[43m    \u001b[49m\u001b[43mmemory_map\u001b[49m\u001b[38;5;241;43m=\u001b[39;49m\u001b[38;5;28;43mself\u001b[39;49m\u001b[38;5;241;43m.\u001b[39;49m\u001b[43moptions\u001b[49m\u001b[38;5;241;43m.\u001b[39;49m\u001b[43mget\u001b[49m\u001b[43m(\u001b[49m\u001b[38;5;124;43m\"\u001b[39;49m\u001b[38;5;124;43mmemory_map\u001b[39;49m\u001b[38;5;124;43m\"\u001b[39;49m\u001b[43m,\u001b[49m\u001b[43m \u001b[49m\u001b[38;5;28;43;01mFalse\u001b[39;49;00m\u001b[43m)\u001b[49m\u001b[43m,\u001b[49m\n\u001b[1;32m   1886\u001b[0m \u001b[43m    \u001b[49m\u001b[43mis_text\u001b[49m\u001b[38;5;241;43m=\u001b[39;49m\u001b[43mis_text\u001b[49m\u001b[43m,\u001b[49m\n\u001b[1;32m   1887\u001b[0m \u001b[43m    \u001b[49m\u001b[43merrors\u001b[49m\u001b[38;5;241;43m=\u001b[39;49m\u001b[38;5;28;43mself\u001b[39;49m\u001b[38;5;241;43m.\u001b[39;49m\u001b[43moptions\u001b[49m\u001b[38;5;241;43m.\u001b[39;49m\u001b[43mget\u001b[49m\u001b[43m(\u001b[49m\u001b[38;5;124;43m\"\u001b[39;49m\u001b[38;5;124;43mencoding_errors\u001b[39;49m\u001b[38;5;124;43m\"\u001b[39;49m\u001b[43m,\u001b[49m\u001b[43m \u001b[49m\u001b[38;5;124;43m\"\u001b[39;49m\u001b[38;5;124;43mstrict\u001b[39;49m\u001b[38;5;124;43m\"\u001b[39;49m\u001b[43m)\u001b[49m\u001b[43m,\u001b[49m\n\u001b[1;32m   1888\u001b[0m \u001b[43m    \u001b[49m\u001b[43mstorage_options\u001b[49m\u001b[38;5;241;43m=\u001b[39;49m\u001b[38;5;28;43mself\u001b[39;49m\u001b[38;5;241;43m.\u001b[39;49m\u001b[43moptions\u001b[49m\u001b[38;5;241;43m.\u001b[39;49m\u001b[43mget\u001b[49m\u001b[43m(\u001b[49m\u001b[38;5;124;43m\"\u001b[39;49m\u001b[38;5;124;43mstorage_options\u001b[39;49m\u001b[38;5;124;43m\"\u001b[39;49m\u001b[43m,\u001b[49m\u001b[43m \u001b[49m\u001b[38;5;28;43;01mNone\u001b[39;49;00m\u001b[43m)\u001b[49m\u001b[43m,\u001b[49m\n\u001b[1;32m   1889\u001b[0m \u001b[43m\u001b[49m\u001b[43m)\u001b[49m\n\u001b[1;32m   1890\u001b[0m \u001b[38;5;28;01massert\u001b[39;00m \u001b[38;5;28mself\u001b[39m\u001b[38;5;241m.\u001b[39mhandles \u001b[38;5;129;01mis\u001b[39;00m \u001b[38;5;129;01mnot\u001b[39;00m \u001b[38;5;28;01mNone\u001b[39;00m\n\u001b[1;32m   1891\u001b[0m f \u001b[38;5;241m=\u001b[39m \u001b[38;5;28mself\u001b[39m\u001b[38;5;241m.\u001b[39mhandles\u001b[38;5;241m.\u001b[39mhandle\n",
      "File \u001b[0;32m~/Documents/code/Louisville_stats/venv/lib/python3.12/site-packages/pandas/io/common.py:873\u001b[0m, in \u001b[0;36mget_handle\u001b[0;34m(path_or_buf, mode, encoding, compression, memory_map, is_text, errors, storage_options)\u001b[0m\n\u001b[1;32m    868\u001b[0m \u001b[38;5;28;01melif\u001b[39;00m \u001b[38;5;28misinstance\u001b[39m(handle, \u001b[38;5;28mstr\u001b[39m):\n\u001b[1;32m    869\u001b[0m     \u001b[38;5;66;03m# Check whether the filename is to be opened in binary mode.\u001b[39;00m\n\u001b[1;32m    870\u001b[0m     \u001b[38;5;66;03m# Binary mode does not support 'encoding' and 'newline'.\u001b[39;00m\n\u001b[1;32m    871\u001b[0m     \u001b[38;5;28;01mif\u001b[39;00m ioargs\u001b[38;5;241m.\u001b[39mencoding \u001b[38;5;129;01mand\u001b[39;00m \u001b[38;5;124m\"\u001b[39m\u001b[38;5;124mb\u001b[39m\u001b[38;5;124m\"\u001b[39m \u001b[38;5;129;01mnot\u001b[39;00m \u001b[38;5;129;01min\u001b[39;00m ioargs\u001b[38;5;241m.\u001b[39mmode:\n\u001b[1;32m    872\u001b[0m         \u001b[38;5;66;03m# Encoding\u001b[39;00m\n\u001b[0;32m--> 873\u001b[0m         handle \u001b[38;5;241m=\u001b[39m \u001b[38;5;28;43mopen\u001b[39;49m\u001b[43m(\u001b[49m\n\u001b[1;32m    874\u001b[0m \u001b[43m            \u001b[49m\u001b[43mhandle\u001b[49m\u001b[43m,\u001b[49m\n\u001b[1;32m    875\u001b[0m \u001b[43m            \u001b[49m\u001b[43mioargs\u001b[49m\u001b[38;5;241;43m.\u001b[39;49m\u001b[43mmode\u001b[49m\u001b[43m,\u001b[49m\n\u001b[1;32m    876\u001b[0m \u001b[43m            \u001b[49m\u001b[43mencoding\u001b[49m\u001b[38;5;241;43m=\u001b[39;49m\u001b[43mioargs\u001b[49m\u001b[38;5;241;43m.\u001b[39;49m\u001b[43mencoding\u001b[49m\u001b[43m,\u001b[49m\n\u001b[1;32m    877\u001b[0m \u001b[43m            \u001b[49m\u001b[43merrors\u001b[49m\u001b[38;5;241;43m=\u001b[39;49m\u001b[43merrors\u001b[49m\u001b[43m,\u001b[49m\n\u001b[1;32m    878\u001b[0m \u001b[43m            \u001b[49m\u001b[43mnewline\u001b[49m\u001b[38;5;241;43m=\u001b[39;49m\u001b[38;5;124;43m\"\u001b[39;49m\u001b[38;5;124;43m\"\u001b[39;49m\u001b[43m,\u001b[49m\n\u001b[1;32m    879\u001b[0m \u001b[43m        \u001b[49m\u001b[43m)\u001b[49m\n\u001b[1;32m    880\u001b[0m     \u001b[38;5;28;01melse\u001b[39;00m:\n\u001b[1;32m    881\u001b[0m         \u001b[38;5;66;03m# Binary mode\u001b[39;00m\n\u001b[1;32m    882\u001b[0m         handle \u001b[38;5;241m=\u001b[39m \u001b[38;5;28mopen\u001b[39m(handle, ioargs\u001b[38;5;241m.\u001b[39mmode)\n",
      "\u001b[0;31mFileNotFoundError\u001b[0m: [Errno 2] No such file or directory: 'data/SalaryData.csv'"
     ]
    }
   ],
   "source": [
    "indv = pd.read_csv('data/SalaryData.csv')"
   ]
  },
  {
   "cell_type": "code",
   "execution_count": null,
   "metadata": {},
   "outputs": [],
   "source": [
    "cols_to_drop = ['Regular_Rate', 'Overtime_Rate', 'Other', 'ObjectId']\n",
    "indv = indv.drop(columns=cols_to_drop)\n",
    "indv['Salary_Total'] = indv['Annual_Rate'] + indv['Incentive_Allowance']\n",
    "final_drop = ['Annual_Rate', 'Incentive_Allowance']\n",
    "indv = indv.drop(columns=final_drop)\n",
    "indv = indv.fillna(0)\n",
    "indv['Department'] = indv['Department'].replace('Louisville Metro Police', 'Louisville Metro Police Department')\n",
    "indv = indv[indv['CalYear'] != 2024].copy()"
   ]
  },
  {
   "cell_type": "code",
   "execution_count": null,
   "metadata": {},
   "outputs": [],
   "source": [
    "indv = indv[indv['Department'] == 'Louisville Metro Police Department'].copy()\n",
    "# indv.head(2)"
   ]
  },
  {
   "cell_type": "code",
   "execution_count": null,
   "metadata": {},
   "outputs": [],
   "source": [
    "indv['Discrepancy'] = indv['YTD_Total'] - indv['Salary_Total']\n",
    "indv['Discrepancy_Ratio'] = indv['Discrepancy'] / indv['Salary_Total']\n"
   ]
  },
  {
   "cell_type": "code",
   "execution_count": null,
   "metadata": {},
   "outputs": [],
   "source": [
    "indv.head(2)"
   ]
  },
  {
   "cell_type": "markdown",
   "metadata": {},
   "source": [
    "Top 10 Employees with the Highest Discrepancies"
   ]
  },
  {
   "cell_type": "code",
   "execution_count": null,
   "metadata": {},
   "outputs": [],
   "source": [
    "def top_10_discrepancy(indv, enter_year):\n",
    "    # Filter the DataFrame for the given year\n",
    "    indv_year = indv[indv['CalYear'] == enter_year]\n",
    "    \n",
    "    # Sort by 'Discrepancy' in descending order to get the top 10 employees\n",
    "    top_10_employees = indv_year.sort_values(by='Discrepancy_Ratio', ascending=False).head(10)\n",
    "    \n",
    "    # Return the top 10 employees with their discrepancies\n",
    "    return top_10_employees[['CalYear', 'Employee_Name', 'jobTitle', 'Discrepancy', 'Discrepancy_Ratio', 'YTD_Total', 'Salary_Total']]"
   ]
  },
  {
   "cell_type": "code",
   "execution_count": null,
   "metadata": {},
   "outputs": [],
   "source": [
    "# Example usage:\n",
    "top_emp_dis_2019 = top_10_discrepancy(indv, 2021)\n",
    "top_emp_dis_2019"
   ]
  },
  {
   "cell_type": "code",
   "execution_count": null,
   "metadata": {},
   "outputs": [],
   "source": [
    "top_emp_dis_2020 = top_10_discrepancy(indv, 2020)\n",
    "top_emp_dis_2020"
   ]
  },
  {
   "cell_type": "code",
   "execution_count": null,
   "metadata": {},
   "outputs": [],
   "source": [
    "top_emp_dis_2022 = top_10_discrepancy(indv, 2022)\n",
    "top_emp_dis_2022"
   ]
  },
  {
   "cell_type": "markdown",
   "metadata": {},
   "source": [
    "Job Title with the Largest Individual Discrepancy by Year:"
   ]
  },
  {
   "cell_type": "code",
   "execution_count": null,
   "metadata": {},
   "outputs": [],
   "source": [
    "# Group by CalYear and jobTitle to find the row with the largest discrepancy per year\n",
    "largest_discrepancy_by_year = indv.loc[indv.groupby('CalYear')['Discrepancy'].idxmax()]\n",
    "\n",
    "# Display the job title and the corresponding discrepancy\n",
    "largest_discrepancy_by_year[['CalYear', 'jobTitle', 'Discrepancy']]"
   ]
  },
  {
   "cell_type": "markdown",
   "metadata": {},
   "source": [
    "top 10 job titles by avg discrepancy by year"
   ]
  },
  {
   "cell_type": "code",
   "execution_count": null,
   "metadata": {},
   "outputs": [],
   "source": [
    "def top_10_job_titles_by_avg_discrepancy(indv, enter_year):\n",
    "    # Filter the DataFrame for the given year\n",
    "    indv_year = indv[indv['CalYear'] == enter_year]\n",
    "    \n",
    "    # Group by 'jobTitle' and calculate the average 'Discrepancy' for each job title\n",
    "    avg_discrepancy_by_job = indv_year.groupby('jobTitle')['Discrepancy'].mean()\n",
    "    \n",
    "    # Sort by the average 'Discrepancy' in descending order to get the top 10 job titles\n",
    "    top_10_job_titles = avg_discrepancy_by_job.sort_values(ascending=False).head(10)\n",
    "    \n",
    "    # Return the relevant columns (jobTitle and average Discrepancy)\n",
    "    return top_10_job_titles.reset_index()[['jobTitle', 'Discrepancy']]"
   ]
  },
  {
   "cell_type": "code",
   "execution_count": null,
   "metadata": {},
   "outputs": [],
   "source": [
    "# Example usage:\n",
    "top_10_job_titles_by_avg_discrepancy_2023 = top_10_job_titles_by_avg_discrepancy(indv, 2023)\n",
    "top_10_job_titles_by_avg_discrepancy_2023"
   ]
  },
  {
   "cell_type": "markdown",
   "metadata": {},
   "source": [
    "Average Discrepancy per Job Title:"
   ]
  },
  {
   "cell_type": "code",
   "execution_count": null,
   "metadata": {},
   "outputs": [],
   "source": [
    "def avg_discrepancy_by_job(indv):\n",
    "    # Group by 'jobTitle' and calculate the average discrepancy (YTD_Total - Salary_Total)\n",
    "    avg_discrepancy_per_job = indv.groupby('jobTitle')['Discrepancy'].mean()\n",
    "    \n",
    "    # Sort the result by average discrepancy in descending order\n",
    "    avg_discrepancy_per_job_sorted = avg_discrepancy_per_job.sort_values(ascending=False)\n",
    "    \n",
    "    # Return the sorted average discrepancies\n",
    "    return avg_discrepancy_per_job_sorted"
   ]
  },
  {
   "cell_type": "code",
   "execution_count": null,
   "metadata": {},
   "outputs": [],
   "source": [
    "# Example usage:\n",
    "avg_discrepancy = avg_discrepancy_by_job(indv)\n",
    "avg_discrepancy"
   ]
  },
  {
   "cell_type": "code",
   "execution_count": null,
   "metadata": {},
   "outputs": [],
   "source": []
  }
 ],
 "metadata": {
  "kernelspec": {
   "display_name": "venv",
   "language": "python",
   "name": "python3"
  },
  "language_info": {
   "codemirror_mode": {
    "name": "ipython",
    "version": 3
   },
   "file_extension": ".py",
   "mimetype": "text/x-python",
   "name": "python",
   "nbconvert_exporter": "python",
   "pygments_lexer": "ipython3",
   "version": "3.12.2"
  }
 },
 "nbformat": 4,
 "nbformat_minor": 2
}
